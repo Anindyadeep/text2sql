{
 "cells": [
  {
   "cell_type": "markdown",
   "metadata": {},
   "source": [
    "## Datasets\n",
    "\n",
    "premsql datasets helps to use different already available and pre-processed datasets in a simple way. Since Text-to-SQL is a complex task and requires data which has a depdenency of database and tables. \n",
    "\n",
    "premsql datasets provides simple APIs to use those and also helps you to create your own dataset using your own private databases. "
   ]
  },
  {
   "cell_type": "code",
   "execution_count": 1,
   "metadata": {},
   "outputs": [],
   "source": [
    "import os \n",
    "import sys \n",
    "\n",
    "current_dir = os.getcwd()\n",
    "dir_to_use = os.path.abspath(os.path.join(current_dir, \"..\"))\n",
    "sys.path.append(dir_to_use)"
   ]
  },
  {
   "cell_type": "markdown",
   "metadata": {},
   "source": [
    "Currently the following datasets are readily available:\n",
    "\n",
    "1. [BirdBench Dataset](https://huggingface.co/datasets/premai-io/birdbench)\n",
    "2. [Spider Unified Datasets](https://huggingface.co/datasets/premai-io/spider)\n",
    "3. [Domains](https://huggingface.co/datasets/premai-io/domains)\n",
    "4. [Gretel AI Dataset](https://huggingface.co/datasets/gretelai/synthetic_text_to_sql) (A synthetic text to SQL dataset by Gretel AI)\n",
    "\n",
    "Now we are going to see how to use these datasets in a simple way."
   ]
  },
  {
   "cell_type": "code",
   "execution_count": 2,
   "metadata": {},
   "outputs": [
    {
     "name": "stderr",
     "output_type": "stream",
     "text": [
      "2024-09-04 19:35:47,374 - [BIRD-DATASET] - INFO - Loaded Bird Dataset\n"
     ]
    }
   ],
   "source": [
    "from premsql.datasets import Text2SQLDataset\n",
    "from premsql.datasets.utils import print_data\n",
    "# load the bird dataset\n",
    "\n",
    "bird_dataset = Text2SQLDataset(\n",
    "    dataset_name='bird', split=\"train\", force_download=False,\n",
    "    dataset_folder=\"../data\"\n",
    ")"
   ]
  },
  {
   "cell_type": "markdown",
   "metadata": {},
   "source": [
    "Currently, this is just the object which has the raw the data. This object consist of two methods: \n",
    "\n",
    "1. `raw_dataset`: This will return a dict containing the raw data opened form the json file. \n",
    "2. `filters_available`: This will return the list of filters available for the dataset.\n",
    "\n",
    "So for our train dataset here is how we can see the raw data."
   ]
  },
  {
   "cell_type": "code",
   "execution_count": 3,
   "metadata": {},
   "outputs": [
    {
     "data": {
      "text/html": [
       "<pre style=\"white-space:pre;overflow-x:auto;line-height:normal;font-family:Menlo,'DejaVu Sans Mono',consolas,'Courier New',monospace\"></pre>\n"
      ],
      "text/plain": []
     },
     "metadata": {},
     "output_type": "display_data"
    },
    {
     "data": {
      "text/plain": [
       "\n",
       "\u001b[1m{\u001b[0m\n",
       "\u001b[2;32m│   \u001b[0m\u001b[32m'db_id'\u001b[0m: \u001b[32m'movie_platform'\u001b[0m,\n",
       "\u001b[2;32m│   \u001b[0m\u001b[32m'question'\u001b[0m: \u001b[32m'Name movie titles released in year 1945. Sort the listing by the descending order of movie popularity.'\u001b[0m,\n",
       "\u001b[2;32m│   \u001b[0m\u001b[32m'evidence'\u001b[0m: \u001b[32m'released in the year 1945 refers to movie_release_year = 1945;'\u001b[0m,\n",
       "\u001b[2;32m│   \u001b[0m\u001b[32m'SQL'\u001b[0m: \u001b[32m'SELECT movie_title FROM movies WHERE movie_release_year = 1945 ORDER BY movie_popularity DESC LIMIT 1'\u001b[0m\n",
       "\u001b[1m}\u001b[0m"
      ]
     },
     "execution_count": 3,
     "metadata": {},
     "output_type": "execute_result"
    }
   ],
   "source": [
    "raw_bird_training_dataset = bird_dataset.raw_dataset\n",
    "raw_bird_training_dataset[0]"
   ]
  },
  {
   "cell_type": "markdown",
   "metadata": {},
   "source": [
    "Now, we can also see what all filters are available for the dataset. You can simply use `.filters_available` to see the available filters."
   ]
  },
  {
   "cell_type": "code",
   "execution_count": 4,
   "metadata": {},
   "outputs": [
    {
     "data": {
      "text/html": [
       "<pre style=\"white-space:pre;overflow-x:auto;line-height:normal;font-family:Menlo,'DejaVu Sans Mono',consolas,'Courier New',monospace\"></pre>\n"
      ],
      "text/plain": []
     },
     "metadata": {},
     "output_type": "display_data"
    },
    {
     "data": {
      "text/plain": [
       "\u001b[1m[\u001b[0m\u001b[32m'db_id'\u001b[0m\u001b[1m]\u001b[0m"
      ]
     },
     "execution_count": 4,
     "metadata": {},
     "output_type": "execute_result"
    }
   ],
   "source": [
    "bird_dataset.filter_availables"
   ]
  },
  {
   "cell_type": "markdown",
   "metadata": {},
   "source": [
    "Now, in order to load the processed dataset, you can simply call `setup_dataset` method. This will load the processed dataset and return the dataset object. \n",
    "\n",
    "This dataset has certain (optional) methods available for furthur customization:\n",
    "\n",
    "- filter_by: tuple | None: This will filter the dataset based on the given filter.\n",
    "\n",
    "- num_rows: int | None: This will return the number of rows from the dataset.\n",
    "\n",
    "- num_fewshot: int | None: This will determine how many few shot examples to create in the prompt\n",
    "\n",
    "- model_name_or_path: str | None: This will apply the prompt template of the model you choose. For example, if you want to finetune a llama model then it will wrap the prompt with the llama model prompt template.\n",
    "\n",
    "Also if this is not provided then it will not tokenize the dataset. \n",
    "\n",
    "- prompt_template: str | None: If you want to use any other kind of prompt template then you can provide that here. You can check out the default prompt template [here](/premsql/datasets/prompts.py). \n",
    "\n",
    "**Note**:\n",
    "If `model_name_or_path` is provided then it will automatically use the prompt template of that model and tokenize, otherwise it will not."
   ]
  },
  {
   "cell_type": "code",
   "execution_count": 5,
   "metadata": {},
   "outputs": [
    {
     "name": "stderr",
     "output_type": "stream",
     "text": [
      "2024-09-04 19:35:47,403 - [BIRD-DATASET] - INFO - Setting up Bird Dataset\n",
      "Applying prompt: 100%|███████████████████████████████████████████████████████████████████████| 3/3 [00:00<00:00, 2846.81it/s]\n",
      "2024-09-04 19:35:47,795 - [DATASET] - INFO - Casted dataset with model chat template\n",
      "2024-09-04 19:35:47,796 - [DATASET] - INFO - Starting Tokenization ...\n",
      "Tokenizing: 100%|█████████████████████████████████████████████████████████████████████████████| 3/3 [00:00<00:00, 308.34it/s]\n",
      "Tokenizing: 100%|█████████████████████████████████████████████████████████████████████████████| 3/3 [00:00<00:00, 371.85it/s]\n"
     ]
    },
    {
     "data": {
      "text/html": [
       "<pre style=\"white-space:pre;overflow-x:auto;line-height:normal;font-family:Menlo,'DejaVu Sans Mono',consolas,'Courier New',monospace\"></pre>\n"
      ],
      "text/plain": []
     },
     "metadata": {},
     "output_type": "display_data"
    },
    {
     "data": {
      "text/plain": [
       "\n",
       "\u001b[1m{\u001b[0m\n",
       "\u001b[2;32m│   \u001b[0m\u001b[32m'input_ids'\u001b[0m: \u001b[1;35mtensor\u001b[0m\u001b[1m(\u001b[0m\u001b[1m[\u001b[0m\u001b[1;36m32013\u001b[0m, \u001b[1;36m32013\u001b[0m,  \u001b[1;36m2042\u001b[0m,  \u001b[33m...\u001b[0m,   \u001b[1;36m207\u001b[0m,    \u001b[1;36m16\u001b[0m, \u001b[1;36m32021\u001b[0m\u001b[1m]\u001b[0m\u001b[1m)\u001b[0m,\n",
       "\u001b[2;32m│   \u001b[0m\u001b[32m'labels'\u001b[0m: \u001b[1;35mtensor\u001b[0m\u001b[1m(\u001b[0m\u001b[1m[\u001b[0m \u001b[1;36m-100\u001b[0m,  \u001b[1;36m-100\u001b[0m,  \u001b[1;36m-100\u001b[0m,  \u001b[33m...\u001b[0m,   \u001b[1;36m207\u001b[0m,    \u001b[1;36m16\u001b[0m, \u001b[1;36m32021\u001b[0m\u001b[1m]\u001b[0m\u001b[1m)\u001b[0m,\n",
       "\u001b[2;32m│   \u001b[0m\u001b[32m'raw'\u001b[0m: \u001b[1m{\u001b[0m\n",
       "\u001b[2;32m│   │   \u001b[0m\u001b[32m'db_id'\u001b[0m: \u001b[32m'movie_platform'\u001b[0m,\n",
       "\u001b[2;32m│   │   \u001b[0m\u001b[32m'question'\u001b[0m: \u001b[32m'Name movie titles released in year 1945. Sort the listing by the descending order of movie popularity.'\u001b[0m,\n",
       "\u001b[2;32m│   │   \u001b[0m\u001b[32m'evidence'\u001b[0m: \u001b[32m'released in the year 1945 refers to movie_release_year = 1945;'\u001b[0m,\n",
       "\u001b[2;32m│   │   \u001b[0m\u001b[32m'SQL'\u001b[0m: \u001b[32m'SELECT movie_title FROM movies WHERE movie_release_year = 1945 ORDER BY movie_popularity DESC LIMIT 1'\u001b[0m,\n",
       "\u001b[2;32m│   │   \u001b[0m\u001b[32m'db_path'\u001b[0m: \u001b[32m'../data/bird/train/train_databases/movie_platform/movie_platform.sqlite'\u001b[0m,\n",
       "\u001b[2;32m│   │   \u001b[0m\u001b[32m'prompt'\u001b[0m: \u001b[32m'\u001b[0m\u001b[32m<\u001b[0m\u001b[32m｜begin▁of▁sentence｜\u001b[0m\u001b[32m>\u001b[0m\u001b[32mYou are an AI programming assistant, utilizing the Deepseek Coder model, develo....tles released in year 1945. Sort the listing by the descending order of movie popularity.\\n\\n# SQL: \\n\\n'\u001b[0m\n",
       "\u001b[2;32m│   \u001b[0m\u001b[1m}\u001b[0m\n",
       "\u001b[1m}\u001b[0m"
      ]
     },
     "execution_count": 5,
     "metadata": {},
     "output_type": "execute_result"
    }
   ],
   "source": [
    "# Now let's setup the bird dataset \n",
    "\n",
    "bird_dataset = bird_dataset.setup_dataset(\n",
    "    model_name_or_path=\"premai-io/prem-1B-SQL\", \n",
    "    num_fewshot=3, \n",
    "    num_rows=3\n",
    ")\n",
    "\n",
    "print_data(bird_dataset[0])"
   ]
  },
  {
   "cell_type": "markdown",
   "metadata": {},
   "source": [
    "Sometimes tokenization could be time consuming, and it could be computation heavt. So, you can also preview the dataset without even tokenizing first. Here is\n",
    "how you do it. "
   ]
  },
  {
   "cell_type": "code",
   "execution_count": 6,
   "metadata": {},
   "outputs": [
    {
     "name": "stderr",
     "output_type": "stream",
     "text": [
      "2024-09-04 19:35:47,840 - [BIRD-DATASET] - INFO - Loaded Bird Dataset\n",
      "2024-09-04 19:35:47,840 - [BIRD-DATASET] - INFO - Setting up Bird Dataset\n",
      "Applying prompt: 100%|███████████████████████████████████████████████████████████████████████| 3/3 [00:00<00:00, 2420.72it/s]\n"
     ]
    },
    {
     "data": {
      "text/html": [
       "<pre style=\"white-space:pre;overflow-x:auto;line-height:normal;font-family:Menlo,'DejaVu Sans Mono',consolas,'Courier New',monospace\"></pre>\n"
      ],
      "text/plain": []
     },
     "metadata": {},
     "output_type": "display_data"
    },
    {
     "data": {
      "text/plain": [
       "\n",
       "\u001b[1m{\u001b[0m\n",
       "\u001b[2;32m│   \u001b[0m\u001b[32m'db_id'\u001b[0m: \u001b[32m'movie_platform'\u001b[0m,\n",
       "\u001b[2;32m│   \u001b[0m\u001b[32m'question'\u001b[0m: \u001b[32m'Name movie titles released in year 1945. Sort the listing by the descending order of movie popularity.'\u001b[0m,\n",
       "\u001b[2;32m│   \u001b[0m\u001b[32m'evidence'\u001b[0m: \u001b[32m'released in the year 1945 refers to movie_release_year = 1945;'\u001b[0m,\n",
       "\u001b[2;32m│   \u001b[0m\u001b[32m'SQL'\u001b[0m: \u001b[32m'SELECT movie_title FROM movies WHERE movie_release_year = 1945 ORDER BY movie_popularity DESC LIMIT 1'\u001b[0m,\n",
       "\u001b[2;32m│   \u001b[0m\u001b[32m'db_path'\u001b[0m: \u001b[32m'../data/bird/train/train_databases/movie_platform/movie_platform.sqlite'\u001b[0m,\n",
       "\u001b[2;32m│   \u001b[0m\u001b[32m'prompt'\u001b[0m: \u001b[32m'\\n# Follow these instruction:\\nYou will be given schemas of tables of a database. Your job is to write....itles released in year 1945. Sort the listing by the descending order of movie popularity.\\n\\n# SQL: \\n'\u001b[0m\n",
       "\u001b[1m}\u001b[0m"
      ]
     },
     "execution_count": 6,
     "metadata": {},
     "output_type": "execute_result"
    }
   ],
   "source": [
    "bird_dataset_without_tokenization = Text2SQLDataset(\n",
    "    dataset_name='bird', split=\"train\", force_download=False,\n",
    "    dataset_folder=\"../data\"\n",
    ").setup_dataset(\n",
    "    model_name_or_path=None, num_fewshot=3, num_rows=3\n",
    ")\n",
    "\n",
    "print_data(bird_dataset_without_tokenization[0])"
   ]
  },
  {
   "cell_type": "markdown",
   "metadata": {},
   "source": [
    "BirdDataset has two instance, a `train` and `validation` instance. For train dataset, you can only filter by `db_id`. This will only return results which are belonging to that database id. \n",
    "\n",
    "For BirdDevDataset you can filter by `db_id` and `difficulty`. Here is how you load a validation dataset and then filter by `difficulty`. "
   ]
  },
  {
   "cell_type": "code",
   "execution_count": 7,
   "metadata": {},
   "outputs": [
    {
     "name": "stderr",
     "output_type": "stream",
     "text": [
      "2024-09-04 19:35:47,900 - [BIRD-DATASET] - INFO - Loaded Bird Dataset\n",
      "2024-09-04 19:35:47,901 - [BIRD-DATASET] - INFO - Setting up Bird Dataset\n",
      "Applying prompt: 100%|███████████████████████████████████████████████████████████████████| 100/100 [00:00<00:00, 3927.99it/s]\n"
     ]
    },
    {
     "data": {
      "text/html": [
       "<pre style=\"white-space:pre;overflow-x:auto;line-height:normal;font-family:Menlo,'DejaVu Sans Mono',consolas,'Courier New',monospace\"></pre>\n"
      ],
      "text/plain": []
     },
     "metadata": {},
     "output_type": "display_data"
    },
    {
     "data": {
      "text/plain": [
       "\u001b[1;36m100\u001b[0m"
      ]
     },
     "execution_count": 7,
     "metadata": {},
     "output_type": "execute_result"
    }
   ],
   "source": [
    "# Load the BirdBench dev dataset and filter the dataset by \n",
    "# difficulty\n",
    "\n",
    "bird_validation = Text2SQLDataset(\n",
    "    dataset_name='bird', split=\"validation\", force_download=False,\n",
    "    dataset_folder=\"../data\"\n",
    ").setup_dataset(\n",
    "    model_name_or_path=None, \n",
    "    num_fewshot=3, \n",
    "    num_rows=100,\n",
    "    filter_by=(\"difficulty\", \"simple\")\n",
    ")\n",
    "\n",
    "# count the number of examples in the dataset which has \n",
    "# difficulty level as simple\n",
    "\n",
    "len([\n",
    "    example for example in bird_validation \n",
    "    if example[\"difficulty\"] == \"simple\"\n",
    "])"
   ]
  },
  {
   "cell_type": "markdown",
   "metadata": {},
   "source": [
    "Similarly we can also filter by the dataset by `db_id`. "
   ]
  },
  {
   "cell_type": "code",
   "execution_count": 8,
   "metadata": {},
   "outputs": [
    {
     "name": "stderr",
     "output_type": "stream",
     "text": [
      "2024-09-04 19:35:47,945 - [BIRD-DATASET] - INFO - Loaded Bird Dataset\n",
      "2024-09-04 19:35:47,945 - [BIRD-DATASET] - INFO - Setting up Bird Dataset\n",
      "Applying prompt: 100%|█████████████████████████████████████████████████████████████████| 1534/1534 [00:00<00:00, 3733.67it/s]\n",
      "2024-09-04 19:35:48,675 - [DATASET] - INFO - Casted dataset with model chat template\n",
      "2024-09-04 19:35:48,676 - [DATASET] - INFO - Starting Tokenization ...\n",
      "Tokenizing: 100%|███████████████████████████████████████████████████████████████████████| 1534/1534 [00:04<00:00, 364.93it/s]\n",
      "Tokenizing: 100%|███████████████████████████████████████████████████████████████████████| 1534/1534 [00:04<00:00, 369.42it/s]\n"
     ]
    },
    {
     "data": {
      "text/html": [
       "<pre style=\"white-space:pre;overflow-x:auto;line-height:normal;font-family:Menlo,'DejaVu Sans Mono',consolas,'Courier New',monospace\"></pre>\n"
      ],
      "text/plain": []
     },
     "metadata": {},
     "output_type": "display_data"
    },
    {
     "data": {
      "text/plain": [
       "\n",
       "\u001b[1m{\u001b[0m\n",
       "\u001b[2;32m│   \u001b[0m\u001b[32m'input_ids'\u001b[0m: \u001b[1;35mtensor\u001b[0m\u001b[1m(\u001b[0m\u001b[1m[\u001b[0m\u001b[1;36m32013\u001b[0m, \u001b[1;36m32013\u001b[0m,  \u001b[1;36m2042\u001b[0m,  \u001b[33m...\u001b[0m,   \u001b[1;36m207\u001b[0m,    \u001b[1;36m16\u001b[0m, \u001b[1;36m32021\u001b[0m\u001b[1m]\u001b[0m\u001b[1m)\u001b[0m,\n",
       "\u001b[2;32m│   \u001b[0m\u001b[32m'labels'\u001b[0m: \u001b[1;35mtensor\u001b[0m\u001b[1m(\u001b[0m\u001b[1m[\u001b[0m \u001b[1;36m-100\u001b[0m,  \u001b[1;36m-100\u001b[0m,  \u001b[1;36m-100\u001b[0m,  \u001b[33m...\u001b[0m,   \u001b[1;36m207\u001b[0m,    \u001b[1;36m16\u001b[0m, \u001b[1;36m32021\u001b[0m\u001b[1m]\u001b[0m\u001b[1m)\u001b[0m,\n",
       "\u001b[2;32m│   \u001b[0m\u001b[32m'raw'\u001b[0m: \u001b[1m{\u001b[0m\n",
       "\u001b[2;32m│   │   \u001b[0m\u001b[32m'question_id'\u001b[0m: \u001b[1;36m0\u001b[0m,\n",
       "\u001b[2;32m│   │   \u001b[0m\u001b[32m'db_id'\u001b[0m: \u001b[32m'california_schools'\u001b[0m,\n",
       "\u001b[2;32m│   │   \u001b[0m\u001b[32m'question'\u001b[0m: \u001b[32m'What is the highest eligible free rate for K-12 students in the schools in Alameda County?'\u001b[0m,\n",
       "\u001b[2;32m│   │   \u001b[0m\u001b[32m'evidence'\u001b[0m: \u001b[32m'Eligible free rate for K-12 = `Free Meal Count \u001b[0m\u001b[32m(\u001b[0m\u001b[32mK-12\u001b[0m\u001b[32m)\u001b[0m\u001b[32m` / `Enrollment \u001b[0m\u001b[32m(\u001b[0m\u001b[32mK-12\u001b[0m\u001b[32m)\u001b[0m\u001b[32m`'\u001b[0m,\n",
       "\u001b[2;32m│   │   \u001b[0m\u001b[32m'SQL'\u001b[0m: \u001b[32m\"SELECT `Free Meal Count \u001b[0m\u001b[32m(\u001b[0m\u001b[32mK-12\u001b[0m\u001b[32m)\u001b[0m\u001b[32m` / `Enrollment \u001b[0m\u001b[32m(\u001b[0m\u001b[32mK-12\u001b[0m\u001b[32m)\u001b[0m\u001b[32m` FROM frpm WHERE `County Name` = 'Alameda' ORDER BY \u001b[0m\u001b[32m(\u001b[0m\u001b[32mCAST\u001b[0m\u001b[32m(\u001b[0m\u001b[32m`Free Meal Count \u001b[0m\u001b[32m(\u001b[0m\u001b[32mK-12\u001b[0m\u001b[32m)\u001b[0m\u001b[32m` AS REAL\u001b[0m\u001b[32m)\u001b[0m\u001b[32m / `Enrollment \u001b[0m\u001b[32m(\u001b[0m\u001b[32mK-12\u001b[0m\u001b[32m)\u001b[0m\u001b[32m`\u001b[0m\u001b[32m)\u001b[0m\u001b[32m DESC LIMIT 1\"\u001b[0m,\n",
       "\u001b[2;32m│   │   \u001b[0m\u001b[32m'difficulty'\u001b[0m: \u001b[32m'simple'\u001b[0m,\n",
       "\u001b[2;32m│   │   \u001b[0m\u001b[32m'db_path'\u001b[0m: \u001b[32m'../data/bird/validation/dev_databases/california_schools/california_schools.sqlite'\u001b[0m,\n",
       "\u001b[2;32m│   │   \u001b[0m\u001b[32m'prompt'\u001b[0m: \u001b[32m'\u001b[0m\u001b[32m<\u001b[0m\u001b[32m｜begin▁of▁sentence｜\u001b[0m\u001b[32m>\u001b[0m\u001b[32mYou are an AI programming assistant, utilizing the Deepseek Coder model, develo....hat is the highest eligible free rate for K-12 students in the schools in Alameda County?\\n\\n# SQL: \\n\\n'\u001b[0m\n",
       "\u001b[2;32m│   \u001b[0m\u001b[1m}\u001b[0m\n",
       "\u001b[1m}\u001b[0m"
      ]
     },
     "execution_count": 8,
     "metadata": {},
     "output_type": "execute_result"
    }
   ],
   "source": [
    "bird_validation = Text2SQLDataset(\n",
    "    dataset_name='bird', split=\"validation\", force_download=False,\n",
    "    dataset_folder=\"../data\"\n",
    ").setup_dataset(\n",
    "    model_name_or_path=\"premai-io/prem-1B-SQL\",\n",
    ")\n",
    "print_data(bird_validation[0])"
   ]
  },
  {
   "cell_type": "markdown",
   "metadata": {},
   "source": [
    "That's it, thats how easy it is to use the datasets. Similarly you can also use other available datasets"
   ]
  },
  {
   "cell_type": "code",
   "execution_count": 9,
   "metadata": {},
   "outputs": [
    {
     "name": "stderr",
     "output_type": "stream",
     "text": [
      "2024-09-04 19:35:57,783 - [SPIDER-DATASET] - INFO - Loaded Spider Dataset\n",
      "2024-09-04 19:35:57,786 - [SPIDER-DATASET] - INFO - Setting up Spider Dataset\n",
      "Applying prompt: 100%|███████████████████████████████████████████████████████████████████████| 3/3 [00:00<00:00, 2293.22it/s]\n",
      "2024-09-04 19:35:58,266 - [DATASET] - INFO - Casted dataset with model chat template\n",
      "2024-09-04 19:35:58,266 - [DATASET] - INFO - Starting Tokenization ...\n",
      "Tokenizing: 100%|█████████████████████████████████████████████████████████████████████████████| 3/3 [00:00<00:00, 472.86it/s]\n",
      "Tokenizing: 100%|█████████████████████████████████████████████████████████████████████████████| 3/3 [00:00<00:00, 578.37it/s]\n"
     ]
    }
   ],
   "source": [
    "# Loading Spider Dataset\n",
    "\n",
    "spider_dataset = Text2SQLDataset(\n",
    "    dataset_name=\"spider\",\n",
    "    split=\"train\",\n",
    "    dataset_folder=\"../data\",\n",
    ").setup_dataset(\n",
    "    num_fewshot=3,\n",
    "    num_rows=3,\n",
    "    model_name_or_path=\"premai-io/prem-1B-SQL\",\n",
    ")"
   ]
  },
  {
   "cell_type": "code",
   "execution_count": 10,
   "metadata": {},
   "outputs": [
    {
     "name": "stderr",
     "output_type": "stream",
     "text": [
      "2024-09-04 19:35:58,299 - [DOMAINS-DATASET] - INFO - Loaded Domains Dataset\n",
      "2024-09-04 19:35:58,301 - [DOMAINS-DATASET] - INFO - Setting up Domains Dataset\n",
      "Applying prompt: 100%|███████████████████████████████████████████████████████████████████████| 3/3 [00:00<00:00, 2168.72it/s]\n",
      "2024-09-04 19:35:58,655 - [DATASET] - INFO - Casted dataset with model chat template\n",
      "2024-09-04 19:35:58,656 - [DATASET] - INFO - Starting Tokenization ...\n",
      "Tokenizing: 100%|█████████████████████████████████████████████████████████████████████████████| 3/3 [00:00<00:00, 268.16it/s]\n",
      "Tokenizing: 100%|█████████████████████████████████████████████████████████████████████████████| 3/3 [00:00<00:00, 234.70it/s]\n"
     ]
    }
   ],
   "source": [
    "## Loading Domains dataset\n",
    "\n",
    "domains = Text2SQLDataset(\n",
    "    dataset_name=\"domains\",\n",
    "    split=\"train\",\n",
    "    dataset_folder=\"../data\",\n",
    ").setup_dataset(\n",
    "    num_fewshot=3,\n",
    "    num_rows=3,\n",
    "    model_name_or_path=\"premai-io/prem-1B-SQL\",\n",
    ")"
   ]
  },
  {
   "cell_type": "code",
   "execution_count": 11,
   "metadata": {},
   "outputs": [
    {
     "name": "stderr",
     "output_type": "stream",
     "text": [
      "Applying prompt: 100%|███████████████████████████████████████████████████████████████████████| 3/3 [00:00<00:00, 2851.97it/s]\n",
      "2024-09-04 19:35:59,384 - [DATASET] - INFO - Casted dataset with model chat template\n",
      "2024-09-04 19:35:59,385 - [DATASET] - INFO - Starting Tokenization ...\n",
      "Tokenizing: 100%|█████████████████████████████████████████████████████████████████████████████| 3/3 [00:00<00:00, 645.87it/s]\n",
      "Tokenizing: 100%|█████████████████████████████████████████████████████████████████████████████| 3/3 [00:00<00:00, 845.97it/s]\n"
     ]
    }
   ],
   "source": [
    "# Loading Gretel AI Dataset (This is a synthetic dataset)\n",
    "\n",
    "gretel_dataset = Text2SQLDataset(\n",
    "    dataset_name=\"gretel\",\n",
    "    split=\"train\",\n",
    "    dataset_folder=\"../data\",\n",
    ").setup_dataset(\n",
    "    num_fewshot=3,\n",
    "    num_rows=3,\n",
    "    model_name_or_path=\"premai-io/prem-1B-SQL\",\n",
    ")"
   ]
  },
  {
   "cell_type": "code",
   "execution_count": 12,
   "metadata": {},
   "outputs": [
    {
     "data": {
      "text/html": [
       "<pre style=\"white-space:pre;overflow-x:auto;line-height:normal;font-family:Menlo,'DejaVu Sans Mono',consolas,'Courier New',monospace\"></pre>\n"
      ],
      "text/plain": []
     },
     "metadata": {},
     "output_type": "display_data"
    },
    {
     "data": {
      "text/plain": [
       "\n",
       "\u001b[1m{\u001b[0m\n",
       "\u001b[2;32m│   \u001b[0m\u001b[32m'id'\u001b[0m: \u001b[1;36m5097\u001b[0m,\n",
       "\u001b[2;32m│   \u001b[0m\u001b[32m'question'\u001b[0m: \u001b[32m'What is the total volume of timber sold by each salesperson, sorted by salesperson?'\u001b[0m,\n",
       "\u001b[2;32m│   \u001b[0m\u001b[32m'schema'\u001b[0m: \u001b[32m\"CREATE TABLE salesperson \u001b[0m\u001b[32m(\u001b[0m\u001b[32msalesperson_id INT, name TEXT, region TEXT\u001b[0m\u001b[32m)\u001b[0m\u001b[32m; INSERT INTO salesperson \u001b[0m\u001b[32m(\u001b[0m\u001b[32msalesperson_id, name, region\u001b[0m\u001b[32m)\u001b[0m\u001b[32m VALUES \u001b[0m\u001b[32m(\u001b[0m\u001b[32m1, 'John Doe', 'North'\u001b[0m\u001b[32m)\u001b[0m\u001b[32m, \u001b[0m\u001b[32m(\u001b[0m\u001b[32m2, 'Jane Smith', 'South'\u001b[0m\u001b[32m)\u001b[0m\u001b[32m; CREATE TABLE timber_sales \u001b[0m\u001b[32m(\u001b[0m\u001b[32msales_id INT, salesperson_id INT, volume REAL, sale_date DATE\u001b[0m\u001b[32m)\u001b[0m\u001b[32m; INSERT INTO timber_sales \u001b[0m\u001b[32m(\u001b[0m\u001b[32msales_id, salesperson_id, volume, sale_date\u001b[0m\u001b[32m)\u001b[0m\u001b[32m VALUES \u001b[0m\u001b[32m(\u001b[0m\u001b[32m1, 1, 120, '2021-01-01'\u001b[0m\u001b[32m)\u001b[0m\u001b[32m, \u001b[0m\u001b[32m(\u001b[0m\u001b[32m2, 1, 150, '2021-02-01'\u001b[0m\u001b[32m)\u001b[0m\u001b[32m, \u001b[0m\u001b[32m(\u001b[0m\u001b[32m3, 2, 180, '2021-01-01'\u001b[0m\u001b[32m)\u001b[0m\u001b[32m;\"\u001b[0m,\n",
       "\u001b[2;32m│   \u001b[0m\u001b[32m'SQL'\u001b[0m: \u001b[32m'SELECT salesperson_id, name, SUM\u001b[0m\u001b[32m(\u001b[0m\u001b[32mvolume\u001b[0m\u001b[32m)\u001b[0m\u001b[32m as total_volume FROM timber_sales JOIN salesperson ON timber_sales.salesperson_id = salesperson.salesperson_id GROUP BY salesperson_id, name ORDER BY total_volume DESC;'\u001b[0m,\n",
       "\u001b[2;32m│   \u001b[0m\u001b[32m'context'\u001b[0m: \u001b[32m\"CREATE TABLE salesperson \u001b[0m\u001b[32m(\u001b[0m\u001b[32msalesperson_id INT, name TEXT, region TEXT\u001b[0m\u001b[32m)\u001b[0m\u001b[32m; INSERT INTO salesperson \u001b[0m\u001b[32m(\u001b[0m\u001b[32msalesperson_id, name, region\u001b[0m\u001b[32m)\u001b[0m\u001b[32m VALUES \u001b[0m\u001b[32m(\u001b[0m\u001b[32m1, 'John Doe', 'North'\u001b[0m\u001b[32m)\u001b[0m\u001b[32m, \u001b[0m\u001b[32m(\u001b[0m\u001b[32m2, 'Jane Smith', 'South'\u001b[0m\u001b[32m)\u001b[0m\u001b[32m; CREATE TABLE timber_sales \u001b[0m\u001b[32m(\u001b[0m\u001b[32msales_id INT, salesperson_id INT, volume REAL, sale_date DATE\u001b[0m\u001b[32m)\u001b[0m\u001b[32m; INSERT INTO timber_sales \u001b[0m\u001b[32m(\u001b[0m\u001b[32msales_id, salesperson_id, volume, sale_date\u001b[0m\u001b[32m)\u001b[0m\u001b[32m VALUES \u001b[0m\u001b[32m(\u001b[0m\u001b[32m1, 1, 120, '2021-01-01'\u001b[0m\u001b[32m)\u001b[0m\u001b[32m, \u001b[0m\u001b[32m(\u001b[0m\u001b[32m2, 1, 150, '2021-02-01'\u001b[0m\u001b[32m)\u001b[0m\u001b[32m, \u001b[0m\u001b[32m(\u001b[0m\u001b[32m3, 2, 180, '2021-01-01'\u001b[0m\u001b[32m)\u001b[0m\u001b[32m;\"\u001b[0m,\n",
       "\u001b[2;32m│   \u001b[0m\u001b[32m'task_type'\u001b[0m: \u001b[32m'analytics and reporting'\u001b[0m,\n",
       "\u001b[2;32m│   \u001b[0m\u001b[32m'complexity'\u001b[0m: \u001b[32m'single join'\u001b[0m,\n",
       "\u001b[2;32m│   \u001b[0m\u001b[32m'db_id'\u001b[0m: \u001b[32m'forestry'\u001b[0m,\n",
       "\u001b[2;32m│   \u001b[0m\u001b[32m'db_path'\u001b[0m: \u001b[3;35mNone\u001b[0m,\n",
       "\u001b[2;32m│   \u001b[0m\u001b[32m'prompt'\u001b[0m: \u001b[32m'\u001b[0m\u001b[32m<\u001b[0m\u001b[32m｜begin▁of▁sentence｜\u001b[0m\u001b[32m>\u001b[0m\u001b[32mYou are an AI programming assistant, utilizing the Deepseek Coder model, develo....tion: What is the total volume of timber sold by each salesperson, sorted by salesperson?\\n\\n# SQL: \\n\\n'\u001b[0m\n",
       "\u001b[1m}\u001b[0m"
      ]
     },
     "execution_count": 12,
     "metadata": {},
     "output_type": "execute_result"
    }
   ],
   "source": [
    "print_data(gretel_dataset[0][\"raw\"])"
   ]
  },
  {
   "cell_type": "markdown",
   "metadata": {},
   "source": [
    "One of the best things of the premsql datasets is that it supports packing. This means you can pack multiple datasets together and use them as a single dataset. This is very useful when you want to train on multiple datasets."
   ]
  },
  {
   "cell_type": "code",
   "execution_count": 13,
   "metadata": {},
   "outputs": [
    {
     "data": {
      "text/html": [
       "<pre style=\"white-space:pre;overflow-x:auto;line-height:normal;font-family:Menlo,'DejaVu Sans Mono',consolas,'Courier New',monospace\">Length of bird dataset: <span style=\"color: #008080; text-decoration-color: #008080; font-weight: bold\">3</span>\n",
       "</pre>\n"
      ],
      "text/plain": [
       "Length of bird dataset: \u001b[1;36m3\u001b[0m\n"
      ]
     },
     "metadata": {},
     "output_type": "display_data"
    },
    {
     "data": {
      "text/html": [
       "<pre style=\"white-space:pre;overflow-x:auto;line-height:normal;font-family:Menlo,'DejaVu Sans Mono',consolas,'Courier New',monospace\">Length of spider dataset: <span style=\"color: #008080; text-decoration-color: #008080; font-weight: bold\">3</span>\n",
       "</pre>\n"
      ],
      "text/plain": [
       "Length of spider dataset: \u001b[1;36m3\u001b[0m\n"
      ]
     },
     "metadata": {},
     "output_type": "display_data"
    },
    {
     "data": {
      "text/html": [
       "<pre style=\"white-space:pre;overflow-x:auto;line-height:normal;font-family:Menlo,'DejaVu Sans Mono',consolas,'Courier New',monospace\">Length of domains dataset: <span style=\"color: #008080; text-decoration-color: #008080; font-weight: bold\">3</span>\n",
       "</pre>\n"
      ],
      "text/plain": [
       "Length of domains dataset: \u001b[1;36m3\u001b[0m\n"
      ]
     },
     "metadata": {},
     "output_type": "display_data"
    },
    {
     "data": {
      "text/html": [
       "<pre style=\"white-space:pre;overflow-x:auto;line-height:normal;font-family:Menlo,'DejaVu Sans Mono',consolas,'Courier New',monospace\">Length of gretel dataset: <span style=\"color: #008080; text-decoration-color: #008080; font-weight: bold\">3</span>\n",
       "</pre>\n"
      ],
      "text/plain": [
       "Length of gretel dataset: \u001b[1;36m3\u001b[0m\n"
      ]
     },
     "metadata": {},
     "output_type": "display_data"
    },
    {
     "data": {
      "text/html": [
       "<pre style=\"white-space:pre;overflow-x:auto;line-height:normal;font-family:Menlo,'DejaVu Sans Mono',consolas,'Courier New',monospace\">Length of merged dataset: <span style=\"color: #008080; text-decoration-color: #008080; font-weight: bold\">12</span>\n",
       "</pre>\n"
      ],
      "text/plain": [
       "Length of merged dataset: \u001b[1;36m12\u001b[0m\n"
      ]
     },
     "metadata": {},
     "output_type": "display_data"
    }
   ],
   "source": [
    "# Merge all the datasets\n",
    "\n",
    "print(f\"Length of bird dataset: {len(bird_dataset)}\")\n",
    "print(f\"Length of spider dataset: {len(spider_dataset)}\")\n",
    "print(f\"Length of domains dataset: {len(domains)}\")\n",
    "print(f\"Length of gretel dataset: {len(gretel_dataset)}\")\n",
    "\n",
    "merged_dataset = [*bird_dataset, *spider_dataset, *domains, *gretel_dataset]\n",
    "print(f\"Length of merged dataset: {len(merged_dataset)}\")"
   ]
  },
  {
   "cell_type": "code",
   "execution_count": 14,
   "metadata": {},
   "outputs": [
    {
     "data": {
      "text/html": [
       "<pre style=\"white-space:pre;overflow-x:auto;line-height:normal;font-family:Menlo,'DejaVu Sans Mono',consolas,'Courier New',monospace\"></pre>\n"
      ],
      "text/plain": []
     },
     "metadata": {},
     "output_type": "display_data"
    },
    {
     "data": {
      "text/plain": [
       "\n",
       "\u001b[1m{\u001b[0m\n",
       "\u001b[2;32m│   \u001b[0m\u001b[32m'input_ids'\u001b[0m: \u001b[1;35mtensor\u001b[0m\u001b[1m(\u001b[0m\u001b[1m[\u001b[0m\u001b[1;36m32013\u001b[0m, \u001b[1;36m32013\u001b[0m,  \u001b[1;36m2042\u001b[0m,  \u001b[33m...\u001b[0m,   \u001b[1;36m207\u001b[0m,    \u001b[1;36m16\u001b[0m, \u001b[1;36m32021\u001b[0m\u001b[1m]\u001b[0m\u001b[1m)\u001b[0m,\n",
       "\u001b[2;32m│   \u001b[0m\u001b[32m'labels'\u001b[0m: \u001b[1;35mtensor\u001b[0m\u001b[1m(\u001b[0m\u001b[1m[\u001b[0m \u001b[1;36m-100\u001b[0m,  \u001b[1;36m-100\u001b[0m,  \u001b[1;36m-100\u001b[0m,  \u001b[33m...\u001b[0m,   \u001b[1;36m207\u001b[0m,    \u001b[1;36m16\u001b[0m, \u001b[1;36m32021\u001b[0m\u001b[1m]\u001b[0m\u001b[1m)\u001b[0m,\n",
       "\u001b[2;32m│   \u001b[0m\u001b[32m'raw'\u001b[0m: \u001b[1m{\u001b[0m\n",
       "\u001b[2;32m│   │   \u001b[0m\u001b[32m'db_id'\u001b[0m: \u001b[32m'movie_platform'\u001b[0m,\n",
       "\u001b[2;32m│   │   \u001b[0m\u001b[32m'question'\u001b[0m: \u001b[32m'Name movie titles released in year 1945. Sort the listing by the descending order of movie popularity.'\u001b[0m,\n",
       "\u001b[2;32m│   │   \u001b[0m\u001b[32m'evidence'\u001b[0m: \u001b[32m'released in the year 1945 refers to movie_release_year = 1945;'\u001b[0m,\n",
       "\u001b[2;32m│   │   \u001b[0m\u001b[32m'SQL'\u001b[0m: \u001b[32m'SELECT movie_title FROM movies WHERE movie_release_year = 1945 ORDER BY movie_popularity DESC LIMIT 1'\u001b[0m,\n",
       "\u001b[2;32m│   │   \u001b[0m\u001b[32m'db_path'\u001b[0m: \u001b[32m'../data/bird/train/train_databases/movie_platform/movie_platform.sqlite'\u001b[0m,\n",
       "\u001b[2;32m│   │   \u001b[0m\u001b[32m'prompt'\u001b[0m: \u001b[32m'\u001b[0m\u001b[32m<\u001b[0m\u001b[32m｜begin▁of▁sentence｜\u001b[0m\u001b[32m>\u001b[0m\u001b[32mYou are an AI programming assistant, utilizing the Deepseek Coder model, develo....tles released in year 1945. Sort the listing by the descending order of movie popularity.\\n\\n# SQL: \\n\\n'\u001b[0m\n",
       "\u001b[2;32m│   \u001b[0m\u001b[1m}\u001b[0m\n",
       "\u001b[1m}\u001b[0m"
      ]
     },
     "execution_count": 14,
     "metadata": {},
     "output_type": "execute_result"
    }
   ],
   "source": [
    "print_data(merged_dataset[0])"
   ]
  },
  {
   "cell_type": "markdown",
   "metadata": {},
   "source": [
    "### How does a prompt looks like in premsql\n",
    "\n",
    "You might wonder how does a prompt looks like in premsql. This is how a single prompt looks like when wrapped around a model's prompt template. "
   ]
  },
  {
   "cell_type": "code",
   "execution_count": 15,
   "metadata": {},
   "outputs": [
    {
     "data": {
      "text/html": [
       "<pre style=\"white-space:pre;overflow-x:auto;line-height:normal;font-family:Menlo,'DejaVu Sans Mono',consolas,'Courier New',monospace\"><span style=\"font-weight: bold\">&lt;</span><span style=\"color: #000000; text-decoration-color: #000000\">｜begin▁of▁sentence｜</span><span style=\"font-weight: bold\">&gt;</span>You are an AI programming assistant, utilizing the Deepseek Coder model, developed by \n",
       "Deepseek Company, and you only answer questions related to computer science. For politically sensitive questions, \n",
       "security and privacy issues, and other non-computer science questions, you will refuse to answer\n",
       "### Instruction:\n",
       "\n",
       "# Follow these instruction:\n",
       "You will be given schemas of tables of a database. Your job is to write correct\n",
       "error free SQL query based on the question asked. Please make sure:\n",
       "\n",
       "<span style=\"color: #008080; text-decoration-color: #008080; font-weight: bold\">1</span>. Do not add ``` at start <span style=\"color: #800080; text-decoration-color: #800080\">/</span> end of the query. It should be a single line query in a  single line <span style=\"font-weight: bold\">(</span>string format<span style=\"font-weight: bold\">)</span>\n",
       "<span style=\"color: #008080; text-decoration-color: #008080; font-weight: bold\">2</span>. Make sure the column names are correct and exists in the table\n",
       "<span style=\"color: #008080; text-decoration-color: #008080; font-weight: bold\">3</span>. For column names which has a space with it, make sure you have put `` in that column name\n",
       "<span style=\"color: #008080; text-decoration-color: #008080; font-weight: bold\">4</span>. Think step by step and always check schema and question and the column names before writing the\n",
       "query. \n",
       "\n",
       "# Database and Table Schema:\n",
       "CREATE TABLE salesperson <span style=\"font-weight: bold\">(</span>salesperson_id INT, name TEXT, region TEXT<span style=\"font-weight: bold\">)</span>; INSERT INTO salesperson <span style=\"font-weight: bold\">(</span>salesperson_id, \n",
       "name, region<span style=\"font-weight: bold\">)</span> VALUES <span style=\"font-weight: bold\">(</span><span style=\"color: #008080; text-decoration-color: #008080; font-weight: bold\">1</span>, <span style=\"color: #008000; text-decoration-color: #008000\">'John Doe'</span>, <span style=\"color: #008000; text-decoration-color: #008000\">'North'</span><span style=\"font-weight: bold\">)</span>, <span style=\"font-weight: bold\">(</span><span style=\"color: #008080; text-decoration-color: #008080; font-weight: bold\">2</span>, <span style=\"color: #008000; text-decoration-color: #008000\">'Jane Smith'</span>, <span style=\"color: #008000; text-decoration-color: #008000\">'South'</span><span style=\"font-weight: bold\">)</span>; CREATE TABLE timber_sales <span style=\"font-weight: bold\">(</span>sales_id INT,\n",
       "salesperson_id INT, volume REAL, sale_date DATE<span style=\"font-weight: bold\">)</span>; INSERT INTO timber_sales <span style=\"font-weight: bold\">(</span>sales_id, salesperson_id, volume, \n",
       "sale_date<span style=\"font-weight: bold\">)</span> VALUES <span style=\"font-weight: bold\">(</span><span style=\"color: #008080; text-decoration-color: #008080; font-weight: bold\">1</span>, <span style=\"color: #008080; text-decoration-color: #008080; font-weight: bold\">1</span>, <span style=\"color: #008080; text-decoration-color: #008080; font-weight: bold\">120</span>, <span style=\"color: #008000; text-decoration-color: #008000\">'2021-01-01'</span><span style=\"font-weight: bold\">)</span>, <span style=\"font-weight: bold\">(</span><span style=\"color: #008080; text-decoration-color: #008080; font-weight: bold\">2</span>, <span style=\"color: #008080; text-decoration-color: #008080; font-weight: bold\">1</span>, <span style=\"color: #008080; text-decoration-color: #008080; font-weight: bold\">150</span>, <span style=\"color: #008000; text-decoration-color: #008000\">'2021-02-01'</span><span style=\"font-weight: bold\">)</span>, <span style=\"font-weight: bold\">(</span><span style=\"color: #008080; text-decoration-color: #008080; font-weight: bold\">3</span>, <span style=\"color: #008080; text-decoration-color: #008080; font-weight: bold\">2</span>, <span style=\"color: #008080; text-decoration-color: #008080; font-weight: bold\">180</span>, <span style=\"color: #008000; text-decoration-color: #008000\">'2021-01-01'</span><span style=\"font-weight: bold\">)</span>;\n",
       "\n",
       "\n",
       "\n",
       "# Here are some Examples on how to generate SQL statements and use column names:\n",
       "\n",
       "Question: What is the total volume of timber sold by each salesperson, sorted by salesperson?\n",
       "SQL: SELECT salesperson_id, name, <span style=\"color: #800080; text-decoration-color: #800080; font-weight: bold\">SUM</span><span style=\"font-weight: bold\">(</span>volume<span style=\"font-weight: bold\">)</span> as total_volume FROM timber_sales JOIN salesperson ON \n",
       "timber_sales.salesperson_id = salesperson.salesperson_id GROUP BY salesperson_id, name ORDER BY total_volume DESC;\n",
       "\n",
       "\n",
       "# Question: What is the total volume of timber sold by each salesperson, sorted by salesperson?\n",
       "\n",
       "# SQL: \n",
       "\n",
       "\n",
       "</pre>\n"
      ],
      "text/plain": [
       "\u001b[1m<\u001b[0m\u001b[39m｜begin▁of▁sentence｜\u001b[0m\u001b[1m>\u001b[0mYou are an AI programming assistant, utilizing the Deepseek Coder model, developed by \n",
       "Deepseek Company, and you only answer questions related to computer science. For politically sensitive questions, \n",
       "security and privacy issues, and other non-computer science questions, you will refuse to answer\n",
       "### Instruction:\n",
       "\n",
       "# Follow these instruction:\n",
       "You will be given schemas of tables of a database. Your job is to write correct\n",
       "error free SQL query based on the question asked. Please make sure:\n",
       "\n",
       "\u001b[1;36m1\u001b[0m. Do not add ``` at start \u001b[35m/\u001b[0m end of the query. It should be a single line query in a  single line \u001b[1m(\u001b[0mstring format\u001b[1m)\u001b[0m\n",
       "\u001b[1;36m2\u001b[0m. Make sure the column names are correct and exists in the table\n",
       "\u001b[1;36m3\u001b[0m. For column names which has a space with it, make sure you have put `` in that column name\n",
       "\u001b[1;36m4\u001b[0m. Think step by step and always check schema and question and the column names before writing the\n",
       "query. \n",
       "\n",
       "# Database and Table Schema:\n",
       "CREATE TABLE salesperson \u001b[1m(\u001b[0msalesperson_id INT, name TEXT, region TEXT\u001b[1m)\u001b[0m; INSERT INTO salesperson \u001b[1m(\u001b[0msalesperson_id, \n",
       "name, region\u001b[1m)\u001b[0m VALUES \u001b[1m(\u001b[0m\u001b[1;36m1\u001b[0m, \u001b[32m'John Doe'\u001b[0m, \u001b[32m'North'\u001b[0m\u001b[1m)\u001b[0m, \u001b[1m(\u001b[0m\u001b[1;36m2\u001b[0m, \u001b[32m'Jane Smith'\u001b[0m, \u001b[32m'South'\u001b[0m\u001b[1m)\u001b[0m; CREATE TABLE timber_sales \u001b[1m(\u001b[0msales_id INT,\n",
       "salesperson_id INT, volume REAL, sale_date DATE\u001b[1m)\u001b[0m; INSERT INTO timber_sales \u001b[1m(\u001b[0msales_id, salesperson_id, volume, \n",
       "sale_date\u001b[1m)\u001b[0m VALUES \u001b[1m(\u001b[0m\u001b[1;36m1\u001b[0m, \u001b[1;36m1\u001b[0m, \u001b[1;36m120\u001b[0m, \u001b[32m'2021-01-01'\u001b[0m\u001b[1m)\u001b[0m, \u001b[1m(\u001b[0m\u001b[1;36m2\u001b[0m, \u001b[1;36m1\u001b[0m, \u001b[1;36m150\u001b[0m, \u001b[32m'2021-02-01'\u001b[0m\u001b[1m)\u001b[0m, \u001b[1m(\u001b[0m\u001b[1;36m3\u001b[0m, \u001b[1;36m2\u001b[0m, \u001b[1;36m180\u001b[0m, \u001b[32m'2021-01-01'\u001b[0m\u001b[1m)\u001b[0m;\n",
       "\n",
       "\n",
       "\n",
       "# Here are some Examples on how to generate SQL statements and use column names:\n",
       "\n",
       "Question: What is the total volume of timber sold by each salesperson, sorted by salesperson?\n",
       "SQL: SELECT salesperson_id, name, \u001b[1;35mSUM\u001b[0m\u001b[1m(\u001b[0mvolume\u001b[1m)\u001b[0m as total_volume FROM timber_sales JOIN salesperson ON \n",
       "timber_sales.salesperson_id = salesperson.salesperson_id GROUP BY salesperson_id, name ORDER BY total_volume DESC;\n",
       "\n",
       "\n",
       "# Question: What is the total volume of timber sold by each salesperson, sorted by salesperson?\n",
       "\n",
       "# SQL: \n",
       "\n",
       "\n"
      ]
     },
     "metadata": {},
     "output_type": "display_data"
    }
   ],
   "source": [
    "print(gretel_dataset[0][\"raw\"][\"prompt\"])"
   ]
  },
  {
   "cell_type": "markdown",
   "metadata": {},
   "source": [
    "### Creating your own dataset"
   ]
  },
  {
   "cell_type": "markdown",
   "metadata": {},
   "source": [
    "In this section, we are going to see how we can make our own dataset similar like the above. Creating your own dataset could come with several customization and variables. One of the easiest ways to create your own dataset is to simply annotate the dataset in the given file structure:\n",
    "\n",
    "```\n",
    "├── databases\n",
    "│   ├── california_schools\n",
    "│       ├── california_schools.sqlite\n",
    "│   ├── card_games\n",
    "│   ├── codebase_community\n",
    "│   ├── debit_card_specializing\n",
    "│   ├── european_football_2\n",
    "│   ├── financial\n",
    "│   ├── formula_1\n",
    "│   ├── student_club\n",
    "│   ├── superhero\n",
    "│   ├── thrombosis_prediction\n",
    "│   └── toxicology\n",
    "├── train.json  \n",
    "├── validation.json # Optional \n",
    "```\n",
    "\n",
    "The reason we do this hierchy is, in a real world scenerio, we can have \n",
    "multiple databases, and each databases could be multiple tables. So this is how we organize them.\n",
    "\n",
    "Suppose you are saving everything inside `./data` folder then inside that folder you should have a `databases` folder (you can name it something else too) and a `train/validation.json` file. \n",
    "\n",
    "Inside the databases folder you should have multple sub folders where under each sub-folder you should have a `.sqlite` file of the same name. For example: if the db name is `california_schools` then you should have a .sqlite file inside `california_schools` folder. \n",
    "\n",
    "The `train` or `validation` JSON file, should be a list of dictionaries, having the following (required) keys:\n",
    "\n",
    "1. `db_id`: this represent the folder and the `.sqlite` file name.\n",
    "2. `question`: this represent the question asked by the user.\n",
    "3. `SQL`: This is the ground truth SQL.\n",
    "\n",
    "**Please note:** All the keys are case sensitive. Here is an example of a single datapoint. \n",
    "\n",
    "```json\n",
    "\"question_id\": 0,\n",
    "\"db_id\": \"california_schools\",\n",
    "\"question\": \"What is the highest eligible free rate for K-12 students in the schools in Alameda County?\",\n",
    "\"evidence\": \"Eligible free rate for K-12 = `Free Meal Count (K-12)` / `Enrollment (K-12)`\",\n",
    "\"SQL\": \"SELECT `Free Meal Count (K-12)` / `Enrollment (K-12)` FROM frpm WHERE `County Name` = 'Alameda' ORDER BY (CAST(`Free Meal Count (K-12)` AS REAL) / `Enrollment (K-12)`) DESC LIMIT 1\",\n",
    "\"difficulty\": \"simple\"\n",
    "```\n",
    "\n",
    "You can also keep other keys too, those will be automatically used as filter keys. Now you can use the code to automatically load your dataset from the folder. "
   ]
  },
  {
   "cell_type": "code",
   "execution_count": 16,
   "metadata": {},
   "outputs": [],
   "source": [
    "from premsql.datasets import StandardDataset\n",
    "\n",
    "path = \"../data/bird/validation\"\n",
    "dataset = StandardDataset(\n",
    "    split=\"validation\",\n",
    "    dataset_path=path,\n",
    "    database_folder_name=\"dev_databases\",\n",
    "    json_file_name=\"validation.json\",\n",
    ")"
   ]
  },
  {
   "cell_type": "code",
   "execution_count": 17,
   "metadata": {},
   "outputs": [
    {
     "data": {
      "text/html": [
       "<pre style=\"white-space:pre;overflow-x:auto;line-height:normal;font-family:Menlo,'DejaVu Sans Mono',consolas,'Courier New',monospace\"></pre>\n"
      ],
      "text/plain": []
     },
     "metadata": {},
     "output_type": "display_data"
    },
    {
     "data": {
      "text/plain": [
       "\u001b[1m[\u001b[0m\u001b[32m'db_id'\u001b[0m, \u001b[32m'difficulty'\u001b[0m\u001b[1m]\u001b[0m"
      ]
     },
     "execution_count": 17,
     "metadata": {},
     "output_type": "execute_result"
    }
   ],
   "source": [
    "dataset.filter_availables"
   ]
  },
  {
   "cell_type": "markdown",
   "metadata": {},
   "source": [
    "We have loaded our Bird dev database but this time we have used the `StandardDataset` class. A `StandardDataset` class acts like a template for all text2sql compatible datasets when following the above structure. "
   ]
  },
  {
   "cell_type": "markdown",
   "metadata": {},
   "source": [
    "### Towards more customization"
   ]
  },
  {
   "cell_type": "markdown",
   "metadata": {},
   "source": [
    "Last but not the least, there is one more level of customization that you can do while creating text-to-sql datasets. Till now all of these use cases shown above were tightly coupled with `.sqlite` specific databases. However if you:\n",
    "\n",
    "1. have different databases (like postgres or any cloud DB instance)\n",
    "2. or want to have lot of custom logics, before making prompts\n",
    "3. or add more utility on top of premsql\n",
    "\n",
    "This section will help you to achieve that. \n",
    "\n",
    "**Note** In case of the point number one, you can also migrate one subset of the dataset to SQLite. Once you have migrated a subset of your database content to SQLite and have done annotations for that, you can then go for the first route to create a Text2SQL compatible dataset for fine-tuning and inference. \n",
    "\n",
    "If you still want to go for full customization then you can achieve this with three steps. A detailed tutorial on this will be coming on future versions. However in short, you need to define two things for making a premsql fully custom dataset.\n",
    "\n",
    "**DatasetInstance:** A dataset instance helps to operations on individual datapoints. You need to extend `premsql.datasets.base.Text2SQLBaseInstance` class to define your own. Here is how a blueprint looks like:\n",
    "\n",
    "```python\n",
    "\n",
    "class CustomDataInstance(Text2SQLBaseInstance):\n",
    "    def __init__(self, dataset: list[dict]) -> None:\n",
    "        super().__init__(dataset=dataset)\n",
    "\n",
    "    def schema_prompt(self, db_path: str) -> str:\n",
    "        # write your schema prompt here\n",
    "        # you need to fetch the schema from your database\n",
    "        # and format it. For sqlite database it would look\n",
    "        # like this: SELECT sql FROM sqlite_master WHERE type='table' AND name='{table_name}\n",
    "        # check out Text2SQLBaseInstance premsql/datasets/base for more details\n",
    "```\n",
    "\n",
    "Additionally this class some more methods: `additional_prompt` `apply_prompt` those have some db agnostic default implementation, however you can change those too if you want. \n",
    "\n",
    "Once you have your instance defined, you can now define your custom class by inheriting from\n",
    "`premsql.datasets.base.Text2SQLBaseDataset` class, like this:\n",
    "\n",
    "\n",
    "```python\n",
    "class CustomText2SQLDataset(Text2SQLBaseDataset):\n",
    "    def __init__(\n",
    "        self,\n",
    "        split: str,\n",
    "        dataset_folder: Optional[Union[str, Path]] = \"./data\",\n",
    "        hf_token: Optional[str] = None,\n",
    "        force_download: Optional[bool] = False,\n",
    "    ):\n",
    "        # Define your logic here\n",
    "        pass \n",
    "\n",
    "    def setup_dataset(\n",
    "        self,\n",
    "        filter_by: tuple | None = None,\n",
    "        num_rows: int | None = None,\n",
    "        num_fewshot: int | None = None,\n",
    "        model_name_or_path: str | None = None,\n",
    "        prompt_template: str | None = None,\n",
    "    ):\n",
    "        logger.info(\"Setting up Spider Dataset\")\n",
    "        return super().setup_dataset(\n",
    "            filter_by, num_rows, num_fewshot, model_name_or_path, prompt_template\n",
    "        )\n",
    "```\n",
    "\n",
    "Based on your requirements you can define all the necessary things in __init__ method and `setup_dataset` method. You can checkout `Text2SQLBaseDataset` class to see how things are defined. We will roll out a detailed tutorial on how to make a dataset for a different database very soon. "
   ]
  }
 ],
 "metadata": {
  "kernelspec": {
   "display_name": "Python 3 (ipykernel)",
   "language": "python",
   "name": "python3"
  },
  "language_info": {
   "codemirror_mode": {
    "name": "ipython",
    "version": 3
   },
   "file_extension": ".py",
   "mimetype": "text/x-python",
   "name": "python",
   "nbconvert_exporter": "python",
   "pygments_lexer": "ipython3",
   "version": "3.10.14"
  }
 },
 "nbformat": 4,
 "nbformat_minor": 4
}
