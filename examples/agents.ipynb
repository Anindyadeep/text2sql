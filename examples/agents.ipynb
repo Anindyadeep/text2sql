{
 "cells": [
  {
   "cell_type": "code",
   "execution_count": 1,
   "metadata": {},
   "outputs": [
    {
     "name": "stdout",
     "output_type": "stream",
     "text": [
      "/Users/anindya/personal/PremSQL/v2_agent/premsql\n"
     ]
    },
    {
     "name": "stderr",
     "output_type": "stream",
     "text": [
      "/Users/anindya/Library/Caches/pypoetry/virtualenvs/text2sql-jLjiS8B5-py3.11/lib/python3.11/site-packages/IPython/core/magics/osm.py:417: UserWarning: This is now an optional IPython functionality, setting dhist requires you to install the `pickleshare` library.\n",
      "  self.shell.db['dhist'] = compress_dhist(dhist)[-100:]\n"
     ]
    }
   ],
   "source": [
    "cd .."
   ]
  },
  {
   "cell_type": "markdown",
   "metadata": {},
   "source": [
    "## Agents\n",
    "\n",
    "We are all familiar about agents. Simply we can define agents as an orchestrated workflows between different LLMs. In PremSQL we are bringing the very first versions of Text2SQL agents. Agents in PremSQL are made using the available modular components like generators, executors etc. \n",
    "\n",
    "You can even extend agents with your custom logic and workflows with very less number of code using PremSQL. We will explore this in a the coming sections. Agents for Database specific RAGs mainly consist of the following tasks:\n",
    "\n",
    "1. Executing Queries to databases from natural language contexts (a.k.a Text to SQL).\n",
    "2. Analysing the table and giving out insights in natural language. \n",
    "3. Plotting different graphs to draw out relationship between entities from natural language questions. \n",
    "4. A followup which includes error handling of agents and asking followup questions from the user. \n",
    "\n",
    "Additionally we maintain a memory that keep tracks of the previous conversation which it uses as context to get the current result. So to summarise, PremSQL has four \"routes\" that it needs to define before running. Here is a schematic diagram to understand how\n",
    "PremSQL agents works. "
   ]
  },
  {
   "cell_type": "code",
   "execution_count": 2,
   "metadata": {},
   "outputs": [
    {
     "data": {
      "text/html": [
       "<img src=\"../examples/agent_flow.png\" width=\"1000\" height=\"550\">"
      ],
      "text/plain": [
       "<IPython.core.display.HTML object>"
      ]
     },
     "execution_count": 2,
     "metadata": {},
     "output_type": "execute_result"
    }
   ],
   "source": [
    "from IPython.display import HTML\n",
    "HTML('<img src=\"../examples/agent_flow.png\" width=\"1000\" height=\"550\">')\n"
   ]
  },
  {
   "cell_type": "markdown",
   "metadata": {},
   "source": [
    "So in any typical DB based Agentic RAG workflow, the following sequence of event happens:\n",
    "\n",
    "1. user asks a query. In PremSQL if you want to ask a query for:\n",
    "    - for Text to SQL, then use `/query`\n",
    "    - for analysing the output dataframe then use `/analyse` \n",
    "    - for plotting something `/plot`\n",
    "    - anything else goes under `/followup`. If you do not provide these markers, it goes to followup\n",
    "    route by default. We can also implement an \"LLM\" based router, but we think it is an overkill. \n",
    "\n",
    "2. Once user provides a query specificying the proper routes, it goes to the following set of \"Workers\". Workers are the specialized components whose job is to complete one specific task. So each worker has some specific set of output schema. You can learn more about different output schema [here](/premsql/agents/models.py)\n",
    "\n",
    "3. Once the worker processes the input, it provides some output. Then our output parser parses the output and gives back the result to the user. Additionally it updates the memory. \n",
    "\n",
    "### Building on top of Workers\n",
    "\n",
    "So the above workflow is fixed in PremSQL. However you can create your custom Text to SQL / Analyser / Plotter or Followup worker. As long as it adheres with the [output schema](/premsql/agents/models.py), it will be compatible and used with other PremSQL features like Agent Server and Playground. \n",
    "\n",
    "### Now Let's watch Agents in action"
   ]
  },
  {
   "cell_type": "code",
   "execution_count": 3,
   "metadata": {},
   "outputs": [
    {
     "name": "stderr",
     "output_type": "stream",
     "text": [
      "/Users/anindya/Library/Caches/pypoetry/virtualenvs/text2sql-jLjiS8B5-py3.11/lib/python3.11/site-packages/tqdm/auto.py:21: TqdmWarning: IProgress not found. Please update jupyter and ipywidgets. See https://ipywidgets.readthedocs.io/en/stable/user_install.html\n",
      "  from .autonotebook import tqdm as notebook_tqdm\n"
     ]
    }
   ],
   "source": [
    "# Since this demo is done on Mac, so I am using MLX. However same can be done with PremSDK, HF and OpenAI sdk. \n",
    "\n",
    "from premsql.agents import BaseLineAgent\n",
    "from premsql.generators import Text2SQLGeneratorMLX\n",
    "from premsql.executors import ExecutorUsingLangChain\n",
    "from premsql.agents.tools import SimpleMatplotlibTool"
   ]
  },
  {
   "cell_type": "code",
   "execution_count": 4,
   "metadata": {},
   "outputs": [
    {
     "name": "stderr",
     "output_type": "stream",
     "text": [
      "2024-10-28 00:03:38,828 - [GENERATOR] - INFO - Experiment folder found in: experiments/test/text2sql_model\n",
      "Fetching 9 files: 100%|██████████| 9/9 [00:00<00:00, 127100.12it/s]\n",
      "Fetching 9 files: 100%|██████████| 9/9 [00:00<00:00, 76260.07it/s]\n",
      "2024-10-28 00:03:40,709 - [GENERATOR] - INFO - Experiment folder found in: experiments/test/analyser_model\n",
      "Fetching 8 files: 100%|██████████| 8/8 [00:00<00:00, 68900.27it/s]\n",
      "Fetching 8 files: 100%|██████████| 8/8 [00:00<00:00, 57952.39it/s]\n"
     ]
    }
   ],
   "source": [
    "# Define the generator that will do the Text to SQL task\n",
    "\n",
    "text2sql_model = Text2SQLGeneratorMLX(\n",
    "    model_name_or_path=\"premai-io/prem-1B-SQL\", experiment_name=\"text2sql_model\", type=\"test\"\n",
    ")\n",
    "\n",
    "analyser_plotter_model = Text2SQLGeneratorMLX(\n",
    "    model_name_or_path=\"meta-llama/Llama-3.2-1B-Instruct\", experiment_name=\"analyser_model\", type=\"test\",\n",
    ")"
   ]
  },
  {
   "cell_type": "code",
   "execution_count": 5,
   "metadata": {},
   "outputs": [],
   "source": [
    "# Now define your agent\n",
    "db_connection_uri = (\n",
    "    \"sqlite://///Users/anindya/personal/PremSQL/v2_agent/premsql/codebase_community.sqlite\"\n",
    ")\n",
    "\n",
    "baseline = BaseLineAgent(\n",
    "    session_name=\"local_db_rag\",                    # An unique session name must be put\n",
    "    db_connection_uri=db_connection_uri,            # DB which needs to connect for Text to SQL \n",
    "    specialized_model1=text2sql_model,              # This referes to the Text to SQL model\n",
    "    specialized_model2=analyser_plotter_model,      # This refers to any model other than Text to SQL\n",
    "    executor=ExecutorUsingLangChain(),              # Which DB executor to use\n",
    "    auto_filter_tables=False,                       # Whether to filter tables before Text to SQL or not (uses LLM)\n",
    "    plot_tool=SimpleMatplotlibTool()                # Matplotlib Tool which will be used by plotter worker\n",
    ")"
   ]
  },
  {
   "cell_type": "code",
   "execution_count": 6,
   "metadata": {},
   "outputs": [
    {
     "name": "stderr",
     "output_type": "stream",
     "text": [
      "2024-10-28 00:03:42,866 - [BASELINE-ROUTER] - INFO - Routing to: query\n",
      "2024-10-28 00:03:46,238 - [BASELINE-TEXT2SQL-WORKER] - INFO - Taking the following selected table in schema: ['badges', 'comments', 'posts', 'tags', 'users', 'votes']\n",
      "2024-10-28 00:03:49,252 - [PIPELINE-MEMORY] - INFO - Pushed to the database\n"
     ]
    }
   ],
   "source": [
    "output = baseline(\n",
    "    question=\"/query what all tables are present in the database\"\n",
    ")"
   ]
  },
  {
   "cell_type": "code",
   "execution_count": 8,
   "metadata": {},
   "outputs": [
    {
     "data": {
      "text/html": [
       "<div>\n",
       "<style scoped>\n",
       "    .dataframe tbody tr th:only-of-type {\n",
       "        vertical-align: middle;\n",
       "    }\n",
       "\n",
       "    .dataframe tbody tr th {\n",
       "        vertical-align: top;\n",
       "    }\n",
       "\n",
       "    .dataframe thead th {\n",
       "        text-align: right;\n",
       "    }\n",
       "</style>\n",
       "<table border=\"1\" class=\"dataframe\">\n",
       "  <thead>\n",
       "    <tr style=\"text-align: right;\">\n",
       "      <th></th>\n",
       "      <th>type</th>\n",
       "      <th>name</th>\n",
       "      <th>tbl_name</th>\n",
       "      <th>rootpage</th>\n",
       "      <th>sql</th>\n",
       "    </tr>\n",
       "  </thead>\n",
       "  <tbody>\n",
       "    <tr>\n",
       "      <th>0</th>\n",
       "      <td>table</td>\n",
       "      <td>badges</td>\n",
       "      <td>badges</td>\n",
       "      <td>4</td>\n",
       "      <td>CREATE TABLE badges\\n(\\n    Id     INTEGER    ...</td>\n",
       "    </tr>\n",
       "    <tr>\n",
       "      <th>1</th>\n",
       "      <td>table</td>\n",
       "      <td>comments</td>\n",
       "      <td>comments</td>\n",
       "      <td>5645</td>\n",
       "      <td>CREATE TABLE comments\\n(\\n    Id              ...</td>\n",
       "    </tr>\n",
       "    <tr>\n",
       "      <th>2</th>\n",
       "      <td>table</td>\n",
       "      <td>postHistory</td>\n",
       "      <td>postHistory</td>\n",
       "      <td>5646</td>\n",
       "      <td>CREATE TABLE postHistory\\n(\\n    Id           ...</td>\n",
       "    </tr>\n",
       "    <tr>\n",
       "      <th>3</th>\n",
       "      <td>index</td>\n",
       "      <td>sqlite_autoindex_postHistory_1</td>\n",
       "      <td>postHistory</td>\n",
       "      <td>5647</td>\n",
       "      <td>None</td>\n",
       "    </tr>\n",
       "    <tr>\n",
       "      <th>4</th>\n",
       "      <td>table</td>\n",
       "      <td>postLinks</td>\n",
       "      <td>postLinks</td>\n",
       "      <td>5648</td>\n",
       "      <td>CREATE TABLE postLinks\\n(\\n    Id            I...</td>\n",
       "    </tr>\n",
       "    <tr>\n",
       "      <th>5</th>\n",
       "      <td>table</td>\n",
       "      <td>posts</td>\n",
       "      <td>posts</td>\n",
       "      <td>5649</td>\n",
       "      <td>CREATE TABLE posts\\n(\\n    Id                 ...</td>\n",
       "    </tr>\n",
       "    <tr>\n",
       "      <th>6</th>\n",
       "      <td>index</td>\n",
       "      <td>sqlite_autoindex_posts_1</td>\n",
       "      <td>posts</td>\n",
       "      <td>5650</td>\n",
       "      <td>None</td>\n",
       "    </tr>\n",
       "    <tr>\n",
       "      <th>7</th>\n",
       "      <td>table</td>\n",
       "      <td>tags</td>\n",
       "      <td>tags</td>\n",
       "      <td>5651</td>\n",
       "      <td>CREATE TABLE tags\\n(\\n    Id            INTEGE...</td>\n",
       "    </tr>\n",
       "    <tr>\n",
       "      <th>8</th>\n",
       "      <td>table</td>\n",
       "      <td>users</td>\n",
       "      <td>users</td>\n",
       "      <td>5652</td>\n",
       "      <td>CREATE TABLE users\\n(\\n    Id              INT...</td>\n",
       "    </tr>\n",
       "    <tr>\n",
       "      <th>9</th>\n",
       "      <td>index</td>\n",
       "      <td>sqlite_autoindex_users_1</td>\n",
       "      <td>users</td>\n",
       "      <td>5653</td>\n",
       "      <td>None</td>\n",
       "    </tr>\n",
       "    <tr>\n",
       "      <th>10</th>\n",
       "      <td>table</td>\n",
       "      <td>votes</td>\n",
       "      <td>votes</td>\n",
       "      <td>5656</td>\n",
       "      <td>CREATE TABLE votes\\n(\\n    Id           INTEGE...</td>\n",
       "    </tr>\n",
       "  </tbody>\n",
       "</table>\n",
       "</div>"
      ],
      "text/plain": [
       "     type                            name     tbl_name  rootpage  \\\n",
       "0   table                          badges       badges         4   \n",
       "1   table                        comments     comments      5645   \n",
       "2   table                     postHistory  postHistory      5646   \n",
       "3   index  sqlite_autoindex_postHistory_1  postHistory      5647   \n",
       "4   table                       postLinks    postLinks      5648   \n",
       "5   table                           posts        posts      5649   \n",
       "6   index        sqlite_autoindex_posts_1        posts      5650   \n",
       "7   table                            tags         tags      5651   \n",
       "8   table                           users        users      5652   \n",
       "9   index        sqlite_autoindex_users_1        users      5653   \n",
       "10  table                           votes        votes      5656   \n",
       "\n",
       "                                                  sql  \n",
       "0   CREATE TABLE badges\\n(\\n    Id     INTEGER    ...  \n",
       "1   CREATE TABLE comments\\n(\\n    Id              ...  \n",
       "2   CREATE TABLE postHistory\\n(\\n    Id           ...  \n",
       "3                                                None  \n",
       "4   CREATE TABLE postLinks\\n(\\n    Id            I...  \n",
       "5   CREATE TABLE posts\\n(\\n    Id                 ...  \n",
       "6                                                None  \n",
       "7   CREATE TABLE tags\\n(\\n    Id            INTEGE...  \n",
       "8   CREATE TABLE users\\n(\\n    Id              INT...  \n",
       "9                                                None  \n",
       "10  CREATE TABLE votes\\n(\\n    Id           INTEGE...  "
      ]
     },
     "execution_count": 8,
     "metadata": {},
     "output_type": "execute_result"
    }
   ],
   "source": [
    "output.show_output_dataframe()"
   ]
  },
  {
   "cell_type": "code",
   "execution_count": 9,
   "metadata": {},
   "outputs": [
    {
     "name": "stderr",
     "output_type": "stream",
     "text": [
      "2024-10-28 00:04:50,910 - [BASELINE-ROUTER] - INFO - Routing to: analyse\n",
      "2024-10-28 00:04:56,051 - [PIPELINE-MEMORY] - INFO - Pushed to the database\n"
     ]
    }
   ],
   "source": [
    "analysis = baseline(\n",
    "    question=\"/analyse Which tables I should use for understand relation about user votes\"\n",
    ")"
   ]
  },
  {
   "cell_type": "code",
   "execution_count": 10,
   "metadata": {},
   "outputs": [
    {
     "data": {
      "text/plain": [
       "'Use the votes table to understand the relation about user votes.'"
      ]
     },
     "execution_count": 10,
     "metadata": {},
     "output_type": "execute_result"
    }
   ],
   "source": [
    "analysis.analysis"
   ]
  },
  {
   "cell_type": "code",
   "execution_count": 11,
   "metadata": {},
   "outputs": [
    {
     "name": "stderr",
     "output_type": "stream",
     "text": [
      "2024-10-28 00:05:45,790 - [BASELINE-ROUTER] - INFO - Routing to: query\n",
      "2024-10-28 00:05:48,085 - [BASELINE-TEXT2SQL-WORKER] - INFO - Taking the following selected table in schema: ['votes']\n",
      "2024-10-28 00:05:48,704 - [PIPELINE-MEMORY] - INFO - Pushed to the database\n"
     ]
    }
   ],
   "source": [
    "output = baseline(\n",
    "    question=\"/query show me the first 10 rows in votes\"\n",
    ")"
   ]
  },
  {
   "cell_type": "code",
   "execution_count": 12,
   "metadata": {},
   "outputs": [
    {
     "data": {
      "text/html": [
       "<div>\n",
       "<style scoped>\n",
       "    .dataframe tbody tr th:only-of-type {\n",
       "        vertical-align: middle;\n",
       "    }\n",
       "\n",
       "    .dataframe tbody tr th {\n",
       "        vertical-align: top;\n",
       "    }\n",
       "\n",
       "    .dataframe thead th {\n",
       "        text-align: right;\n",
       "    }\n",
       "</style>\n",
       "<table border=\"1\" class=\"dataframe\">\n",
       "  <thead>\n",
       "    <tr style=\"text-align: right;\">\n",
       "      <th></th>\n",
       "      <th>Id</th>\n",
       "      <th>PostId</th>\n",
       "      <th>VoteTypeId</th>\n",
       "      <th>CreationDate</th>\n",
       "      <th>UserId</th>\n",
       "      <th>BountyAmount</th>\n",
       "    </tr>\n",
       "  </thead>\n",
       "  <tbody>\n",
       "    <tr>\n",
       "      <th>0</th>\n",
       "      <td>1</td>\n",
       "      <td>3</td>\n",
       "      <td>2</td>\n",
       "      <td>2010-07-19</td>\n",
       "      <td>None</td>\n",
       "      <td>None</td>\n",
       "    </tr>\n",
       "    <tr>\n",
       "      <th>1</th>\n",
       "      <td>2</td>\n",
       "      <td>2</td>\n",
       "      <td>2</td>\n",
       "      <td>2010-07-19</td>\n",
       "      <td>None</td>\n",
       "      <td>None</td>\n",
       "    </tr>\n",
       "    <tr>\n",
       "      <th>2</th>\n",
       "      <td>3</td>\n",
       "      <td>5</td>\n",
       "      <td>2</td>\n",
       "      <td>2010-07-19</td>\n",
       "      <td>None</td>\n",
       "      <td>None</td>\n",
       "    </tr>\n",
       "    <tr>\n",
       "      <th>3</th>\n",
       "      <td>4</td>\n",
       "      <td>5</td>\n",
       "      <td>2</td>\n",
       "      <td>2010-07-19</td>\n",
       "      <td>None</td>\n",
       "      <td>None</td>\n",
       "    </tr>\n",
       "    <tr>\n",
       "      <th>4</th>\n",
       "      <td>5</td>\n",
       "      <td>3</td>\n",
       "      <td>2</td>\n",
       "      <td>2010-07-19</td>\n",
       "      <td>None</td>\n",
       "      <td>None</td>\n",
       "    </tr>\n",
       "    <tr>\n",
       "      <th>5</th>\n",
       "      <td>6</td>\n",
       "      <td>4</td>\n",
       "      <td>2</td>\n",
       "      <td>2010-07-19</td>\n",
       "      <td>None</td>\n",
       "      <td>None</td>\n",
       "    </tr>\n",
       "    <tr>\n",
       "      <th>6</th>\n",
       "      <td>7</td>\n",
       "      <td>2</td>\n",
       "      <td>2</td>\n",
       "      <td>2010-07-19</td>\n",
       "      <td>None</td>\n",
       "      <td>None</td>\n",
       "    </tr>\n",
       "    <tr>\n",
       "      <th>7</th>\n",
       "      <td>10</td>\n",
       "      <td>3</td>\n",
       "      <td>2</td>\n",
       "      <td>2010-07-19</td>\n",
       "      <td>None</td>\n",
       "      <td>None</td>\n",
       "    </tr>\n",
       "    <tr>\n",
       "      <th>8</th>\n",
       "      <td>11</td>\n",
       "      <td>5</td>\n",
       "      <td>2</td>\n",
       "      <td>2010-07-19</td>\n",
       "      <td>None</td>\n",
       "      <td>None</td>\n",
       "    </tr>\n",
       "    <tr>\n",
       "      <th>9</th>\n",
       "      <td>12</td>\n",
       "      <td>6</td>\n",
       "      <td>2</td>\n",
       "      <td>2010-07-19</td>\n",
       "      <td>None</td>\n",
       "      <td>None</td>\n",
       "    </tr>\n",
       "  </tbody>\n",
       "</table>\n",
       "</div>"
      ],
      "text/plain": [
       "   Id  PostId  VoteTypeId CreationDate UserId BountyAmount\n",
       "0   1       3           2   2010-07-19   None         None\n",
       "1   2       2           2   2010-07-19   None         None\n",
       "2   3       5           2   2010-07-19   None         None\n",
       "3   4       5           2   2010-07-19   None         None\n",
       "4   5       3           2   2010-07-19   None         None\n",
       "5   6       4           2   2010-07-19   None         None\n",
       "6   7       2           2   2010-07-19   None         None\n",
       "7  10       3           2   2010-07-19   None         None\n",
       "8  11       5           2   2010-07-19   None         None\n",
       "9  12       6           2   2010-07-19   None         None"
      ]
     },
     "execution_count": 12,
     "metadata": {},
     "output_type": "execute_result"
    }
   ],
   "source": [
    "output.show_output_dataframe()"
   ]
  },
  {
   "cell_type": "code",
   "execution_count": 13,
   "metadata": {},
   "outputs": [
    {
     "data": {
      "text/plain": [
       "'SELECT * FROM votes LIMIT 10;'"
      ]
     },
     "execution_count": 13,
     "metadata": {},
     "output_type": "execute_result"
    }
   ],
   "source": [
    "# You can also see what was the SQL used\n",
    "output.sql_string"
   ]
  },
  {
   "cell_type": "code",
   "execution_count": 16,
   "metadata": {},
   "outputs": [
    {
     "name": "stderr",
     "output_type": "stream",
     "text": [
      "2024-10-28 00:07:39,085 - [BASELINE-ROUTER] - INFO - Routing to: query\n",
      "2024-10-28 00:07:42,631 - [BASELINE-TEXT2SQL-WORKER] - INFO - Error while selecting table: 'include'\n",
      "2024-10-28 00:07:42,632 - [BASELINE-TEXT2SQL-WORKER] - INFO - Taking the following selected table in schema: ['votes']\n",
      "2024-10-28 00:07:43,507 - [PIPELINE-MEMORY] - INFO - Pushed to the database\n"
     ]
    }
   ],
   "source": [
    "output = baseline(\"/query what is the max and min value of creation date in votes\")"
   ]
  },
  {
   "cell_type": "code",
   "execution_count": 17,
   "metadata": {},
   "outputs": [
    {
     "data": {
      "text/html": [
       "<div>\n",
       "<style scoped>\n",
       "    .dataframe tbody tr th:only-of-type {\n",
       "        vertical-align: middle;\n",
       "    }\n",
       "\n",
       "    .dataframe tbody tr th {\n",
       "        vertical-align: top;\n",
       "    }\n",
       "\n",
       "    .dataframe thead th {\n",
       "        text-align: right;\n",
       "    }\n",
       "</style>\n",
       "<table border=\"1\" class=\"dataframe\">\n",
       "  <thead>\n",
       "    <tr style=\"text-align: right;\">\n",
       "      <th></th>\n",
       "      <th>max(CreationDate)</th>\n",
       "      <th>min(CreationDate)</th>\n",
       "    </tr>\n",
       "  </thead>\n",
       "  <tbody>\n",
       "    <tr>\n",
       "      <th>0</th>\n",
       "      <td>2011-05-01</td>\n",
       "      <td>2010-07-19</td>\n",
       "    </tr>\n",
       "  </tbody>\n",
       "</table>\n",
       "</div>"
      ],
      "text/plain": [
       "  max(CreationDate) min(CreationDate)\n",
       "0        2011-05-01        2010-07-19"
      ]
     },
     "execution_count": 17,
     "metadata": {},
     "output_type": "execute_result"
    }
   ],
   "source": [
    "output.show_output_dataframe()"
   ]
  },
  {
   "cell_type": "code",
   "execution_count": 18,
   "metadata": {},
   "outputs": [
    {
     "name": "stderr",
     "output_type": "stream",
     "text": [
      "2024-10-28 00:08:46,680 - [BASELINE-ROUTER] - INFO - Routing to: query\n",
      "2024-10-28 00:08:48,365 - [BASELINE-TEXT2SQL-WORKER] - INFO - Taking the following selected table in schema: ['votes']\n",
      "2024-10-28 00:08:49,891 - [PIPELINE-UTILS] - INFO - Truncating output table to first 200 rows only\n",
      "2024-10-28 00:08:49,893 - [PIPELINE-MEMORY] - INFO - Pushed to the database\n"
     ]
    }
   ],
   "source": [
    "output = baseline(\"/query show me all the rows in votes where creation date was in the month of march 2011\")"
   ]
  },
  {
   "cell_type": "code",
   "execution_count": 19,
   "metadata": {},
   "outputs": [
    {
     "data": {
      "text/html": [
       "<div>\n",
       "<style scoped>\n",
       "    .dataframe tbody tr th:only-of-type {\n",
       "        vertical-align: middle;\n",
       "    }\n",
       "\n",
       "    .dataframe tbody tr th {\n",
       "        vertical-align: top;\n",
       "    }\n",
       "\n",
       "    .dataframe thead th {\n",
       "        text-align: right;\n",
       "    }\n",
       "</style>\n",
       "<table border=\"1\" class=\"dataframe\">\n",
       "  <thead>\n",
       "    <tr style=\"text-align: right;\">\n",
       "      <th></th>\n",
       "      <th>Id</th>\n",
       "      <th>PostId</th>\n",
       "      <th>VoteTypeId</th>\n",
       "      <th>CreationDate</th>\n",
       "      <th>UserId</th>\n",
       "      <th>BountyAmount</th>\n",
       "    </tr>\n",
       "  </thead>\n",
       "  <tbody>\n",
       "    <tr>\n",
       "      <th>0</th>\n",
       "      <td>33262</td>\n",
       "      <td>7672</td>\n",
       "      <td>2</td>\n",
       "      <td>2011-03-01</td>\n",
       "      <td>NaN</td>\n",
       "      <td>NaN</td>\n",
       "    </tr>\n",
       "    <tr>\n",
       "      <th>1</th>\n",
       "      <td>33263</td>\n",
       "      <td>7648</td>\n",
       "      <td>2</td>\n",
       "      <td>2011-03-01</td>\n",
       "      <td>NaN</td>\n",
       "      <td>NaN</td>\n",
       "    </tr>\n",
       "    <tr>\n",
       "      <th>2</th>\n",
       "      <td>33264</td>\n",
       "      <td>7721</td>\n",
       "      <td>2</td>\n",
       "      <td>2011-03-01</td>\n",
       "      <td>NaN</td>\n",
       "      <td>NaN</td>\n",
       "    </tr>\n",
       "    <tr>\n",
       "      <th>3</th>\n",
       "      <td>33265</td>\n",
       "      <td>7674</td>\n",
       "      <td>2</td>\n",
       "      <td>2011-03-01</td>\n",
       "      <td>NaN</td>\n",
       "      <td>NaN</td>\n",
       "    </tr>\n",
       "    <tr>\n",
       "      <th>4</th>\n",
       "      <td>33266</td>\n",
       "      <td>7687</td>\n",
       "      <td>2</td>\n",
       "      <td>2011-03-01</td>\n",
       "      <td>NaN</td>\n",
       "      <td>NaN</td>\n",
       "    </tr>\n",
       "    <tr>\n",
       "      <th>...</th>\n",
       "      <td>...</td>\n",
       "      <td>...</td>\n",
       "      <td>...</td>\n",
       "      <td>...</td>\n",
       "      <td>...</td>\n",
       "      <td>...</td>\n",
       "    </tr>\n",
       "    <tr>\n",
       "      <th>195</th>\n",
       "      <td>33483</td>\n",
       "      <td>1164</td>\n",
       "      <td>2</td>\n",
       "      <td>2011-03-02</td>\n",
       "      <td>NaN</td>\n",
       "      <td>NaN</td>\n",
       "    </tr>\n",
       "    <tr>\n",
       "      <th>196</th>\n",
       "      <td>33484</td>\n",
       "      <td>1164</td>\n",
       "      <td>5</td>\n",
       "      <td>2011-03-02</td>\n",
       "      <td>1720.0</td>\n",
       "      <td>NaN</td>\n",
       "    </tr>\n",
       "    <tr>\n",
       "      <th>197</th>\n",
       "      <td>33485</td>\n",
       "      <td>5591</td>\n",
       "      <td>2</td>\n",
       "      <td>2011-03-02</td>\n",
       "      <td>NaN</td>\n",
       "      <td>NaN</td>\n",
       "    </tr>\n",
       "    <tr>\n",
       "      <th>198</th>\n",
       "      <td>33486</td>\n",
       "      <td>5591</td>\n",
       "      <td>5</td>\n",
       "      <td>2011-03-02</td>\n",
       "      <td>1720.0</td>\n",
       "      <td>NaN</td>\n",
       "    </tr>\n",
       "    <tr>\n",
       "      <th>199</th>\n",
       "      <td>33487</td>\n",
       "      <td>7764</td>\n",
       "      <td>2</td>\n",
       "      <td>2011-03-02</td>\n",
       "      <td>NaN</td>\n",
       "      <td>NaN</td>\n",
       "    </tr>\n",
       "  </tbody>\n",
       "</table>\n",
       "<p>200 rows × 6 columns</p>\n",
       "</div>"
      ],
      "text/plain": [
       "        Id  PostId  VoteTypeId CreationDate  UserId  BountyAmount\n",
       "0    33262    7672           2   2011-03-01     NaN           NaN\n",
       "1    33263    7648           2   2011-03-01     NaN           NaN\n",
       "2    33264    7721           2   2011-03-01     NaN           NaN\n",
       "3    33265    7674           2   2011-03-01     NaN           NaN\n",
       "4    33266    7687           2   2011-03-01     NaN           NaN\n",
       "..     ...     ...         ...          ...     ...           ...\n",
       "195  33483    1164           2   2011-03-02     NaN           NaN\n",
       "196  33484    1164           5   2011-03-02  1720.0           NaN\n",
       "197  33485    5591           2   2011-03-02     NaN           NaN\n",
       "198  33486    5591           5   2011-03-02  1720.0           NaN\n",
       "199  33487    7764           2   2011-03-02     NaN           NaN\n",
       "\n",
       "[200 rows x 6 columns]"
      ]
     },
     "execution_count": 19,
     "metadata": {},
     "output_type": "execute_result"
    }
   ],
   "source": [
    "output.show_output_dataframe()"
   ]
  },
  {
   "cell_type": "code",
   "execution_count": 21,
   "metadata": {},
   "outputs": [
    {
     "name": "stderr",
     "output_type": "stream",
     "text": [
      "2024-10-28 00:10:06,403 - [BASELINE-ROUTER] - INFO - Routing to: plot\n",
      "2024-10-28 00:10:06,407 - [PLOT-WORKER] - INFO - Going for generation\n",
      "2024-10-28 00:10:07,197 - [PLOT-WORKER] - INFO - Plot config: {'x': 'VoteTypeId', 'y': 'CreationDate', 'plot_type': 'scatter'}\n",
      "2024-10-28 00:10:07,274 - [PLOT-WORKER] - INFO - Done base64 conversion\n",
      "2024-10-28 00:10:07,276 - [PIPELINE-MEMORY] - INFO - Pushed to the database\n"
     ]
    },
    {
     "data": {
      "image/png": "[encoded data removed]",
      "text/plain": [
       "<Figure size 1000x600 with 1 Axes>"
      ]
     },
     "metadata": {},
     "output_type": "display_data"
    }
   ],
   "source": [
    "# Now let's plot a time series between creation date and vote type id\n",
    "\n",
    "plot = baseline(question=\"/plot a relation between vote type and creation date in scatter\")"
   ]
  },
  {
   "cell_type": "markdown",
   "metadata": {},
   "source": [
    "Super cool right? Remmember, all of these things are done locally in a single MacBook M3 Pro. We are loading two 1B parameter model and seeing the magic at the same levels of GPT-3.5 and so on. However PremSQL also supports closed models too. So if your data is not sensitive then you can surely go for those models as well. "
   ]
  },
  {
   "cell_type": "markdown",
   "metadata": {},
   "source": [
    "### Customization over PremSQL Agents\n",
    "\n",
    "You can customize lot of things in PremSQL. For starters, you can put any type of generators in PremSQL. Here we are\n",
    "using MLX. You can use huggingface or Prem AI SDK (which provides different models) or other APIs as well. You can also build your own worker from scratch. As you have seen here, that we are using MatplotLib tool, you can also make your seaboarn / Plotly tool for the same thing for more interactive visualization. \n",
    "\n",
    "You can put as many number of arguments in your custom agent constructors and workers. As long as it adheres with the output schema, you can enjoy other functionalities like AgentServer and Playground. "
   ]
  },
  {
   "cell_type": "markdown",
   "metadata": {},
   "source": [
    "### A note about PremSQL Memory, Router and other limitations:\n",
    "\n",
    "Since this is the first version, where we are introducing agents and it's capabilities, so it comes with certain limitations as follows:\n",
    "\n",
    "1. Abscence of a Planner. In other words, we do not support \"multi-agent\" workflows. For example, after connecting to the database, if you directly ask something complex to plot, as of now, it will not able to plot things. In ideal case, it should \"plan\" what all things it needs to query, and then which columns needs to be used for plotting. However we are going to support multi-agent framework in coming versions. PRs are welcomed.\n",
    "\n",
    "2. Context handling in memory. Memory has also a very simple implementation. When you instantiate an agent to work with some \"session_name\" then it captures all the history and saves it inside a local \"sqlite\" database in the name of \"premsql_pipeline_memory.db\" (However you can change the path and name of the db). However, if you want to \"analyse\" or \"plot\" something over your previous output, the way it works is, it searches for the latest output dataframe and take that as an input and then output the plot or analysis. As of now, it can not understand history in a semantic sense. "
   ]
  }
 ],
 "metadata": {
  "kernelspec": {
   "display_name": "text2sql-jLjiS8B5-py3.11",
   "language": "python",
   "name": "python3"
  },
  "language_info": {
   "codemirror_mode": {
    "name": "ipython",
    "version": 3
   },
   "file_extension": ".py",
   "mimetype": "text/x-python",
   "name": "python",
   "nbconvert_exporter": "python",
   "pygments_lexer": "ipython3",
   "version": "3.11.10"
  }
 },
 "nbformat": 4,
 "nbformat_minor": 2
}
