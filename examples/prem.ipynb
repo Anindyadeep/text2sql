{
 "cells": [
  {
   "cell_type": "code",
   "execution_count": 1,
   "metadata": {},
   "outputs": [],
   "source": [
    "import os \n",
    "import sys \n",
    "\n",
    "# Run this incase if you have not installed the repo as a package but still\n",
    "# want to run this notebook\n",
    "\n",
    "current_dir = os.getcwd()\n",
    "os.path.abspath(os.path.join(current_dir, '..'))\n",
    "sys.path.append(current_dir)"
   ]
  },
  {
   "cell_type": "markdown",
   "metadata": {},
   "source": [
    "## Evaluate different Text to SQL Models using Prem AI \n",
    "\n",
    "In this example, we are going to show how you can evaluate different models using Prem AI for Text to SQL task. In the previous example, you have seen how to evaluate one model and we have also shown how to use different components of our `text2sql` library. Here we are going to use all of those knowledge to evaluate some series of models like:\n",
    "\n",
    "- gpt-4o\n",
    "- gpt-4o-mini\n",
    "- claude-3.5-sonnet\n",
    "- codellama-70b-instruct\n",
    "- claude-3-opus\n",
    "- llama-3.1-405-instruct"
   ]
  },
  {
   "cell_type": "markdown",
   "metadata": {},
   "source": [
    "If you want to understand how to run these benchmarks for a single model and what does each of the component means, check out first tutorial on [evaluation](/examples/evaluation.ipynb). "
   ]
  },
  {
   "cell_type": "code",
   "execution_count": 3,
   "metadata": {},
   "outputs": [],
   "source": [
    "from text2sql.eval.dataset.bird import BirdBenchEvalDataset\n",
    "from text2sql.eval.settings import SQLGeneratorConfig, APIConfig\n",
    "from text2sql.eval.generator.bird.from_api import SQLGeneratorFromAPI\n",
    "from text2sql.eval.executor.bird.acc import BirdExecutorAcc\n",
    "from text2sql.eval.executor.bird.ves import BirdExecutorVES"
   ]
  },
  {
   "cell_type": "code",
   "execution_count": 4,
   "metadata": {},
   "outputs": [],
   "source": [
    "config = SQLGeneratorConfig()\n",
    "eval_dataset = BirdBenchEvalDataset(config=config)"
   ]
  },
  {
   "cell_type": "code",
   "execution_count": 5,
   "metadata": {},
   "outputs": [],
   "source": [
    "model_set = [\n",
    "    \"gpt-4o\", \n",
    "    \"gpt-4o-mini\", \n",
    "    \"claude-3.5-sonnet\",\n",
    "    \"codellama-70b-instruct\", \n",
    "    \"claude-3-opus\", \n",
    "    \"llama-3.1-405-instruct\"\n",
    "]"
   ]
  },
  {
   "cell_type": "code",
   "execution_count": 6,
   "metadata": {},
   "outputs": [],
   "source": [
    "# First do all the easy\n",
    "\n",
    "\n",
    "import os \n",
    "\n",
    "def run(dataset, model_set, difficulty, num_rows):\n",
    "    filter_by = (\"difficulty\", difficulty)\n",
    "    easy_set = dataset.process_and_filter(num_rows=num_rows, filter_by=filter_by)\n",
    "    easy_data = easy_set.apply_prompt(apply_knowledge=True)\n",
    "\n",
    "    for model in model_set:\n",
    "        print(f\"================ {model} ================\")\n",
    "        api_config = api_config = APIConfig(\n",
    "            api_key=os.environ.get(\"PREMAI_API_KEY\"), \n",
    "            temperature=0.1, \n",
    "            max_tokens=256,\n",
    "            model_name=model\n",
    "        )\n",
    "        config = SQLGeneratorConfig(model_name=model)\n",
    "        client = SQLGeneratorFromAPI(\n",
    "            generator_config=config,\n",
    "            engine_config=api_config\n",
    "        )\n",
    "        acc = BirdExecutorAcc(generator_config=config)\n",
    "        ves = BirdExecutorVES(generator_config=config)\n",
    "        data_with_gen = client.generate_and_save_results(data=easy_data, force=True)\n",
    "        acc.execute(model_responses=data_with_gen, filter_used=filter_by)\n",
    "        ves.execute(model_responses=data_with_gen, filter_used=filter_by)\n",
    "        print(\"\\n\")\n",
    "        print(\"\\n\")"
   ]
  },
  {
   "cell_type": "code",
   "execution_count": 7,
   "metadata": {},
   "outputs": [
    {
     "name": "stderr",
     "output_type": "stream",
     "text": [
      "2024-07-29 00:36:30,998 - text2sql-eval - INFO - ./data/eval/ is not empty. Use force=True to re-download and overwrite the contents.\n",
      "2024-07-29 00:36:30,998 - text2sql-eval - INFO - ./data/eval/ is not empty. Use force=True to re-download and overwrite the contents.\n"
     ]
    },
    {
     "name": "stdout",
     "output_type": "stream",
     "text": [
      "================ gpt-4o ================\n"
     ]
    },
    {
     "name": "stderr",
     "output_type": "stream",
     "text": [
      "100%|██████████| 100/100 [04:08<00:00,  2.48s/it]\n",
      "2024-07-29 00:40:39,496 - text2sql-eval - INFO - all responses written to ./experiments/eval/prem_gpt-4o/predict_dev.json\n",
      "2024-07-29 00:40:39,496 - text2sql-eval - INFO - all responses written to ./experiments/eval/prem_gpt-4o/predict_dev.json\n"
     ]
    },
    {
     "name": "stdout",
     "output_type": "stream",
     "text": [
      "=>  ./experiments/eval/prem_gpt-4o acc_simple.json\n",
      "=====================   ACCURACY    =====================\n",
      "+-------------+-------------------+-------------------+\n",
      "| Category    |   num_correct (%) |   total questions |\n",
      "+=============+===================+===================+\n",
      "| simple      |                56 |               100 |\n",
      "+-------------+-------------------+-------------------+\n",
      "| overall     |                56 |               100 |\n",
      "+-------------+-------------------+-------------------+\n",
      "| moderate    |                 0 |                 0 |\n",
      "+-------------+-------------------+-------------------+\n",
      "| challenging |                 0 |                 0 |\n",
      "+-------------+-------------------+-------------------+\n",
      "=====================   VES    =====================\n",
      "+-------------+-----------+-------------------+\n",
      "| Category    |   VES (%) |   total questions |\n",
      "+=============+===========+===================+\n",
      "| simple      |   54.9621 |               100 |\n",
      "+-------------+-----------+-------------------+\n",
      "| overall     |   54.9621 |               100 |\n",
      "+-------------+-----------+-------------------+\n",
      "| moderate    |    0      |                 0 |\n",
      "+-------------+-----------+-------------------+\n",
      "| challenging |    0      |                 0 |\n",
      "+-------------+-----------+-------------------+\n",
      "\n",
      "\n",
      "\n",
      "\n",
      "================ gpt-4o-mini ================\n"
     ]
    },
    {
     "name": "stderr",
     "output_type": "stream",
     "text": [
      "100%|██████████| 100/100 [04:10<00:00,  2.50s/it]\n",
      "2024-07-29 00:45:13,982 - text2sql-eval - INFO - all responses written to ./experiments/eval/prem_gpt-4o-mini/predict_dev.json\n",
      "2024-07-29 00:45:13,982 - text2sql-eval - INFO - all responses written to ./experiments/eval/prem_gpt-4o-mini/predict_dev.json\n"
     ]
    },
    {
     "name": "stdout",
     "output_type": "stream",
     "text": [
      "=>  ./experiments/eval/prem_gpt-4o-mini acc_simple.json\n",
      "=====================   ACCURACY    =====================\n",
      "+-------------+-------------------+-------------------+\n",
      "| Category    |   num_correct (%) |   total questions |\n",
      "+=============+===================+===================+\n",
      "| simple      |                42 |               100 |\n",
      "+-------------+-------------------+-------------------+\n",
      "| overall     |                42 |               100 |\n",
      "+-------------+-------------------+-------------------+\n",
      "| moderate    |                 0 |                 0 |\n",
      "+-------------+-------------------+-------------------+\n",
      "| challenging |                 0 |                 0 |\n",
      "+-------------+-------------------+-------------------+\n",
      "=====================   VES    =====================\n",
      "+-------------+-----------+-------------------+\n",
      "| Category    |   VES (%) |   total questions |\n",
      "+=============+===========+===================+\n",
      "| simple      |   47.6245 |               100 |\n",
      "+-------------+-----------+-------------------+\n",
      "| overall     |   47.6245 |               100 |\n",
      "+-------------+-----------+-------------------+\n",
      "| moderate    |    0      |                 0 |\n",
      "+-------------+-----------+-------------------+\n",
      "| challenging |    0      |                 0 |\n",
      "+-------------+-----------+-------------------+\n",
      "\n",
      "\n",
      "\n",
      "\n",
      "================ claude-3.5-sonnet ================\n"
     ]
    },
    {
     "name": "stderr",
     "output_type": "stream",
     "text": [
      "100%|██████████| 100/100 [06:21<00:00,  3.82s/it]\n",
      "2024-07-29 00:51:51,697 - text2sql-eval - INFO - all responses written to ./experiments/eval/prem_claude-3.5-sonnet/predict_dev.json\n",
      "2024-07-29 00:51:51,697 - text2sql-eval - INFO - all responses written to ./experiments/eval/prem_claude-3.5-sonnet/predict_dev.json\n"
     ]
    },
    {
     "name": "stdout",
     "output_type": "stream",
     "text": [
      "=>  ./experiments/eval/prem_claude-3.5-sonnet acc_simple.json\n",
      "=====================   ACCURACY    =====================\n",
      "+-------------+-------------------+-------------------+\n",
      "| Category    |   num_correct (%) |   total questions |\n",
      "+=============+===================+===================+\n",
      "| simple      |                42 |               100 |\n",
      "+-------------+-------------------+-------------------+\n",
      "| overall     |                42 |               100 |\n",
      "+-------------+-------------------+-------------------+\n",
      "| moderate    |                 0 |                 0 |\n",
      "+-------------+-------------------+-------------------+\n",
      "| challenging |                 0 |                 0 |\n",
      "+-------------+-------------------+-------------------+\n",
      "=====================   VES    =====================\n",
      "+-------------+-----------+-------------------+\n",
      "| Category    |   VES (%) |   total questions |\n",
      "+=============+===========+===================+\n",
      "| simple      |   44.4475 |               100 |\n",
      "+-------------+-----------+-------------------+\n",
      "| overall     |   44.4475 |               100 |\n",
      "+-------------+-----------+-------------------+\n",
      "| moderate    |    0      |                 0 |\n",
      "+-------------+-----------+-------------------+\n",
      "| challenging |    0      |                 0 |\n",
      "+-------------+-----------+-------------------+\n",
      "\n",
      "\n",
      "\n",
      "\n",
      "================ codellama-70b-instruct ================\n"
     ]
    },
    {
     "name": "stderr",
     "output_type": "stream",
     "text": [
      "100%|██████████| 100/100 [05:46<00:00,  3.47s/it]\n",
      "2024-07-29 00:57:52,182 - text2sql-eval - INFO - all responses written to ./experiments/eval/prem_codellama-70b-instruct/predict_dev.json\n",
      "2024-07-29 00:57:52,182 - text2sql-eval - INFO - all responses written to ./experiments/eval/prem_codellama-70b-instruct/predict_dev.json\n"
     ]
    },
    {
     "name": "stdout",
     "output_type": "stream",
     "text": [
      "=>  ./experiments/eval/prem_codellama-70b-instruct acc_simple.json\n",
      "=====================   ACCURACY    =====================\n",
      "+-------------+-------------------+-------------------+\n",
      "| Category    |   num_correct (%) |   total questions |\n",
      "+=============+===================+===================+\n",
      "| simple      |                30 |               100 |\n",
      "+-------------+-------------------+-------------------+\n",
      "| overall     |                30 |               100 |\n",
      "+-------------+-------------------+-------------------+\n",
      "| moderate    |                 0 |                 0 |\n",
      "+-------------+-------------------+-------------------+\n",
      "| challenging |                 0 |                 0 |\n",
      "+-------------+-------------------+-------------------+\n",
      "=====================   VES    =====================\n",
      "+-------------+-----------+-------------------+\n",
      "| Category    |   VES (%) |   total questions |\n",
      "+=============+===========+===================+\n",
      "| simple      |   28.1269 |               100 |\n",
      "+-------------+-----------+-------------------+\n",
      "| overall     |   28.1269 |               100 |\n",
      "+-------------+-----------+-------------------+\n",
      "| moderate    |    0      |                 0 |\n",
      "+-------------+-----------+-------------------+\n",
      "| challenging |    0      |                 0 |\n",
      "+-------------+-----------+-------------------+\n",
      "\n",
      "\n",
      "\n",
      "\n",
      "================ claude-3-opus ================\n"
     ]
    },
    {
     "name": "stderr",
     "output_type": "stream",
     "text": [
      "100%|██████████| 100/100 [10:46<00:00,  6.46s/it]\n",
      "2024-07-29 01:17:32,352 - text2sql-eval - INFO - all responses written to ./experiments/eval/prem_claude-3-opus/predict_dev.json\n",
      "2024-07-29 01:17:32,352 - text2sql-eval - INFO - all responses written to ./experiments/eval/prem_claude-3-opus/predict_dev.json\n"
     ]
    },
    {
     "name": "stdout",
     "output_type": "stream",
     "text": [
      "=>  ./experiments/eval/prem_claude-3-opus acc_simple.json\n",
      "=====================   ACCURACY    =====================\n",
      "+-------------+-------------------+-------------------+\n",
      "| Category    |   num_correct (%) |   total questions |\n",
      "+=============+===================+===================+\n",
      "| simple      |                42 |               100 |\n",
      "+-------------+-------------------+-------------------+\n",
      "| overall     |                42 |               100 |\n",
      "+-------------+-------------------+-------------------+\n",
      "| moderate    |                 0 |                 0 |\n",
      "+-------------+-------------------+-------------------+\n",
      "| challenging |                 0 |                 0 |\n",
      "+-------------+-------------------+-------------------+\n",
      "=====================   VES    =====================\n",
      "+-------------+-----------+-------------------+\n",
      "| Category    |   VES (%) |   total questions |\n",
      "+=============+===========+===================+\n",
      "| simple      |   43.5037 |               100 |\n",
      "+-------------+-----------+-------------------+\n",
      "| overall     |   43.5037 |               100 |\n",
      "+-------------+-----------+-------------------+\n",
      "| moderate    |    0      |                 0 |\n",
      "+-------------+-----------+-------------------+\n",
      "| challenging |    0      |                 0 |\n",
      "+-------------+-----------+-------------------+\n",
      "\n",
      "\n",
      "\n",
      "\n",
      "================ llama-3.1-405-instruct ================\n"
     ]
    },
    {
     "name": "stderr",
     "output_type": "stream",
     "text": [
      "100%|██████████| 100/100 [00:23<00:00,  4.22it/s]\n",
      "2024-07-29 01:18:19,327 - text2sql-eval - INFO - all responses written to ./experiments/eval/prem_llama-3.1-405-instruct/predict_dev.json\n",
      "2024-07-29 01:18:19,327 - text2sql-eval - INFO - all responses written to ./experiments/eval/prem_llama-3.1-405-instruct/predict_dev.json\n"
     ]
    },
    {
     "name": "stdout",
     "output_type": "stream",
     "text": [
      "=>  ./experiments/eval/prem_llama-3.1-405-instruct acc_simple.json\n",
      "=====================   ACCURACY    =====================\n",
      "+-------------+-------------------+-------------------+\n",
      "| Category    |   num_correct (%) |   total questions |\n",
      "+=============+===================+===================+\n",
      "| simple      |                 0 |               100 |\n",
      "+-------------+-------------------+-------------------+\n",
      "| overall     |                 0 |               100 |\n",
      "+-------------+-------------------+-------------------+\n",
      "| moderate    |                 0 |                 0 |\n",
      "+-------------+-------------------+-------------------+\n",
      "| challenging |                 0 |                 0 |\n",
      "+-------------+-------------------+-------------------+\n",
      "=====================   VES    =====================\n",
      "+-------------+-----------+-------------------+\n",
      "| Category    |   VES (%) |   total questions |\n",
      "+=============+===========+===================+\n",
      "| simple      |         0 |               100 |\n",
      "+-------------+-----------+-------------------+\n",
      "| overall     |         0 |               100 |\n",
      "+-------------+-----------+-------------------+\n",
      "| moderate    |         0 |                 0 |\n",
      "+-------------+-----------+-------------------+\n",
      "| challenging |         0 |                 0 |\n",
      "+-------------+-----------+-------------------+\n",
      "\n",
      "\n",
      "\n",
      "\n"
     ]
    }
   ],
   "source": [
    "run(\n",
    "    dataset=eval_dataset,\n",
    "    model_set=model_set,\n",
    "    difficulty=\"simple\",\n",
    "    num_rows=100\n",
    ")"
   ]
  },
  {
   "cell_type": "code",
   "execution_count": 8,
   "metadata": {},
   "outputs": [
    {
     "name": "stderr",
     "output_type": "stream",
     "text": [
      "2024-07-29 01:18:19,366 - text2sql-eval - INFO - ./data/eval/ is not empty. Use force=True to re-download and overwrite the contents.\n",
      "2024-07-29 01:18:19,366 - text2sql-eval - INFO - ./data/eval/ is not empty. Use force=True to re-download and overwrite the contents.\n",
      "2024-07-29 01:18:19,390 - text2sql-eval - INFO - Already found results from folder\n",
      "2024-07-29 01:18:19,390 - text2sql-eval - INFO - Already found results from folder\n",
      "2024-07-29 01:18:19,394 - text2sql-eval - WARNING - Forcing generations\n",
      "2024-07-29 01:18:19,394 - text2sql-eval - WARNING - Forcing generations\n"
     ]
    },
    {
     "name": "stdout",
     "output_type": "stream",
     "text": [
      "================ gpt-4o ================\n"
     ]
    },
    {
     "name": "stderr",
     "output_type": "stream",
     "text": [
      "100%|██████████| 100/100 [04:53<00:00,  2.94s/it]\n",
      "2024-07-29 01:23:13,188 - text2sql-eval - INFO - all responses written to ./experiments/eval/prem_gpt-4o/predict_dev.json\n",
      "2024-07-29 01:23:13,188 - text2sql-eval - INFO - all responses written to ./experiments/eval/prem_gpt-4o/predict_dev.json\n"
     ]
    },
    {
     "name": "stdout",
     "output_type": "stream",
     "text": [
      "=>  ./experiments/eval/prem_gpt-4o acc_moderate.json\n",
      "=====================   ACCURACY    =====================\n",
      "+-------------+-------------------+-------------------+\n",
      "| Category    |   num_correct (%) |   total questions |\n",
      "+=============+===================+===================+\n",
      "| moderate    |                35 |               100 |\n",
      "+-------------+-------------------+-------------------+\n",
      "| overall     |                35 |               100 |\n",
      "+-------------+-------------------+-------------------+\n",
      "| simple      |                 0 |                 0 |\n",
      "+-------------+-------------------+-------------------+\n",
      "| challenging |                 0 |                 0 |\n",
      "+-------------+-------------------+-------------------+\n"
     ]
    },
    {
     "name": "stderr",
     "output_type": "stream",
     "text": [
      "2024-07-29 01:23:22,212 - text2sql-eval - INFO - Already found results from folder\n",
      "2024-07-29 01:23:22,212 - text2sql-eval - INFO - Already found results from folder\n",
      "2024-07-29 01:23:22,214 - text2sql-eval - WARNING - Forcing generations\n",
      "2024-07-29 01:23:22,214 - text2sql-eval - WARNING - Forcing generations\n"
     ]
    },
    {
     "name": "stdout",
     "output_type": "stream",
     "text": [
      "=====================   VES    =====================\n",
      "+-------------+-----------+-------------------+\n",
      "| Category    |   VES (%) |   total questions |\n",
      "+=============+===========+===================+\n",
      "| moderate    |   37.9472 |               100 |\n",
      "+-------------+-----------+-------------------+\n",
      "| overall     |   37.9472 |               100 |\n",
      "+-------------+-----------+-------------------+\n",
      "| simple      |    0      |                 0 |\n",
      "+-------------+-----------+-------------------+\n",
      "| challenging |    0      |                 0 |\n",
      "+-------------+-----------+-------------------+\n",
      "\n",
      "\n",
      "\n",
      "\n",
      "================ gpt-4o-mini ================\n"
     ]
    },
    {
     "name": "stderr",
     "output_type": "stream",
     "text": [
      "100%|██████████| 100/100 [04:33<00:00,  2.73s/it]\n",
      "2024-07-29 01:27:55,347 - text2sql-eval - INFO - all responses written to ./experiments/eval/prem_gpt-4o-mini/predict_dev.json\n",
      "2024-07-29 01:27:55,347 - text2sql-eval - INFO - all responses written to ./experiments/eval/prem_gpt-4o-mini/predict_dev.json\n"
     ]
    },
    {
     "name": "stdout",
     "output_type": "stream",
     "text": [
      "=>  ./experiments/eval/prem_gpt-4o-mini acc_moderate.json\n",
      "=====================   ACCURACY    =====================\n",
      "+-------------+-------------------+-------------------+\n",
      "| Category    |   num_correct (%) |   total questions |\n",
      "+=============+===================+===================+\n",
      "| moderate    |                28 |               100 |\n",
      "+-------------+-------------------+-------------------+\n",
      "| overall     |                28 |               100 |\n",
      "+-------------+-------------------+-------------------+\n",
      "| simple      |                 0 |                 0 |\n",
      "+-------------+-------------------+-------------------+\n",
      "| challenging |                 0 |                 0 |\n",
      "+-------------+-------------------+-------------------+\n"
     ]
    },
    {
     "name": "stderr",
     "output_type": "stream",
     "text": [
      "2024-07-29 01:28:38,139 - text2sql-eval - INFO - Already found results from folder\n",
      "2024-07-29 01:28:38,139 - text2sql-eval - INFO - Already found results from folder\n",
      "2024-07-29 01:28:38,142 - text2sql-eval - WARNING - Forcing generations\n",
      "2024-07-29 01:28:38,142 - text2sql-eval - WARNING - Forcing generations\n"
     ]
    },
    {
     "name": "stdout",
     "output_type": "stream",
     "text": [
      "=====================   VES    =====================\n",
      "+-------------+-----------+-------------------+\n",
      "| Category    |   VES (%) |   total questions |\n",
      "+=============+===========+===================+\n",
      "| moderate    |   26.3869 |               100 |\n",
      "+-------------+-----------+-------------------+\n",
      "| overall     |   26.3869 |               100 |\n",
      "+-------------+-----------+-------------------+\n",
      "| simple      |    0      |                 0 |\n",
      "+-------------+-----------+-------------------+\n",
      "| challenging |    0      |                 0 |\n",
      "+-------------+-----------+-------------------+\n",
      "\n",
      "\n",
      "\n",
      "\n",
      "================ claude-3.5-sonnet ================\n"
     ]
    },
    {
     "name": "stderr",
     "output_type": "stream",
     "text": [
      "100%|██████████| 100/100 [06:31<00:00,  3.91s/it]\n",
      "2024-07-29 01:35:09,301 - text2sql-eval - INFO - all responses written to ./experiments/eval/prem_claude-3.5-sonnet/predict_dev.json\n",
      "2024-07-29 01:35:09,301 - text2sql-eval - INFO - all responses written to ./experiments/eval/prem_claude-3.5-sonnet/predict_dev.json\n"
     ]
    },
    {
     "name": "stdout",
     "output_type": "stream",
     "text": [
      "=>  ./experiments/eval/prem_claude-3.5-sonnet acc_moderate.json\n",
      "=====================   ACCURACY    =====================\n",
      "+-------------+-------------------+-------------------+\n",
      "| Category    |   num_correct (%) |   total questions |\n",
      "+=============+===================+===================+\n",
      "| moderate    |                27 |               100 |\n",
      "+-------------+-------------------+-------------------+\n",
      "| overall     |                27 |               100 |\n",
      "+-------------+-------------------+-------------------+\n",
      "| simple      |                 0 |                 0 |\n",
      "+-------------+-------------------+-------------------+\n",
      "| challenging |                 0 |                 0 |\n",
      "+-------------+-------------------+-------------------+\n"
     ]
    },
    {
     "name": "stderr",
     "output_type": "stream",
     "text": [
      "2024-07-29 01:35:17,593 - text2sql-eval - INFO - Already found results from folder\n",
      "2024-07-29 01:35:17,593 - text2sql-eval - INFO - Already found results from folder\n",
      "2024-07-29 01:35:17,595 - text2sql-eval - WARNING - Forcing generations\n",
      "2024-07-29 01:35:17,595 - text2sql-eval - WARNING - Forcing generations\n"
     ]
    },
    {
     "name": "stdout",
     "output_type": "stream",
     "text": [
      "=====================   VES    =====================\n",
      "+-------------+-----------+-------------------+\n",
      "| Category    |   VES (%) |   total questions |\n",
      "+=============+===========+===================+\n",
      "| moderate    |   24.9191 |               100 |\n",
      "+-------------+-----------+-------------------+\n",
      "| overall     |   24.9191 |               100 |\n",
      "+-------------+-----------+-------------------+\n",
      "| simple      |    0      |                 0 |\n",
      "+-------------+-----------+-------------------+\n",
      "| challenging |    0      |                 0 |\n",
      "+-------------+-----------+-------------------+\n",
      "\n",
      "\n",
      "\n",
      "\n",
      "================ codellama-70b-instruct ================\n"
     ]
    },
    {
     "name": "stderr",
     "output_type": "stream",
     "text": [
      "100%|██████████| 100/100 [06:04<00:00,  3.64s/it]\n",
      "2024-07-29 01:41:21,837 - text2sql-eval - INFO - all responses written to ./experiments/eval/prem_codellama-70b-instruct/predict_dev.json\n",
      "2024-07-29 01:41:21,837 - text2sql-eval - INFO - all responses written to ./experiments/eval/prem_codellama-70b-instruct/predict_dev.json\n"
     ]
    },
    {
     "name": "stdout",
     "output_type": "stream",
     "text": [
      "=>  ./experiments/eval/prem_codellama-70b-instruct acc_moderate.json\n",
      "=====================   ACCURACY    =====================\n",
      "+-------------+-------------------+-------------------+\n",
      "| Category    |   num_correct (%) |   total questions |\n",
      "+=============+===================+===================+\n",
      "| moderate    |                22 |               100 |\n",
      "+-------------+-------------------+-------------------+\n",
      "| overall     |                22 |               100 |\n",
      "+-------------+-------------------+-------------------+\n",
      "| simple      |                 0 |                 0 |\n",
      "+-------------+-------------------+-------------------+\n",
      "| challenging |                 0 |                 0 |\n",
      "+-------------+-------------------+-------------------+\n"
     ]
    },
    {
     "name": "stderr",
     "output_type": "stream",
     "text": [
      "2024-07-29 01:41:26,535 - text2sql-eval - INFO - Already found results from folder\n",
      "2024-07-29 01:41:26,535 - text2sql-eval - INFO - Already found results from folder\n",
      "2024-07-29 01:41:26,537 - text2sql-eval - WARNING - Forcing generations\n",
      "2024-07-29 01:41:26,537 - text2sql-eval - WARNING - Forcing generations\n"
     ]
    },
    {
     "name": "stdout",
     "output_type": "stream",
     "text": [
      "=====================   VES    =====================\n",
      "+-------------+-----------+-------------------+\n",
      "| Category    |   VES (%) |   total questions |\n",
      "+=============+===========+===================+\n",
      "| moderate    |   26.1479 |               100 |\n",
      "+-------------+-----------+-------------------+\n",
      "| overall     |   26.1479 |               100 |\n",
      "+-------------+-----------+-------------------+\n",
      "| simple      |    0      |                 0 |\n",
      "+-------------+-----------+-------------------+\n",
      "| challenging |    0      |                 0 |\n",
      "+-------------+-----------+-------------------+\n",
      "\n",
      "\n",
      "\n",
      "\n",
      "================ claude-3-opus ================\n"
     ]
    },
    {
     "name": "stderr",
     "output_type": "stream",
     "text": [
      "100%|██████████| 100/100 [11:37<00:00,  6.98s/it]\n",
      "2024-07-29 01:53:04,463 - text2sql-eval - INFO - all responses written to ./experiments/eval/prem_claude-3-opus/predict_dev.json\n",
      "2024-07-29 01:53:04,463 - text2sql-eval - INFO - all responses written to ./experiments/eval/prem_claude-3-opus/predict_dev.json\n"
     ]
    },
    {
     "name": "stdout",
     "output_type": "stream",
     "text": [
      "=>  ./experiments/eval/prem_claude-3-opus acc_moderate.json\n",
      "=====================   ACCURACY    =====================\n",
      "+-------------+-------------------+-------------------+\n",
      "| Category    |   num_correct (%) |   total questions |\n",
      "+=============+===================+===================+\n",
      "| moderate    |                27 |               100 |\n",
      "+-------------+-------------------+-------------------+\n",
      "| overall     |                27 |               100 |\n",
      "+-------------+-------------------+-------------------+\n",
      "| simple      |                 0 |                 0 |\n",
      "+-------------+-------------------+-------------------+\n",
      "| challenging |                 0 |                 0 |\n",
      "+-------------+-------------------+-------------------+\n"
     ]
    },
    {
     "name": "stderr",
     "output_type": "stream",
     "text": [
      "2024-07-29 01:53:54,143 - text2sql-eval - INFO - Already found results from folder\n",
      "2024-07-29 01:53:54,143 - text2sql-eval - INFO - Already found results from folder\n",
      "2024-07-29 01:53:54,146 - text2sql-eval - WARNING - Forcing generations\n",
      "2024-07-29 01:53:54,146 - text2sql-eval - WARNING - Forcing generations\n"
     ]
    },
    {
     "name": "stdout",
     "output_type": "stream",
     "text": [
      "=====================   VES    =====================\n",
      "+-------------+-----------+-------------------+\n",
      "| Category    |   VES (%) |   total questions |\n",
      "+=============+===========+===================+\n",
      "| moderate    |   25.8315 |               100 |\n",
      "+-------------+-----------+-------------------+\n",
      "| overall     |   25.8315 |               100 |\n",
      "+-------------+-----------+-------------------+\n",
      "| simple      |    0      |                 0 |\n",
      "+-------------+-----------+-------------------+\n",
      "| challenging |    0      |                 0 |\n",
      "+-------------+-----------+-------------------+\n",
      "\n",
      "\n",
      "\n",
      "\n",
      "================ llama-3.1-405-instruct ================\n"
     ]
    },
    {
     "name": "stderr",
     "output_type": "stream",
     "text": [
      "100%|██████████| 100/100 [00:22<00:00,  4.50it/s]\n",
      "2024-07-29 01:54:16,396 - text2sql-eval - INFO - all responses written to ./experiments/eval/prem_llama-3.1-405-instruct/predict_dev.json\n",
      "2024-07-29 01:54:16,396 - text2sql-eval - INFO - all responses written to ./experiments/eval/prem_llama-3.1-405-instruct/predict_dev.json\n"
     ]
    },
    {
     "name": "stdout",
     "output_type": "stream",
     "text": [
      "=>  ./experiments/eval/prem_llama-3.1-405-instruct acc_moderate.json\n",
      "=====================   ACCURACY    =====================\n",
      "+-------------+-------------------+-------------------+\n",
      "| Category    |   num_correct (%) |   total questions |\n",
      "+=============+===================+===================+\n",
      "| moderate    |                 0 |               100 |\n",
      "+-------------+-------------------+-------------------+\n",
      "| overall     |                 0 |               100 |\n",
      "+-------------+-------------------+-------------------+\n",
      "| simple      |                 0 |                 0 |\n",
      "+-------------+-------------------+-------------------+\n",
      "| challenging |                 0 |                 0 |\n",
      "+-------------+-------------------+-------------------+\n",
      "=====================   VES    =====================\n",
      "+-------------+-----------+-------------------+\n",
      "| Category    |   VES (%) |   total questions |\n",
      "+=============+===========+===================+\n",
      "| moderate    |         0 |               100 |\n",
      "+-------------+-----------+-------------------+\n",
      "| overall     |         0 |               100 |\n",
      "+-------------+-----------+-------------------+\n",
      "| simple      |         0 |                 0 |\n",
      "+-------------+-----------+-------------------+\n",
      "| challenging |         0 |                 0 |\n",
      "+-------------+-----------+-------------------+\n",
      "\n",
      "\n",
      "\n",
      "\n"
     ]
    }
   ],
   "source": [
    "run(\n",
    "    dataset=eval_dataset,\n",
    "    model_set=model_set,\n",
    "    difficulty=\"moderate\",\n",
    "    num_rows=100\n",
    ")"
   ]
  },
  {
   "cell_type": "code",
   "execution_count": 9,
   "metadata": {},
   "outputs": [
    {
     "name": "stderr",
     "output_type": "stream",
     "text": [
      "2024-07-29 01:54:16,438 - text2sql-eval - INFO - ./data/eval/ is not empty. Use force=True to re-download and overwrite the contents.\n",
      "2024-07-29 01:54:16,438 - text2sql-eval - INFO - ./data/eval/ is not empty. Use force=True to re-download and overwrite the contents.\n",
      "2024-07-29 01:54:16,472 - text2sql-eval - INFO - Already found results from folder\n",
      "2024-07-29 01:54:16,472 - text2sql-eval - INFO - Already found results from folder\n",
      "2024-07-29 01:54:16,474 - text2sql-eval - WARNING - Forcing generations\n",
      "2024-07-29 01:54:16,474 - text2sql-eval - WARNING - Forcing generations\n"
     ]
    },
    {
     "name": "stdout",
     "output_type": "stream",
     "text": [
      "================ gpt-4o ================\n"
     ]
    },
    {
     "name": "stderr",
     "output_type": "stream",
     "text": [
      "100%|██████████| 100/100 [04:43<00:00,  2.84s/it]\n",
      "2024-07-29 01:59:00,114 - text2sql-eval - INFO - all responses written to ./experiments/eval/prem_gpt-4o/predict_dev.json\n",
      "2024-07-29 01:59:00,114 - text2sql-eval - INFO - all responses written to ./experiments/eval/prem_gpt-4o/predict_dev.json\n"
     ]
    },
    {
     "name": "stdout",
     "output_type": "stream",
     "text": [
      "=>  ./experiments/eval/prem_gpt-4o acc_challenging.json\n",
      "=====================   ACCURACY    =====================\n",
      "+-------------+-------------------+-------------------+\n",
      "| Category    |   num_correct (%) |   total questions |\n",
      "+=============+===================+===================+\n",
      "| challenging |                41 |               100 |\n",
      "+-------------+-------------------+-------------------+\n",
      "| overall     |                41 |               100 |\n",
      "+-------------+-------------------+-------------------+\n",
      "| moderate    |                 0 |                 0 |\n",
      "+-------------+-------------------+-------------------+\n",
      "| simple      |                 0 |                 0 |\n",
      "+-------------+-------------------+-------------------+\n"
     ]
    },
    {
     "name": "stderr",
     "output_type": "stream",
     "text": [
      "2024-07-29 02:20:21,737 - text2sql-eval - INFO - Already found results from folder\n",
      "2024-07-29 02:20:21,737 - text2sql-eval - INFO - Already found results from folder\n",
      "2024-07-29 02:20:21,740 - text2sql-eval - WARNING - Forcing generations\n",
      "2024-07-29 02:20:21,740 - text2sql-eval - WARNING - Forcing generations\n"
     ]
    },
    {
     "name": "stdout",
     "output_type": "stream",
     "text": [
      "=====================   VES    =====================\n",
      "+-------------+-----------+-------------------+\n",
      "| Category    |   VES (%) |   total questions |\n",
      "+=============+===========+===================+\n",
      "| challenging |   41.9917 |               100 |\n",
      "+-------------+-----------+-------------------+\n",
      "| overall     |   41.9917 |               100 |\n",
      "+-------------+-----------+-------------------+\n",
      "| moderate    |    0      |                 0 |\n",
      "+-------------+-----------+-------------------+\n",
      "| simple      |    0      |                 0 |\n",
      "+-------------+-----------+-------------------+\n",
      "\n",
      "\n",
      "\n",
      "\n",
      "================ gpt-4o-mini ================\n"
     ]
    },
    {
     "name": "stderr",
     "output_type": "stream",
     "text": [
      "100%|██████████| 100/100 [04:43<00:00,  2.84s/it]\n",
      "2024-07-29 02:25:05,678 - text2sql-eval - INFO - all responses written to ./experiments/eval/prem_gpt-4o-mini/predict_dev.json\n",
      "2024-07-29 02:25:05,678 - text2sql-eval - INFO - all responses written to ./experiments/eval/prem_gpt-4o-mini/predict_dev.json\n"
     ]
    },
    {
     "name": "stdout",
     "output_type": "stream",
     "text": [
      "=>  ./experiments/eval/prem_gpt-4o-mini acc_challenging.json\n",
      "=====================   ACCURACY    =====================\n",
      "+-------------+-------------------+-------------------+\n",
      "| Category    |   num_correct (%) |   total questions |\n",
      "+=============+===================+===================+\n",
      "| challenging |                34 |               100 |\n",
      "+-------------+-------------------+-------------------+\n",
      "| overall     |                34 |               100 |\n",
      "+-------------+-------------------+-------------------+\n",
      "| moderate    |                 0 |                 0 |\n",
      "+-------------+-------------------+-------------------+\n",
      "| simple      |                 0 |                 0 |\n",
      "+-------------+-------------------+-------------------+\n"
     ]
    },
    {
     "name": "stderr",
     "output_type": "stream",
     "text": [
      "2024-07-29 02:46:32,261 - text2sql-eval - INFO - Already found results from folder\n",
      "2024-07-29 02:46:32,261 - text2sql-eval - INFO - Already found results from folder\n",
      "2024-07-29 02:46:32,263 - text2sql-eval - WARNING - Forcing generations\n",
      "2024-07-29 02:46:32,263 - text2sql-eval - WARNING - Forcing generations\n"
     ]
    },
    {
     "name": "stdout",
     "output_type": "stream",
     "text": [
      "=====================   VES    =====================\n",
      "+-------------+-----------+-------------------+\n",
      "| Category    |   VES (%) |   total questions |\n",
      "+=============+===========+===================+\n",
      "| challenging |   35.9608 |               100 |\n",
      "+-------------+-----------+-------------------+\n",
      "| overall     |   35.9608 |               100 |\n",
      "+-------------+-----------+-------------------+\n",
      "| moderate    |    0      |                 0 |\n",
      "+-------------+-----------+-------------------+\n",
      "| simple      |    0      |                 0 |\n",
      "+-------------+-----------+-------------------+\n",
      "\n",
      "\n",
      "\n",
      "\n",
      "================ claude-3.5-sonnet ================\n"
     ]
    },
    {
     "name": "stderr",
     "output_type": "stream",
     "text": [
      "100%|██████████| 100/100 [06:33<00:00,  3.93s/it]\n",
      "2024-07-29 02:53:05,354 - text2sql-eval - INFO - all responses written to ./experiments/eval/prem_claude-3.5-sonnet/predict_dev.json\n",
      "2024-07-29 02:53:05,354 - text2sql-eval - INFO - all responses written to ./experiments/eval/prem_claude-3.5-sonnet/predict_dev.json\n"
     ]
    },
    {
     "name": "stdout",
     "output_type": "stream",
     "text": [
      "=>  ./experiments/eval/prem_claude-3.5-sonnet acc_challenging.json\n",
      "=====================   ACCURACY    =====================\n",
      "+-------------+-------------------+-------------------+\n",
      "| Category    |   num_correct (%) |   total questions |\n",
      "+=============+===================+===================+\n",
      "| challenging |                31 |               100 |\n",
      "+-------------+-------------------+-------------------+\n",
      "| overall     |                31 |               100 |\n",
      "+-------------+-------------------+-------------------+\n",
      "| moderate    |                 0 |                 0 |\n",
      "+-------------+-------------------+-------------------+\n",
      "| simple      |                 0 |                 0 |\n",
      "+-------------+-------------------+-------------------+\n"
     ]
    },
    {
     "name": "stderr",
     "output_type": "stream",
     "text": [
      "2024-07-29 03:14:58,956 - text2sql-eval - INFO - Already found results from folder\n",
      "2024-07-29 03:14:58,956 - text2sql-eval - INFO - Already found results from folder\n",
      "2024-07-29 03:14:58,959 - text2sql-eval - WARNING - Forcing generations\n",
      "2024-07-29 03:14:58,959 - text2sql-eval - WARNING - Forcing generations\n"
     ]
    },
    {
     "name": "stdout",
     "output_type": "stream",
     "text": [
      "=====================   VES    =====================\n",
      "+-------------+-----------+-------------------+\n",
      "| Category    |   VES (%) |   total questions |\n",
      "+=============+===========+===================+\n",
      "| challenging |   31.3255 |               100 |\n",
      "+-------------+-----------+-------------------+\n",
      "| overall     |   31.3255 |               100 |\n",
      "+-------------+-----------+-------------------+\n",
      "| moderate    |    0      |                 0 |\n",
      "+-------------+-----------+-------------------+\n",
      "| simple      |    0      |                 0 |\n",
      "+-------------+-----------+-------------------+\n",
      "\n",
      "\n",
      "\n",
      "\n",
      "================ codellama-70b-instruct ================\n"
     ]
    },
    {
     "name": "stderr",
     "output_type": "stream",
     "text": [
      "100%|██████████| 100/100 [05:48<00:00,  3.48s/it]\n",
      "2024-07-29 03:20:47,095 - text2sql-eval - INFO - all responses written to ./experiments/eval/prem_codellama-70b-instruct/predict_dev.json\n",
      "2024-07-29 03:20:47,095 - text2sql-eval - INFO - all responses written to ./experiments/eval/prem_codellama-70b-instruct/predict_dev.json\n"
     ]
    },
    {
     "name": "stdout",
     "output_type": "stream",
     "text": [
      "=>  ./experiments/eval/prem_codellama-70b-instruct acc_challenging.json\n",
      "=====================   ACCURACY    =====================\n",
      "+-------------+-------------------+-------------------+\n",
      "| Category    |   num_correct (%) |   total questions |\n",
      "+=============+===================+===================+\n",
      "| challenging |                18 |               100 |\n",
      "+-------------+-------------------+-------------------+\n",
      "| overall     |                18 |               100 |\n",
      "+-------------+-------------------+-------------------+\n",
      "| moderate    |                 0 |                 0 |\n",
      "+-------------+-------------------+-------------------+\n",
      "| simple      |                 0 |                 0 |\n",
      "+-------------+-------------------+-------------------+\n"
     ]
    },
    {
     "name": "stderr",
     "output_type": "stream",
     "text": [
      "2024-07-29 03:29:44,426 - text2sql-eval - INFO - Already found results from folder\n",
      "2024-07-29 03:29:44,426 - text2sql-eval - INFO - Already found results from folder\n",
      "2024-07-29 03:29:44,428 - text2sql-eval - WARNING - Forcing generations\n",
      "2024-07-29 03:29:44,428 - text2sql-eval - WARNING - Forcing generations\n"
     ]
    },
    {
     "name": "stdout",
     "output_type": "stream",
     "text": [
      "=====================   VES    =====================\n",
      "+-------------+-----------+-------------------+\n",
      "| Category    |   VES (%) |   total questions |\n",
      "+=============+===========+===================+\n",
      "| challenging |    18.237 |               100 |\n",
      "+-------------+-----------+-------------------+\n",
      "| overall     |    18.237 |               100 |\n",
      "+-------------+-----------+-------------------+\n",
      "| moderate    |     0     |                 0 |\n",
      "+-------------+-----------+-------------------+\n",
      "| simple      |     0     |                 0 |\n",
      "+-------------+-----------+-------------------+\n",
      "\n",
      "\n",
      "\n",
      "\n",
      "================ claude-3-opus ================\n"
     ]
    },
    {
     "name": "stderr",
     "output_type": "stream",
     "text": [
      "100%|██████████| 100/100 [11:42<00:00,  7.03s/it]\n",
      "2024-07-29 03:41:27,409 - text2sql-eval - INFO - all responses written to ./experiments/eval/prem_claude-3-opus/predict_dev.json\n",
      "2024-07-29 03:41:27,409 - text2sql-eval - INFO - all responses written to ./experiments/eval/prem_claude-3-opus/predict_dev.json\n"
     ]
    },
    {
     "name": "stdout",
     "output_type": "stream",
     "text": [
      "=>  ./experiments/eval/prem_claude-3-opus acc_challenging.json\n",
      "=====================   ACCURACY    =====================\n",
      "+-------------+-------------------+-------------------+\n",
      "| Category    |   num_correct (%) |   total questions |\n",
      "+=============+===================+===================+\n",
      "| challenging |                26 |               100 |\n",
      "+-------------+-------------------+-------------------+\n",
      "| overall     |                26 |               100 |\n",
      "+-------------+-------------------+-------------------+\n",
      "| moderate    |                 0 |                 0 |\n",
      "+-------------+-------------------+-------------------+\n",
      "| simple      |                 0 |                 0 |\n",
      "+-------------+-------------------+-------------------+\n"
     ]
    },
    {
     "name": "stderr",
     "output_type": "stream",
     "text": [
      "2024-07-29 03:50:32,831 - text2sql-eval - INFO - Already found results from folder\n",
      "2024-07-29 03:50:32,831 - text2sql-eval - INFO - Already found results from folder\n",
      "2024-07-29 03:50:32,833 - text2sql-eval - WARNING - Forcing generations\n",
      "2024-07-29 03:50:32,833 - text2sql-eval - WARNING - Forcing generations\n"
     ]
    },
    {
     "name": "stdout",
     "output_type": "stream",
     "text": [
      "=====================   VES    =====================\n",
      "+-------------+-----------+-------------------+\n",
      "| Category    |   VES (%) |   total questions |\n",
      "+=============+===========+===================+\n",
      "| challenging |   28.2806 |               100 |\n",
      "+-------------+-----------+-------------------+\n",
      "| overall     |   28.2806 |               100 |\n",
      "+-------------+-----------+-------------------+\n",
      "| moderate    |    0      |                 0 |\n",
      "+-------------+-----------+-------------------+\n",
      "| simple      |    0      |                 0 |\n",
      "+-------------+-----------+-------------------+\n",
      "\n",
      "\n",
      "\n",
      "\n",
      "================ llama-3.1-405-instruct ================\n"
     ]
    },
    {
     "name": "stderr",
     "output_type": "stream",
     "text": [
      "100%|██████████| 100/100 [00:22<00:00,  4.35it/s]\n",
      "2024-07-29 03:50:55,815 - text2sql-eval - INFO - all responses written to ./experiments/eval/prem_llama-3.1-405-instruct/predict_dev.json\n",
      "2024-07-29 03:50:55,815 - text2sql-eval - INFO - all responses written to ./experiments/eval/prem_llama-3.1-405-instruct/predict_dev.json\n"
     ]
    },
    {
     "name": "stdout",
     "output_type": "stream",
     "text": [
      "=>  ./experiments/eval/prem_llama-3.1-405-instruct acc_challenging.json\n",
      "=====================   ACCURACY    =====================\n",
      "+-------------+-------------------+-------------------+\n",
      "| Category    |   num_correct (%) |   total questions |\n",
      "+=============+===================+===================+\n",
      "| challenging |                 0 |               100 |\n",
      "+-------------+-------------------+-------------------+\n",
      "| overall     |                 0 |               100 |\n",
      "+-------------+-------------------+-------------------+\n",
      "| moderate    |                 0 |                 0 |\n",
      "+-------------+-------------------+-------------------+\n",
      "| simple      |                 0 |                 0 |\n",
      "+-------------+-------------------+-------------------+\n",
      "=====================   VES    =====================\n",
      "+-------------+-----------+-------------------+\n",
      "| Category    |   VES (%) |   total questions |\n",
      "+=============+===========+===================+\n",
      "| challenging |         0 |               100 |\n",
      "+-------------+-----------+-------------------+\n",
      "| overall     |         0 |               100 |\n",
      "+-------------+-----------+-------------------+\n",
      "| moderate    |         0 |                 0 |\n",
      "+-------------+-----------+-------------------+\n",
      "| simple      |         0 |                 0 |\n",
      "+-------------+-----------+-------------------+\n",
      "\n",
      "\n",
      "\n",
      "\n"
     ]
    }
   ],
   "source": [
    "run(\n",
    "    dataset=eval_dataset,\n",
    "    model_set=model_set,\n",
    "    difficulty=\"challenging\",\n",
    "    num_rows=100\n",
    ")"
   ]
  },
  {
   "cell_type": "code",
   "execution_count": null,
   "metadata": {},
   "outputs": [],
   "source": []
  },
  {
   "cell_type": "code",
   "execution_count": null,
   "metadata": {},
   "outputs": [],
   "source": []
  },
  {
   "cell_type": "code",
   "execution_count": null,
   "metadata": {},
   "outputs": [],
   "source": []
  }
 ],
 "metadata": {
  "kernelspec": {
   "display_name": "prem",
   "language": "python",
   "name": "python3"
  },
  "language_info": {
   "codemirror_mode": {
    "name": "ipython",
    "version": 3
   },
   "file_extension": ".py",
   "mimetype": "text/x-python",
   "name": "python",
   "nbconvert_exporter": "python",
   "pygments_lexer": "ipython3",
   "version": "3.12.4"
  }
 },
 "nbformat": 4,
 "nbformat_minor": 2
}
