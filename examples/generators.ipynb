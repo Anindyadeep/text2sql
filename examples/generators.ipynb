{
 "cells": [
  {
   "cell_type": "code",
   "execution_count": 1,
   "metadata": {},
   "outputs": [
    {
     "name": "stdout",
     "output_type": "stream",
     "text": [
      "/root/anindya/Submission/text2sql/text2sql\n"
     ]
    }
   ],
   "source": [
    "# cd .."
   ]
  },
  {
   "cell_type": "markdown",
   "metadata": {},
   "source": [
    "## Generators\n",
    "\n",
    "premsql generators is responsible to produce SQL from natural language question from the user. You can think this as of the inference api specific to text-to-sql. Generators are very much modular in nature, you can plug in any kind of third party API or model or any kind of pipeline (more on this below). \n",
    "\n",
    "This tutorial is going to cover how to use huggingface and premai provider to use local models and hosted models for free. Lastly, we are also going to show how can you write your own generators. Let's start by importing all the various packages. "
   ]
  },
  {
   "cell_type": "code",
   "execution_count": 2,
   "metadata": {},
   "outputs": [
    {
     "name": "stderr",
     "output_type": "stream",
     "text": [
      "/root/miniconda3/envs/deep/lib/python3.10/site-packages/tqdm/auto.py:21: TqdmWarning: IProgress not found. Please update jupyter and ipywidgets. See https://ipywidgets.readthedocs.io/en/stable/user_install.html\n",
      "  from .autonotebook import tqdm as notebook_tqdm\n"
     ]
    }
   ],
   "source": [
    "from premsql.generators.huggingface import Text2SQLGeneratorHF\n",
    "from premsql.generators.premai import Text2SQLGeneratorPremAI\n",
    "from premsql.datasets import Text2SQLDataset"
   ]
  },
  {
   "cell_type": "markdown",
   "metadata": {},
   "source": [
    "### How Generators work\n",
    "\n",
    "premsql generators provide two types of generation strategies. One is a simple generation strategy where we simply generate the SQL from the prompt (which contains the schema of the tables, user questions, few shot examples etc). \n",
    "\n",
    "There is another strategy which sometimes give a bump in the performance is, execution guided decoding. Simply, it means the model generates a SQL and it executes the SQL into the DB. If it gets an error, it uses that error in a self-correction prompt and generates once again, till the max number of trials maxes out. \n",
    "\n",
    "We will be showing both the examples below. Let's start with simple generation. We will be using BirdBench dev dataset for this example. "
   ]
  },
  {
   "cell_type": "code",
   "execution_count": 5,
   "metadata": {},
   "outputs": [
    {
     "name": "stderr",
     "output_type": "stream",
     "text": [
      "2024-09-05 18:17:04,316 - [BIRD-DATASET] - INFO - Loaded Bird Dataset\n",
      "2024-09-05 18:17:04,317 - [BIRD-DATASET] - INFO - Setting up Bird Dataset\n"
     ]
    },
    {
     "name": "stdout",
     "output_type": "stream",
     "text": [
      "{'database_folder_name': 'test_databases', 'json_file_name': 'test.json'}\n"
     ]
    },
    {
     "name": "stderr",
     "output_type": "stream",
     "text": [
      "Applying prompt: 100%|██████████| 10/10 [00:00<00:00, 1724.35it/s]\n"
     ]
    }
   ],
   "source": [
    "dataset = Text2SQLDataset(\n",
    "    dataset_name=\"bird\",\n",
    "    split=\"test\",\n",
    "    database_folder_name=\"test_databases\",\n",
    "    json_file_name=\"test.json\",\n",
    "    dataset_folder=\"/root/anindya/Submission/text2sql/data\",\n",
    ").setup_dataset(\n",
    "    num_rows=10,\n",
    "    num_fewshot=3,\n",
    ")"
   ]
  },
  {
   "cell_type": "code",
   "execution_count": 6,
   "metadata": {},
   "outputs": [
    {
     "data": {
      "text/plain": [
       "{'question_id': 0,\n",
       " 'db_id': 'california_schools',\n",
       " 'question': 'What is the highest eligible free rate for K-12 students in the schools in Alameda County?',\n",
       " 'evidence': 'Eligible free rate for K-12 = `Free Meal Count (K-12)` / `Enrollment (K-12)`',\n",
       " 'SQL': \"SELECT `Free Meal Count (K-12)` / `Enrollment (K-12)` FROM frpm WHERE `County Name` = 'Alameda' ORDER BY (CAST(`Free Meal Count (K-12)` AS REAL) / `Enrollment (K-12)`) DESC LIMIT 1\",\n",
       " 'difficulty': 'simple',\n",
       " 'db_path': '/root/anindya/Submission/text2sql/data/bird/test/test_databases/california_schools/california_schools.sqlite',\n",
       " 'prompt': \"\\n# Follow these instruction:\\nYou will be given schemas of tables of a database. Your job is to write correct\\nerror free SQL query based on the question asked. Please make sure:\\n\\n1. Do not add ``` at start / end of the query. It should be a single line query in a  single line (string format)\\n2. Make sure the column names are correct and exists in the table\\n3. For column names which has a space with it, make sure you have put `` in that column name\\n4. Think step by step and always check schema and question and the column names before writing the\\nquery. \\n\\n# Database and Table Schema:\\nCREATE TABLE frpm\\n(\\n    CDSCode                                       TEXT not null\\n        primary key,\\n    `Academic Year`                               TEXT  null,\\n    `County Code`                                 TEXT  null,\\n    `District Code`                               INTEGER         null,\\n    `School Code`                                 TEXT  null,\\n    `County Name`                                 TEXT null,\\n    `District Name`                               TEXT null,\\n    `School Name`                                 TEXT null,\\n    `District Type`                               TEXT null,\\n    `School Type`                                 TEXT null,\\n    `Educational Option Type`                     TEXT null,\\n    `NSLP Provision Status`                       TEXT null,\\n    `Charter School (Y/N)`                        INTEGER    null,\\n    `Charter School Number`                       TEXT  null,\\n    `Charter Funding Type`                        TEXT null,\\n    IRC                                           INTEGER    null,\\n    `Low Grade`                                   TEXT  null,\\n    `High Grade`                                  TEXT null,\\n    `Enrollment (K-12)`                           REAL      null,\\n    `Free Meal Count (K-12)`                      REAL       null,\\n    `Percent (%) Eligible Free (K-12)`            REAL       null,\\n    `FRPM Count (K-12)`                           REAL       null,\\n    `Percent (%) Eligible FRPM (K-12)`            REAL       null,\\n    `Enrollment (Ages 5-17)`                      REAL       null,\\n    `Free Meal Count (Ages 5-17)`                 REAL       null,\\n    `Percent (%) Eligible Free (Ages 5-17)`       REAL       null,\\n    `FRPM Count (Ages 5-17)`                      REAL       null,\\n    `Percent (%) Eligible FRPM (Ages 5-17)`       REAL       null,\\n    `2013-14 CALPADS Fall 1 Certification Status` INTEGER    null,\\n    foreign key (CDSCode) references schools (CDSCode)\\n)\\nCREATE TABLE satscores\\n(\\n    cds         TEXT not null\\n        primary key,\\n    rtype       TEXT  not null,\\n    sname       TEXT null,\\n    dname       TEXT null,\\n    cname       TEXT null,\\n    enroll12    INTEGER         not null,\\n    NumTstTakr  INTEGER          not null,\\n    AvgScrRead  INTEGER          null,\\n    AvgScrMath  INTEGER          null,\\n    AvgScrWrite INTEGER          null,\\n    NumGE1500   INTEGER          null,\\n--     PctGE1500   double      null,\\n        foreign key (cds) references schools (CDSCode)\\n)\\nCREATE TABLE schools\\n(\\n    CDSCode     TEXT not null\\n        primary key,\\n    NCESDist    TEXT  null,\\n    NCESSchool  TEXT  null,\\n    StatusType  TEXT  not null,\\n    County      TEXT not null,\\n    District    TEXT not null,\\n    School      TEXT null,\\n    Street      TEXT null,\\n    StreetAbr   TEXT null,\\n    City        TEXT null,\\n    Zip         TEXT null,\\n    State       TEXT  null,\\n    MailStreet  TEXT null,\\n    MailStrAbr  TEXT null,\\n    MailCity    TEXT null,\\n    MailZip     TEXT null,\\n    MailState   TEXT  null,\\n    Phone       TEXT null,\\n    Ext         TEXT  null,\\n    Website     TEXT null,\\n    OpenDate    DATE        null,\\n    ClosedDate  DATE        null,\\n    Charter     INTEGER    null,\\n    CharterNum  TEXT  null,\\n    FundingType TEXT null,\\n    DOC         TEXT  not null,\\n    DOCType     TEXT not null,\\n    SOC         TEXT  null,\\n    SOCType     TEXT null,\\n    EdOpsCode   TEXT  null,\\n    EdOpsName   TEXT null,\\n    EILCode     TEXT  null,\\n    EILName     TEXT null,\\n    GSoffered   TEXT null,\\n    GSserved    TEXT  null,\\n    Virtual     TEXT  null,\\n    Magnet      INTEGER   null,\\n    Latitude    REAL      null,\\n    Longitude   REAL      null,\\n    AdmFName1   TEXT null,\\n    AdmLName1   TEXT null,\\n    AdmEmail1   TEXT null,\\n    AdmFName2   TEXT null,\\n    AdmLName2   TEXT null,\\n    AdmEmail2   TEXT null,\\n    AdmFName3   TEXT  null,\\n    AdmLName3   TEXT null,\\n    AdmEmail3   TEXT null,\\n    LastUpdate  DATE        not null\\n)\\n\\n\\n\\n# Here are some Examples on how to generate SQL statements and use column names:\\n\\nQuestion: Please list the lowest three eligible free rates for students aged 5-17 in continuation schools.\\nSQL: SELECT `Free Meal Count (Ages 5-17)` / `Enrollment (Ages 5-17)` FROM frpm WHERE `Educational Option Type` = 'Continuation School' AND `Free Meal Count (Ages 5-17)` / `Enrollment (Ages 5-17)` IS NOT NULL ORDER BY `Free Meal Count (Ages 5-17)` / `Enrollment (Ages 5-17)` ASC LIMIT 3\\n\\nQuestion: What is the unabbreviated mailing street address of the school with the highest FRPM count for K-12 students?\\nSQL: SELECT T2.MailStreet FROM frpm AS T1 INNER JOIN schools AS T2 ON T1.CDSCode = T2.CDSCode ORDER BY T1.`FRPM Count (K-12)` DESC LIMIT 1\\n\\nQuestion: Among the schools with the SAT test takers of over 500, please list the schools that are magnet schools or offer a magnet program.\\nSQL: SELECT T2.School FROM satscores AS T1 INNER JOIN schools AS T2 ON T1.cds = T2.CDSCode WHERE T2.Magnet = 1 AND T1.NumTstTakr > 500\\n\\n\\n# Question: What is the highest eligible free rate for K-12 students in the schools in Alameda County?\\n\\n# SQL: \\n\"}"
      ]
     },
     "execution_count": 6,
     "metadata": {},
     "output_type": "execute_result"
    }
   ],
   "source": [
    "dataset[0]"
   ]
  },
  {
   "cell_type": "markdown",
   "metadata": {},
   "source": [
    "The input of the generator is not just prompt but a `data_blob` which should contain the following information:\n",
    "\n",
    "- `prompt`: The prompt which needs to be passed\n",
    "- `db_path`: The db path \n",
    "\n",
    "If you have these two information you can use the generators for your own inference using your own data. Make sure the prompt contains all the schema of the tables belonging to the DB. Now let's define our generators. We will be using [Prem-1B-SQL](https://huggingface.co/premai-io/prem-1B-SQL) for this experiment. "
   ]
  },
  {
   "cell_type": "code",
   "execution_count": 8,
   "metadata": {},
   "outputs": [
    {
     "name": "stderr",
     "output_type": "stream",
     "text": [
      "2024-09-05 18:21:22,692 - [GENERATOR] - INFO - Created new experiment folder: experiments/test/test_generators\n",
      "Unrecognized keys in `rope_scaling` for 'rope_type'='linear': {'type'}\n",
      "Loading checkpoint shards: 100%|██████████| 2/2 [00:06<00:00,  3.08s/it]\n"
     ]
    }
   ],
   "source": [
    "generator = Text2SQLGeneratorHF(\n",
    "    model_or_name_or_path=\"premai-io/prem-1B-SQL\",\n",
    "    experiment_name=\"test_generators\",\n",
    "    device=\"cuda:0\",\n",
    "    type=\"test\"\n",
    ")"
   ]
  },
  {
   "cell_type": "markdown",
   "metadata": {},
   "source": [
    "`Text2SQLGeneratorHF` internally uses HuggingFace transformers. You instantiate the class with a `experiment_name`. A folder `./experiments/<experiment_name>` is created in your current directory (You can also change that directory by assigning the path to `experiment_folder` argument). \n",
    "\n",
    "This folders are created to store the generation and evaluation result, so that you do need to generate results everytime. It caches them inside the experiment directory. Now let's generate results using a single datapoint. "
   ]
  },
  {
   "cell_type": "code",
   "execution_count": 11,
   "metadata": {},
   "outputs": [
    {
     "name": "stderr",
     "output_type": "stream",
     "text": [
      "/root/miniconda3/envs/deep/lib/python3.10/site-packages/transformers/generation/configuration_utils.py:567: UserWarning: `do_sample` is set to `False`. However, `temperature` is set to `0.1` -- this flag is only used in sample-based generation modes. You should set `do_sample=True` or unset `temperature`. This was detected when initializing the generation config instance, which means the corresponding file may hold incorrect parameterization and should be fixed.\n",
      "  warnings.warn(\n"
     ]
    },
    {
     "data": {
      "text/plain": [
       "\"SELECT MAX(T1.`Free Meal Count (K-12)`) FROM frpm AS T1 INNER JOIN schools AS T2 ON T1.CDSCode = T2.CDSCode WHERE T2.County = 'Alameda' AND T1.`Free Meal Count (K-12)` IS NOT NULL AND T1.`Free Meal Count (K-12)` > 0 GROUP BY T1.`Free Meal Count (K-12)` ORDER BY T1.`Free Meal Count (K-12)` DESC LIMIT 1\""
      ]
     },
     "execution_count": 11,
     "metadata": {},
     "output_type": "execute_result"
    }
   ],
   "source": [
    "import sqlparse\n",
    "\n",
    "sample = dataset[0]\n",
    "\n",
    "response = generator.generate(\n",
    "    data_blob={\n",
    "        \"prompt\": sample[\"prompt\"],\n",
    "    },\n",
    "    temperature=0.1,\n",
    "    max_new_tokens=256\n",
    ")\n",
    "\n",
    "sqlparse.format(response)"
   ]
  },
  {
   "cell_type": "markdown",
   "metadata": {},
   "source": [
    "The `generate` method is used just for single response. This does not saves anything. Now let's try to generate for multiple question and save the results. "
   ]
  },
  {
   "cell_type": "markdown",
   "metadata": {},
   "source": []
  }
 ],
 "metadata": {
  "kernelspec": {
   "display_name": "deep",
   "language": "python",
   "name": "python3"
  },
  "language_info": {
   "codemirror_mode": {
    "name": "ipython",
    "version": 3
   },
   "file_extension": ".py",
   "mimetype": "text/x-python",
   "name": "python",
   "nbconvert_exporter": "python",
   "pygments_lexer": "ipython3",
   "version": "3.10.12"
  }
 },
 "nbformat": 4,
 "nbformat_minor": 2
}
