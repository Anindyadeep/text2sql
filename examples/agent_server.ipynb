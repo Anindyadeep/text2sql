{
 "cells": [
  {
   "cell_type": "code",
   "execution_count": 1,
   "metadata": {},
   "outputs": [
    {
     "name": "stdout",
     "output_type": "stream",
     "text": [
      "/Users/anindya/personal/PremSQL/v2_agent/premsql\n"
     ]
    },
    {
     "name": "stderr",
     "output_type": "stream",
     "text": [
      "/Users/anindya/Library/Caches/pypoetry/virtualenvs/text2sql-jLjiS8B5-py3.11/lib/python3.11/site-packages/IPython/core/magics/osm.py:417: UserWarning: This is now an optional IPython functionality, setting dhist requires you to install the `pickleshare` library.\n",
      "  self.shell.db['dhist'] = compress_dhist(dhist)[-100:]\n"
     ]
    }
   ],
   "source": [
    "cd .."
   ]
  },
  {
   "cell_type": "code",
   "execution_count": 1,
   "metadata": {},
   "outputs": [],
   "source": [
    "import random"
   ]
  },
  {
   "cell_type": "code",
   "execution_count": 3,
   "metadata": {},
   "outputs": [
    {
     "data": {
      "text/plain": [
       "[7546]"
      ]
     },
     "execution_count": 3,
     "metadata": {},
     "output_type": "execute_result"
    }
   ],
   "source": [
    "random.sample(range(7000, 9000), k=1)"
   ]
  },
  {
   "cell_type": "code",
   "execution_count": 4,
   "metadata": {},
   "outputs": [
    {
     "data": {
      "text/plain": [
       "8194"
      ]
     },
     "execution_count": 4,
     "metadata": {},
     "output_type": "execute_result"
    }
   ],
   "source": [
    "random.choice(range(7000, 9000))"
   ]
  },
  {
   "cell_type": "code",
   "execution_count": null,
   "metadata": {},
   "outputs": [],
   "source": [
    "from premsql.generators import Text2SQLGeneratorOpenAI\n",
    "\n",
    "Text2SQLGeneratorOpenAI(openai_api_key=)"
   ]
  },
  {
   "cell_type": "markdown",
   "metadata": {},
   "source": [
    "Create a file named `serve.py` (or it could be anything) and add the following lines there:\n",
    "\n",
    "```Python\n",
    "from premsql.playground import AgentServer\n",
    "from premsql.agents import BaseLineAgent\n",
    "from premsql.generators import Text2SQLGeneratorMLX\n",
    "from premsql.executors import ExecutorUsingLangChain\n",
    "from premsql.agents.tools import SimpleMatplotlibTool\n",
    "\n",
    "db_connection_uri = (\n",
    "    \"sqlite://///Users/anindya/personal/PremSQL/v2_agent/premsql/codebase_community.sqlite\"\n",
    ")\n",
    "text2sql_model = Text2SQLGeneratorMLX(\n",
    "    model_name_or_path=\"premai-io/prem-1B-SQL\", experiment_name=\"text2sql_model\", type=\"test\"\n",
    ")\n",
    "\n",
    "analyser_plotter_model = Text2SQLGeneratorMLX(\n",
    "    model_name_or_path=\"meta-llama/Llama-3.2-1B-Instruct\", experiment_name=\"analyser_model\", type=\"test\",\n",
    ")\n",
    "\n",
    "baseline = BaseLineAgent(\n",
    "    session_name=\"local_db_rag\",                    # An unique session name must be put\n",
    "    db_connection_uri=db_connection_uri,            # DB which needs to connect for Text to SQL \n",
    "    specialized_model1=text2sql_model,              # This referes to the Text to SQL model\n",
    "    specialized_model2=analyser_plotter_model,      # This refers to any model other than Text to SQL\n",
    "    executor=ExecutorUsingLangChain(),              # Which DB executor to use\n",
    "    auto_filter_tables=False,                       # Whether to filter tables before Text to SQL or not (uses LLM)\n",
    "    plot_tool=SimpleMatplotlibTool()                # Matplotlib Tool which will be used by plotter worker\n",
    ")\n",
    "\n",
    "agent_server = AgentServer(agent=baseline, port=8263)\n",
    "agent_server.launch()\n",
    "```\n",
    "\n",
    "After this just run:\n",
    "\n",
    "```bash\n",
    "python serve.py\n",
    "```\n",
    "\n",
    "You will see a FastAPI server got started at your mentioned port with the following output:\n",
    "\n",
    "```bash\n",
    "INFO:     Started server process [78518]\n",
    "INFO:     Waiting for application startup.\n",
    "2024-10-28 00:29:46,953 - [FASTAPI-INFERENCE-SERVICE] - INFO - Starting up the application\n",
    "INFO:     Application startup complete.\n",
    "INFO:     Uvicorn running on http://0.0.0.0:8263 (Press CTRL+C to quit)\n",
    "```\n",
    "\n",
    "This means that our server has started now we can query it with our Terminal using Curl or Python requests or Javascript axios. "
   ]
  },
  {
   "cell_type": "code",
   "execution_count": 10,
   "metadata": {},
   "outputs": [],
   "source": [
    "from premsql.playground import  InferenceServerAPIClient\n",
    "from premsql.agents.tools import SimpleMatplotlibTool"
   ]
  },
  {
   "cell_type": "code",
   "execution_count": null,
   "metadata": {},
   "outputs": [],
   "source": []
  }
 ],
 "metadata": {
  "kernelspec": {
   "display_name": "text2sql-jLjiS8B5-py3.11",
   "language": "python",
   "name": "python3"
  },
  "language_info": {
   "codemirror_mode": {
    "name": "ipython",
    "version": 3
   },
   "file_extension": ".py",
   "mimetype": "text/x-python",
   "name": "python",
   "nbconvert_exporter": "python",
   "pygments_lexer": "ipython3",
   "version": "3.11.10"
  }
 },
 "nbformat": 4,
 "nbformat_minor": 2
}
