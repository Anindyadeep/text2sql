{
 "cells": [
  {
   "cell_type": "code",
   "execution_count": 1,
   "metadata": {},
   "outputs": [
    {
     "name": "stderr",
     "output_type": "stream",
     "text": [
      "/home/anindya/miniconda3/envs/deep/lib/python3.10/site-packages/tqdm/auto.py:21: TqdmWarning: IProgress not found. Please update jupyter and ipywidgets. See https://ipywidgets.readthedocs.io/en/stable/user_install.html\n",
      "  from .autonotebook import tqdm as notebook_tqdm\n",
      "100%|██████████| 8421/8421 [00:33<00:00, 251.80it/s]\n",
      "2024-08-06 13:48:15,685 - [DATA-UTILS] - INFO - Finished processing the WikiSQL validation dataset.\n"
     ]
    }
   ],
   "source": [
    "from text2sql.dataset.utils import process_wikisql_modified_dataset\n",
    "\n",
    "dataset = process_wikisql_modified_dataset(\n",
    "    download_folder=\"./data\",\n",
    "    split=\"validation\",\n",
    "    force=False\n",
    ")"
   ]
  },
  {
   "cell_type": "code",
   "execution_count": 3,
   "metadata": {},
   "outputs": [
    {
     "data": {
      "text/plain": [
       "'SELECT Position FROM table_1_10015132_11 WHERE School_Club_Team = \"Butler\" CC (KS)'"
      ]
     },
     "execution_count": 3,
     "metadata": {},
     "output_type": "execute_result"
    }
   ],
   "source": [
    "dataset[0][\"sql\"]"
   ]
  },
  {
   "cell_type": "code",
   "execution_count": 5,
   "metadata": {},
   "outputs": [],
   "source": [
    "import sqlite3\n",
    "\n",
    "conn = sqlite3.connect(\"data/wikisql/validation/validation.db\")\n",
    "cursor = conn.cursor()"
   ]
  },
  {
   "cell_type": "code",
   "execution_count": 6,
   "metadata": {},
   "outputs": [
    {
     "data": {
      "text/plain": [
       "[('Guard-Forward',),\n",
       " ('Guard-Forward',),\n",
       " ('Guard-Forward',),\n",
       " ('Guard-Forward',),\n",
       " ('Guard-Forward',),\n",
       " ('Guard-Forward',)]"
      ]
     },
     "execution_count": 6,
     "metadata": {},
     "output_type": "execute_result"
    }
   ],
   "source": [
    "sql = 'SELECT Position FROM table_1_10015132_11 WHERE School_Club_Team = \"Butler CC (KS)\"'\n",
    "cursor.execute(sql)\n",
    "cursor.fetchall()\n"
   ]
  },
  {
   "cell_type": "code",
   "execution_count": 8,
   "metadata": {},
   "outputs": [
    {
     "data": {
      "text/html": [
       "<div>\n",
       "<style scoped>\n",
       "    .dataframe tbody tr th:only-of-type {\n",
       "        vertical-align: middle;\n",
       "    }\n",
       "\n",
       "    .dataframe tbody tr th {\n",
       "        vertical-align: top;\n",
       "    }\n",
       "\n",
       "    .dataframe thead th {\n",
       "        text-align: right;\n",
       "    }\n",
       "</style>\n",
       "<table border=\"1\" class=\"dataframe\">\n",
       "  <thead>\n",
       "    <tr style=\"text-align: right;\">\n",
       "      <th></th>\n",
       "      <th>Player</th>\n",
       "      <th>No_</th>\n",
       "      <th>Nationality</th>\n",
       "      <th>Position</th>\n",
       "      <th>Years_in_Toronto</th>\n",
       "      <th>School_Club_Team</th>\n",
       "    </tr>\n",
       "  </thead>\n",
       "  <tbody>\n",
       "    <tr>\n",
       "      <th>0</th>\n",
       "      <td>Antonio Lang</td>\n",
       "      <td>21</td>\n",
       "      <td>United States</td>\n",
       "      <td>Guard-Forward</td>\n",
       "      <td>1999-2000</td>\n",
       "      <td>Duke</td>\n",
       "    </tr>\n",
       "    <tr>\n",
       "      <th>1</th>\n",
       "      <td>Voshon Lenard</td>\n",
       "      <td>2</td>\n",
       "      <td>United States</td>\n",
       "      <td>Guard</td>\n",
       "      <td>2002-03</td>\n",
       "      <td>Minnesota</td>\n",
       "    </tr>\n",
       "    <tr>\n",
       "      <th>2</th>\n",
       "      <td>Martin Lewis</td>\n",
       "      <td>32, 44</td>\n",
       "      <td>United States</td>\n",
       "      <td>Guard-Forward</td>\n",
       "      <td>1996-97</td>\n",
       "      <td>Butler CC (KS)</td>\n",
       "    </tr>\n",
       "    <tr>\n",
       "      <th>3</th>\n",
       "      <td>Brad Lohaus</td>\n",
       "      <td>33</td>\n",
       "      <td>United States</td>\n",
       "      <td>Forward-Center</td>\n",
       "      <td>1996</td>\n",
       "      <td>Iowa</td>\n",
       "    </tr>\n",
       "    <tr>\n",
       "      <th>4</th>\n",
       "      <td>Art Long</td>\n",
       "      <td>42</td>\n",
       "      <td>United States</td>\n",
       "      <td>Forward-Center</td>\n",
       "      <td>2002-03</td>\n",
       "      <td>Cincinnati</td>\n",
       "    </tr>\n",
       "    <tr>\n",
       "      <th>5</th>\n",
       "      <td>John Long</td>\n",
       "      <td>25</td>\n",
       "      <td>United States</td>\n",
       "      <td>Guard</td>\n",
       "      <td>1996-97</td>\n",
       "      <td>Detroit</td>\n",
       "    </tr>\n",
       "    <tr>\n",
       "      <th>6</th>\n",
       "      <td>Kyle Lowry</td>\n",
       "      <td>3</td>\n",
       "      <td>United States</td>\n",
       "      <td>Guard</td>\n",
       "      <td>2012-Present</td>\n",
       "      <td>Villanova</td>\n",
       "    </tr>\n",
       "    <tr>\n",
       "      <th>7</th>\n",
       "      <td>Antonio Lang</td>\n",
       "      <td>21</td>\n",
       "      <td>United States</td>\n",
       "      <td>Guard-Forward</td>\n",
       "      <td>1999-2000</td>\n",
       "      <td>Duke</td>\n",
       "    </tr>\n",
       "    <tr>\n",
       "      <th>8</th>\n",
       "      <td>Voshon Lenard</td>\n",
       "      <td>2</td>\n",
       "      <td>United States</td>\n",
       "      <td>Guard</td>\n",
       "      <td>2002-03</td>\n",
       "      <td>Minnesota</td>\n",
       "    </tr>\n",
       "    <tr>\n",
       "      <th>9</th>\n",
       "      <td>Martin Lewis</td>\n",
       "      <td>32, 44</td>\n",
       "      <td>United States</td>\n",
       "      <td>Guard-Forward</td>\n",
       "      <td>1996-97</td>\n",
       "      <td>Butler CC (KS)</td>\n",
       "    </tr>\n",
       "    <tr>\n",
       "      <th>10</th>\n",
       "      <td>Brad Lohaus</td>\n",
       "      <td>33</td>\n",
       "      <td>United States</td>\n",
       "      <td>Forward-Center</td>\n",
       "      <td>1996</td>\n",
       "      <td>Iowa</td>\n",
       "    </tr>\n",
       "    <tr>\n",
       "      <th>11</th>\n",
       "      <td>Art Long</td>\n",
       "      <td>42</td>\n",
       "      <td>United States</td>\n",
       "      <td>Forward-Center</td>\n",
       "      <td>2002-03</td>\n",
       "      <td>Cincinnati</td>\n",
       "    </tr>\n",
       "    <tr>\n",
       "      <th>12</th>\n",
       "      <td>John Long</td>\n",
       "      <td>25</td>\n",
       "      <td>United States</td>\n",
       "      <td>Guard</td>\n",
       "      <td>1996-97</td>\n",
       "      <td>Detroit</td>\n",
       "    </tr>\n",
       "    <tr>\n",
       "      <th>13</th>\n",
       "      <td>Kyle Lowry</td>\n",
       "      <td>3</td>\n",
       "      <td>United States</td>\n",
       "      <td>Guard</td>\n",
       "      <td>2012-Present</td>\n",
       "      <td>Villanova</td>\n",
       "    </tr>\n",
       "    <tr>\n",
       "      <th>14</th>\n",
       "      <td>Antonio Lang</td>\n",
       "      <td>21</td>\n",
       "      <td>United States</td>\n",
       "      <td>Guard-Forward</td>\n",
       "      <td>1999-2000</td>\n",
       "      <td>Duke</td>\n",
       "    </tr>\n",
       "    <tr>\n",
       "      <th>15</th>\n",
       "      <td>Voshon Lenard</td>\n",
       "      <td>2</td>\n",
       "      <td>United States</td>\n",
       "      <td>Guard</td>\n",
       "      <td>2002-03</td>\n",
       "      <td>Minnesota</td>\n",
       "    </tr>\n",
       "    <tr>\n",
       "      <th>16</th>\n",
       "      <td>Martin Lewis</td>\n",
       "      <td>32, 44</td>\n",
       "      <td>United States</td>\n",
       "      <td>Guard-Forward</td>\n",
       "      <td>1996-97</td>\n",
       "      <td>Butler CC (KS)</td>\n",
       "    </tr>\n",
       "    <tr>\n",
       "      <th>17</th>\n",
       "      <td>Brad Lohaus</td>\n",
       "      <td>33</td>\n",
       "      <td>United States</td>\n",
       "      <td>Forward-Center</td>\n",
       "      <td>1996</td>\n",
       "      <td>Iowa</td>\n",
       "    </tr>\n",
       "    <tr>\n",
       "      <th>18</th>\n",
       "      <td>Art Long</td>\n",
       "      <td>42</td>\n",
       "      <td>United States</td>\n",
       "      <td>Forward-Center</td>\n",
       "      <td>2002-03</td>\n",
       "      <td>Cincinnati</td>\n",
       "    </tr>\n",
       "    <tr>\n",
       "      <th>19</th>\n",
       "      <td>John Long</td>\n",
       "      <td>25</td>\n",
       "      <td>United States</td>\n",
       "      <td>Guard</td>\n",
       "      <td>1996-97</td>\n",
       "      <td>Detroit</td>\n",
       "    </tr>\n",
       "    <tr>\n",
       "      <th>20</th>\n",
       "      <td>Kyle Lowry</td>\n",
       "      <td>3</td>\n",
       "      <td>United States</td>\n",
       "      <td>Guard</td>\n",
       "      <td>2012-Present</td>\n",
       "      <td>Villanova</td>\n",
       "    </tr>\n",
       "    <tr>\n",
       "      <th>21</th>\n",
       "      <td>Antonio Lang</td>\n",
       "      <td>21</td>\n",
       "      <td>United States</td>\n",
       "      <td>Guard-Forward</td>\n",
       "      <td>1999-2000</td>\n",
       "      <td>Duke</td>\n",
       "    </tr>\n",
       "    <tr>\n",
       "      <th>22</th>\n",
       "      <td>Voshon Lenard</td>\n",
       "      <td>2</td>\n",
       "      <td>United States</td>\n",
       "      <td>Guard</td>\n",
       "      <td>2002-03</td>\n",
       "      <td>Minnesota</td>\n",
       "    </tr>\n",
       "    <tr>\n",
       "      <th>23</th>\n",
       "      <td>Martin Lewis</td>\n",
       "      <td>32, 44</td>\n",
       "      <td>United States</td>\n",
       "      <td>Guard-Forward</td>\n",
       "      <td>1996-97</td>\n",
       "      <td>Butler CC (KS)</td>\n",
       "    </tr>\n",
       "    <tr>\n",
       "      <th>24</th>\n",
       "      <td>Brad Lohaus</td>\n",
       "      <td>33</td>\n",
       "      <td>United States</td>\n",
       "      <td>Forward-Center</td>\n",
       "      <td>1996</td>\n",
       "      <td>Iowa</td>\n",
       "    </tr>\n",
       "    <tr>\n",
       "      <th>25</th>\n",
       "      <td>Art Long</td>\n",
       "      <td>42</td>\n",
       "      <td>United States</td>\n",
       "      <td>Forward-Center</td>\n",
       "      <td>2002-03</td>\n",
       "      <td>Cincinnati</td>\n",
       "    </tr>\n",
       "    <tr>\n",
       "      <th>26</th>\n",
       "      <td>John Long</td>\n",
       "      <td>25</td>\n",
       "      <td>United States</td>\n",
       "      <td>Guard</td>\n",
       "      <td>1996-97</td>\n",
       "      <td>Detroit</td>\n",
       "    </tr>\n",
       "    <tr>\n",
       "      <th>27</th>\n",
       "      <td>Kyle Lowry</td>\n",
       "      <td>3</td>\n",
       "      <td>United States</td>\n",
       "      <td>Guard</td>\n",
       "      <td>2012-Present</td>\n",
       "      <td>Villanova</td>\n",
       "    </tr>\n",
       "    <tr>\n",
       "      <th>28</th>\n",
       "      <td>Antonio Lang</td>\n",
       "      <td>21</td>\n",
       "      <td>United States</td>\n",
       "      <td>Guard-Forward</td>\n",
       "      <td>1999-2000</td>\n",
       "      <td>Duke</td>\n",
       "    </tr>\n",
       "    <tr>\n",
       "      <th>29</th>\n",
       "      <td>Voshon Lenard</td>\n",
       "      <td>2</td>\n",
       "      <td>United States</td>\n",
       "      <td>Guard</td>\n",
       "      <td>2002-03</td>\n",
       "      <td>Minnesota</td>\n",
       "    </tr>\n",
       "    <tr>\n",
       "      <th>30</th>\n",
       "      <td>Martin Lewis</td>\n",
       "      <td>32, 44</td>\n",
       "      <td>United States</td>\n",
       "      <td>Guard-Forward</td>\n",
       "      <td>1996-97</td>\n",
       "      <td>Butler CC (KS)</td>\n",
       "    </tr>\n",
       "    <tr>\n",
       "      <th>31</th>\n",
       "      <td>Brad Lohaus</td>\n",
       "      <td>33</td>\n",
       "      <td>United States</td>\n",
       "      <td>Forward-Center</td>\n",
       "      <td>1996</td>\n",
       "      <td>Iowa</td>\n",
       "    </tr>\n",
       "    <tr>\n",
       "      <th>32</th>\n",
       "      <td>Art Long</td>\n",
       "      <td>42</td>\n",
       "      <td>United States</td>\n",
       "      <td>Forward-Center</td>\n",
       "      <td>2002-03</td>\n",
       "      <td>Cincinnati</td>\n",
       "    </tr>\n",
       "    <tr>\n",
       "      <th>33</th>\n",
       "      <td>John Long</td>\n",
       "      <td>25</td>\n",
       "      <td>United States</td>\n",
       "      <td>Guard</td>\n",
       "      <td>1996-97</td>\n",
       "      <td>Detroit</td>\n",
       "    </tr>\n",
       "    <tr>\n",
       "      <th>34</th>\n",
       "      <td>Kyle Lowry</td>\n",
       "      <td>3</td>\n",
       "      <td>United States</td>\n",
       "      <td>Guard</td>\n",
       "      <td>2012-Present</td>\n",
       "      <td>Villanova</td>\n",
       "    </tr>\n",
       "    <tr>\n",
       "      <th>35</th>\n",
       "      <td>Antonio Lang</td>\n",
       "      <td>21</td>\n",
       "      <td>United States</td>\n",
       "      <td>Guard-Forward</td>\n",
       "      <td>1999-2000</td>\n",
       "      <td>Duke</td>\n",
       "    </tr>\n",
       "    <tr>\n",
       "      <th>36</th>\n",
       "      <td>Voshon Lenard</td>\n",
       "      <td>2</td>\n",
       "      <td>United States</td>\n",
       "      <td>Guard</td>\n",
       "      <td>2002-03</td>\n",
       "      <td>Minnesota</td>\n",
       "    </tr>\n",
       "    <tr>\n",
       "      <th>37</th>\n",
       "      <td>Martin Lewis</td>\n",
       "      <td>32, 44</td>\n",
       "      <td>United States</td>\n",
       "      <td>Guard-Forward</td>\n",
       "      <td>1996-97</td>\n",
       "      <td>Butler CC (KS)</td>\n",
       "    </tr>\n",
       "    <tr>\n",
       "      <th>38</th>\n",
       "      <td>Brad Lohaus</td>\n",
       "      <td>33</td>\n",
       "      <td>United States</td>\n",
       "      <td>Forward-Center</td>\n",
       "      <td>1996</td>\n",
       "      <td>Iowa</td>\n",
       "    </tr>\n",
       "    <tr>\n",
       "      <th>39</th>\n",
       "      <td>Art Long</td>\n",
       "      <td>42</td>\n",
       "      <td>United States</td>\n",
       "      <td>Forward-Center</td>\n",
       "      <td>2002-03</td>\n",
       "      <td>Cincinnati</td>\n",
       "    </tr>\n",
       "    <tr>\n",
       "      <th>40</th>\n",
       "      <td>John Long</td>\n",
       "      <td>25</td>\n",
       "      <td>United States</td>\n",
       "      <td>Guard</td>\n",
       "      <td>1996-97</td>\n",
       "      <td>Detroit</td>\n",
       "    </tr>\n",
       "    <tr>\n",
       "      <th>41</th>\n",
       "      <td>Kyle Lowry</td>\n",
       "      <td>3</td>\n",
       "      <td>United States</td>\n",
       "      <td>Guard</td>\n",
       "      <td>2012-Present</td>\n",
       "      <td>Villanova</td>\n",
       "    </tr>\n",
       "  </tbody>\n",
       "</table>\n",
       "</div>"
      ],
      "text/plain": [
       "           Player     No_    Nationality        Position Years_in_Toronto  \\\n",
       "0    Antonio Lang      21  United States   Guard-Forward        1999-2000   \n",
       "1   Voshon Lenard       2  United States           Guard          2002-03   \n",
       "2    Martin Lewis  32, 44  United States   Guard-Forward          1996-97   \n",
       "3     Brad Lohaus      33  United States  Forward-Center             1996   \n",
       "4        Art Long      42  United States  Forward-Center          2002-03   \n",
       "5       John Long      25  United States           Guard          1996-97   \n",
       "6      Kyle Lowry       3  United States           Guard     2012-Present   \n",
       "7    Antonio Lang      21  United States   Guard-Forward        1999-2000   \n",
       "8   Voshon Lenard       2  United States           Guard          2002-03   \n",
       "9    Martin Lewis  32, 44  United States   Guard-Forward          1996-97   \n",
       "10    Brad Lohaus      33  United States  Forward-Center             1996   \n",
       "11       Art Long      42  United States  Forward-Center          2002-03   \n",
       "12      John Long      25  United States           Guard          1996-97   \n",
       "13     Kyle Lowry       3  United States           Guard     2012-Present   \n",
       "14   Antonio Lang      21  United States   Guard-Forward        1999-2000   \n",
       "15  Voshon Lenard       2  United States           Guard          2002-03   \n",
       "16   Martin Lewis  32, 44  United States   Guard-Forward          1996-97   \n",
       "17    Brad Lohaus      33  United States  Forward-Center             1996   \n",
       "18       Art Long      42  United States  Forward-Center          2002-03   \n",
       "19      John Long      25  United States           Guard          1996-97   \n",
       "20     Kyle Lowry       3  United States           Guard     2012-Present   \n",
       "21   Antonio Lang      21  United States   Guard-Forward        1999-2000   \n",
       "22  Voshon Lenard       2  United States           Guard          2002-03   \n",
       "23   Martin Lewis  32, 44  United States   Guard-Forward          1996-97   \n",
       "24    Brad Lohaus      33  United States  Forward-Center             1996   \n",
       "25       Art Long      42  United States  Forward-Center          2002-03   \n",
       "26      John Long      25  United States           Guard          1996-97   \n",
       "27     Kyle Lowry       3  United States           Guard     2012-Present   \n",
       "28   Antonio Lang      21  United States   Guard-Forward        1999-2000   \n",
       "29  Voshon Lenard       2  United States           Guard          2002-03   \n",
       "30   Martin Lewis  32, 44  United States   Guard-Forward          1996-97   \n",
       "31    Brad Lohaus      33  United States  Forward-Center             1996   \n",
       "32       Art Long      42  United States  Forward-Center          2002-03   \n",
       "33      John Long      25  United States           Guard          1996-97   \n",
       "34     Kyle Lowry       3  United States           Guard     2012-Present   \n",
       "35   Antonio Lang      21  United States   Guard-Forward        1999-2000   \n",
       "36  Voshon Lenard       2  United States           Guard          2002-03   \n",
       "37   Martin Lewis  32, 44  United States   Guard-Forward          1996-97   \n",
       "38    Brad Lohaus      33  United States  Forward-Center             1996   \n",
       "39       Art Long      42  United States  Forward-Center          2002-03   \n",
       "40      John Long      25  United States           Guard          1996-97   \n",
       "41     Kyle Lowry       3  United States           Guard     2012-Present   \n",
       "\n",
       "   School_Club_Team  \n",
       "0              Duke  \n",
       "1         Minnesota  \n",
       "2    Butler CC (KS)  \n",
       "3              Iowa  \n",
       "4        Cincinnati  \n",
       "5           Detroit  \n",
       "6         Villanova  \n",
       "7              Duke  \n",
       "8         Minnesota  \n",
       "9    Butler CC (KS)  \n",
       "10             Iowa  \n",
       "11       Cincinnati  \n",
       "12          Detroit  \n",
       "13        Villanova  \n",
       "14             Duke  \n",
       "15        Minnesota  \n",
       "16   Butler CC (KS)  \n",
       "17             Iowa  \n",
       "18       Cincinnati  \n",
       "19          Detroit  \n",
       "20        Villanova  \n",
       "21             Duke  \n",
       "22        Minnesota  \n",
       "23   Butler CC (KS)  \n",
       "24             Iowa  \n",
       "25       Cincinnati  \n",
       "26          Detroit  \n",
       "27        Villanova  \n",
       "28             Duke  \n",
       "29        Minnesota  \n",
       "30   Butler CC (KS)  \n",
       "31             Iowa  \n",
       "32       Cincinnati  \n",
       "33          Detroit  \n",
       "34        Villanova  \n",
       "35             Duke  \n",
       "36        Minnesota  \n",
       "37   Butler CC (KS)  \n",
       "38             Iowa  \n",
       "39       Cincinnati  \n",
       "40          Detroit  \n",
       "41        Villanova  "
      ]
     },
     "execution_count": 8,
     "metadata": {},
     "output_type": "execute_result"
    }
   ],
   "source": [
    "cursor.execute(\"SELECT * FROM table_1_10015132_11\")\n",
    "cursor.fetchall()\n",
    "\n",
    "# make a simple table to visualize results\n",
    "import pandas as pd\n",
    "\n",
    "cursor.execute(\"SELECT * FROM table_1_10015132_11\")\n",
    "rows = cursor.fetchall()\n",
    "columns = [description[0] for description in cursor.description]\n",
    "\n",
    "df = pd.DataFrame(rows, columns=columns)\n",
    "df\n"
   ]
  },
  {
   "cell_type": "code",
   "execution_count": 9,
   "metadata": {},
   "outputs": [
    {
     "data": {
      "text/plain": [
       "9428"
      ]
     },
     "execution_count": 9,
     "metadata": {},
     "output_type": "execute_result"
    }
   ],
   "source": [
    "import json \n",
    "\n",
    "\n",
    "len(json.load(open(\"data/bird/train/train.json\", \"r\")))"
   ]
  },
  {
   "cell_type": "code",
   "execution_count": 10,
   "metadata": {},
   "outputs": [],
   "source": [
    "from datasets import load_dataset\n",
    "\n",
    "d = load_dataset(\"Salesforce/wikisql\")[\"train\"]"
   ]
  },
  {
   "cell_type": "code",
   "execution_count": 13,
   "metadata": {},
   "outputs": [
    {
     "data": {
      "text/plain": [
       "'SELECT Notes FROM table WHERE Current slogan = SOUTH AUSTRALIA'"
      ]
     },
     "execution_count": 13,
     "metadata": {},
     "output_type": "execute_result"
    }
   ],
   "source": [
    "d[0][\"sql\"][\"human_readable\"]"
   ]
  },
  {
   "cell_type": "code",
   "execution_count": 14,
   "metadata": {},
   "outputs": [],
   "source": [
    "import re\n",
    "\n",
    "def quote_sql_values(sql_query):\n",
    "    # This regex matches values after '=' and before spaces or closing parentheses, assuming they are not already quoted\n",
    "    def replacer(match):\n",
    "        value = match.group(2)\n",
    "        # Check if the value is already quoted\n",
    "        if not (value.startswith(\"'\") and value.endswith(\"'\")) and not (value.startswith('\"') and value.endswith('\"')):\n",
    "            value = f\"'{value}'\"\n",
    "        return f\"{match.group(1)}{value}\"\n",
    "\n",
    "    # Find and quote values in WHERE clauses\n",
    "    sql_query = re.sub(r'(\\s=\\s)([^\\'\"\\s)(]+)', replacer, sql_query)\n",
    "\n",
    "    # Ensure column names with spaces or special characters are enclosed in square brackets\n",
    "    sql_query = re.sub(r'\\b(\\w+\\s\\w+)\\b', r'[\\1]', sql_query)\n",
    "\n",
    "    return sql_query"
   ]
  },
  {
   "cell_type": "code",
   "execution_count": 15,
   "metadata": {},
   "outputs": [
    {
     "name": "stdout",
     "output_type": "stream",
     "text": [
      "[SELECT Notes] [FROM table] [WHERE Current] slogan = 'SOUTH' AUSTRALIA\n"
     ]
    }
   ],
   "source": [
    "sql_query = 'SELECT Notes FROM table WHERE Current slogan = SOUTH AUSTRALIA'\n",
    "corrected_sql_query = quote_sql_values(sql_query)\n",
    "print(corrected_sql_query)"
   ]
  },
  {
   "cell_type": "code",
   "execution_count": 6,
   "metadata": {},
   "outputs": [
    {
     "data": {
      "text/plain": [
       "'table_1_10015132_11'"
      ]
     },
     "execution_count": 6,
     "metadata": {},
     "output_type": "execute_result"
    }
   ],
   "source": [
    "dataset[0][\"table\"]"
   ]
  },
  {
   "cell_type": "code",
   "execution_count": 5,
   "metadata": {},
   "outputs": [
    {
     "data": {
      "text/plain": [
       "[(0, 'Player', 'TEXT', 0, None, 0),\n",
       " (1, 'No_', 'TEXT', 0, None, 0),\n",
       " (2, 'Nationality', 'TEXT', 0, None, 0),\n",
       " (3, 'Position', 'TEXT', 0, None, 0),\n",
       " (4, 'Years_in_Toronto', 'TEXT', 0, None, 0),\n",
       " (5, 'School_Club_Team', 'TEXT', 0, None, 0)]"
      ]
     },
     "execution_count": 5,
     "metadata": {},
     "output_type": "execute_result"
    }
   ],
   "source": [
    "cursor.execute(\"PRAGMA table_info(table_1_10015132_11)\")\n",
    "columns = cursor.fetchall()\n",
    "columns"
   ]
  },
  {
   "cell_type": "code",
   "execution_count": 16,
   "metadata": {},
   "outputs": [
    {
     "data": {
      "text/plain": [
       "56355"
      ]
     },
     "execution_count": 16,
     "metadata": {},
     "output_type": "execute_result"
    }
   ],
   "source": [
    "len(d)"
   ]
  },
  {
   "cell_type": "code",
   "execution_count": 17,
   "metadata": {},
   "outputs": [
    {
     "data": {
      "text/plain": [
       "8421"
      ]
     },
     "execution_count": 17,
     "metadata": {},
     "output_type": "execute_result"
    }
   ],
   "source": [
    "len(dataset)"
   ]
  },
  {
   "cell_type": "code",
   "execution_count": null,
   "metadata": {},
   "outputs": [],
   "source": []
  },
  {
   "cell_type": "code",
   "execution_count": null,
   "metadata": {},
   "outputs": [],
   "source": []
  },
  {
   "cell_type": "code",
   "execution_count": 2,
   "metadata": {},
   "outputs": [
    {
     "data": {
      "text/plain": [
       "8421"
      ]
     },
     "execution_count": 2,
     "metadata": {},
     "output_type": "execute_result"
    }
   ],
   "source": [
    "len(dataset)"
   ]
  },
  {
   "cell_type": "code",
   "execution_count": 4,
   "metadata": {},
   "outputs": [
    {
     "data": {
      "text/plain": [
       "{'question': 'What position does the player who played for butler cc (ks) play?',\n",
       " 'table': 'table_1_10015132_11',\n",
       " 'db_path': 'data/wikisql/validation/validation.db',\n",
       " 'sql': 'SELECT Position FROM table_1_10015132_11 WHERE School/Club Team = Butler CC (KS)'}"
      ]
     },
     "execution_count": 4,
     "metadata": {},
     "output_type": "execute_result"
    }
   ],
   "source": [
    "dataset[0]"
   ]
  },
  {
   "cell_type": "code",
   "execution_count": 5,
   "metadata": {},
   "outputs": [],
   "source": [
    "# TODO: the name of the columns in the table and in the SQL are not in sync \n",
    "# TODO: I also need to test once I handle the above issue to see\n",
    "# if things are retrieved correctly or not\n",
    "\n",
    "\n",
    "import sqlite3\n",
    "\n",
    "conn = sqlite3.connect(\"data/wikisql/validation/validation.db\")\n",
    "cursor = conn.cursor()\n"
   ]
  },
  {
   "cell_type": "code",
   "execution_count": 9,
   "metadata": {},
   "outputs": [
    {
     "data": {
      "text/plain": [
       "[(0, 'Player', 'TEXT', 0, None, 0),\n",
       " (1, 'No_', 'TEXT', 0, None, 0),\n",
       " (2, 'Nationality', 'TEXT', 0, None, 0),\n",
       " (3, 'Position', 'TEXT', 0, None, 0),\n",
       " (4, 'Years_in_Toronto', 'TEXT', 0, None, 0),\n",
       " (5, 'School_Club_Team', 'TEXT', 0, None, 0)]"
      ]
     },
     "execution_count": 9,
     "metadata": {},
     "output_type": "execute_result"
    }
   ],
   "source": [
    "# list out all the columns of table: table_1_10015132_11\n",
    "\n",
    "cursor.execute(\"PRAGMA table_info(table_1_10015132_11)\")\n",
    "columns = cursor.fetchall()\n",
    "columns"
   ]
  },
  {
   "cell_type": "code",
   "execution_count": 15,
   "metadata": {},
   "outputs": [],
   "source": [
    "import sqlparse\n",
    "from difflib import get_close_matches\n",
    "\n",
    "sql_query = dataset[0][\"sql\"]\n",
    "actual_columns = [col[1] for col in columns]\n",
    "parsed = sqlparse.parse(sql_query)[0]\n"
   ]
  },
  {
   "cell_type": "code",
   "execution_count": 17,
   "metadata": {},
   "outputs": [
    {
     "data": {
      "text/plain": [
       "[<Identifier 'table_...' at 0x7FBABC9887C0>]"
      ]
     },
     "execution_count": 17,
     "metadata": {},
     "output_type": "execute_result"
    }
   ],
   "source": [
    "identifiers = [token for token in parsed.tokens if isinstance(token, sqlparse.sql.Identifier)]\n",
    "identifiers"
   ]
  },
  {
   "cell_type": "code",
   "execution_count": 18,
   "metadata": {},
   "outputs": [],
   "source": [
    "corrected_query = sql_query\n",
    "for identifier in identifiers:\n",
    "    col_name = str(identifier).strip()\n",
    "    \n",
    "    close_matches = get_close_matches(col_name, actual_columns, n=1, cutoff=0.6)\n",
    "    if close_matches:\n",
    "        correct_name = close_matches[0]\n",
    "        corrected_query = corrected_query.replace(col_name, correct_name)"
   ]
  },
  {
   "cell_type": "code",
   "execution_count": 19,
   "metadata": {},
   "outputs": [
    {
     "data": {
      "text/plain": [
       "'SELECT Position FROM table_1_10015132_11 WHERE School/Club Team = Butler CC (KS)'"
      ]
     },
     "execution_count": 19,
     "metadata": {},
     "output_type": "execute_result"
    }
   ],
   "source": [
    "corrected_query"
   ]
  },
  {
   "cell_type": "code",
   "execution_count": 21,
   "metadata": {},
   "outputs": [],
   "source": [
    "import sqlparse\n",
    "from difflib import get_close_matches\n",
    "\n",
    "def correct_column_names(column_metadata, sql_query):\n",
    "    # Extract actual column names from metadata\n",
    "    actual_columns = [col[1] for col in column_metadata]\n",
    "    \n",
    "    # Parse the SQL query\n",
    "    parsed = sqlparse.parse(sql_query)[0]\n",
    "    \n",
    "    # Extract the identifiers from the SQL query\n",
    "    identifiers = [token for token in parsed.tokens if isinstance(token, sqlparse.sql.Identifier)]\n",
    "    \n",
    "    # Correct the column names\n",
    "    corrected_query = sql_query\n",
    "    for identifier in identifiers:\n",
    "        col_name = str(identifier).strip()\n",
    "        close_matches = get_close_matches(col_name, actual_columns, n=1, cutoff=0.6)\n",
    "        if close_matches:\n",
    "            correct_name = close_matches[0]\n",
    "            corrected_query = corrected_query.replace(col_name, correct_name)\n",
    "    \n",
    "    return corrected_query"
   ]
  },
  {
   "cell_type": "code",
   "execution_count": 22,
   "metadata": {},
   "outputs": [
    {
     "name": "stdout",
     "output_type": "stream",
     "text": [
      "SELECT Position FROM table_1_10015132_11 WHERE School/Club Team = 'Butler CC (KS)'\n"
     ]
    }
   ],
   "source": [
    "# Example usage\n",
    "column_metadata = [\n",
    "    (0, 'Player', 'TEXT', 0, None, 0),\n",
    "    (1, 'No_', 'TEXT', 0, None, 0),\n",
    "    (2, 'Nationality', 'TEXT', 0, None, 0),\n",
    "    (3, 'Position', 'TEXT', 0, None, 0),\n",
    "    (4, 'Years_in_Toronto', 'TEXT', 0, None, 0),\n",
    "    (5, 'School_Club_Team', 'TEXT', 0, None, 0)\n",
    "]\n",
    "\n",
    "sql_query = \"SELECT Position FROM table_1_10015132_11 WHERE School/Club Team = 'Butler CC (KS)'\"\n",
    "column_metadata = columns \n",
    "\n",
    "corrected_sql = correct_column_names(column_metadata, sql_query)\n",
    "print(corrected_sql)"
   ]
  },
  {
   "cell_type": "code",
   "execution_count": 24,
   "metadata": {},
   "outputs": [
    {
     "data": {
      "text/plain": [
       "[('Guard-Forward',),\n",
       " ('Guard-Forward',),\n",
       " ('Guard-Forward',),\n",
       " ('Guard-Forward',),\n",
       " ('Guard-Forward',)]"
      ]
     },
     "execution_count": 24,
     "metadata": {},
     "output_type": "execute_result"
    }
   ],
   "source": [
    "sql = \"SELECT Position FROM table_1_10015132_11 WHERE School_Club_Team = 'Butler CC (KS)'\"\n",
    "cursor.execute(sql)\n",
    "\n",
    "cursor.fetchall()\n"
   ]
  },
  {
   "cell_type": "code",
   "execution_count": 25,
   "metadata": {},
   "outputs": [
    {
     "data": {
      "text/plain": [
       "[('Antonio Lang', '21', 'United States', 'Guard-Forward', '1999-2000', 'Duke'),\n",
       " ('Voshon Lenard', '2', 'United States', 'Guard', '2002-03', 'Minnesota'),\n",
       " ('Martin Lewis',\n",
       "  '32, 44',\n",
       "  'United States',\n",
       "  'Guard-Forward',\n",
       "  '1996-97',\n",
       "  'Butler CC (KS)'),\n",
       " ('Brad Lohaus', '33', 'United States', 'Forward-Center', '1996', 'Iowa'),\n",
       " ('Art Long',\n",
       "  '42',\n",
       "  'United States',\n",
       "  'Forward-Center',\n",
       "  '2002-03',\n",
       "  'Cincinnati'),\n",
       " ('John Long', '25', 'United States', 'Guard', '1996-97', 'Detroit'),\n",
       " ('Kyle Lowry', '3', 'United States', 'Guard', '2012-Present', 'Villanova'),\n",
       " ('Antonio Lang', '21', 'United States', 'Guard-Forward', '1999-2000', 'Duke'),\n",
       " ('Voshon Lenard', '2', 'United States', 'Guard', '2002-03', 'Minnesota'),\n",
       " ('Martin Lewis',\n",
       "  '32, 44',\n",
       "  'United States',\n",
       "  'Guard-Forward',\n",
       "  '1996-97',\n",
       "  'Butler CC (KS)'),\n",
       " ('Brad Lohaus', '33', 'United States', 'Forward-Center', '1996', 'Iowa'),\n",
       " ('Art Long',\n",
       "  '42',\n",
       "  'United States',\n",
       "  'Forward-Center',\n",
       "  '2002-03',\n",
       "  'Cincinnati'),\n",
       " ('John Long', '25', 'United States', 'Guard', '1996-97', 'Detroit'),\n",
       " ('Kyle Lowry', '3', 'United States', 'Guard', '2012-Present', 'Villanova'),\n",
       " ('Antonio Lang', '21', 'United States', 'Guard-Forward', '1999-2000', 'Duke'),\n",
       " ('Voshon Lenard', '2', 'United States', 'Guard', '2002-03', 'Minnesota'),\n",
       " ('Martin Lewis',\n",
       "  '32, 44',\n",
       "  'United States',\n",
       "  'Guard-Forward',\n",
       "  '1996-97',\n",
       "  'Butler CC (KS)'),\n",
       " ('Brad Lohaus', '33', 'United States', 'Forward-Center', '1996', 'Iowa'),\n",
       " ('Art Long',\n",
       "  '42',\n",
       "  'United States',\n",
       "  'Forward-Center',\n",
       "  '2002-03',\n",
       "  'Cincinnati'),\n",
       " ('John Long', '25', 'United States', 'Guard', '1996-97', 'Detroit'),\n",
       " ('Kyle Lowry', '3', 'United States', 'Guard', '2012-Present', 'Villanova'),\n",
       " ('Antonio Lang', '21', 'United States', 'Guard-Forward', '1999-2000', 'Duke'),\n",
       " ('Voshon Lenard', '2', 'United States', 'Guard', '2002-03', 'Minnesota'),\n",
       " ('Martin Lewis',\n",
       "  '32, 44',\n",
       "  'United States',\n",
       "  'Guard-Forward',\n",
       "  '1996-97',\n",
       "  'Butler CC (KS)'),\n",
       " ('Brad Lohaus', '33', 'United States', 'Forward-Center', '1996', 'Iowa'),\n",
       " ('Art Long',\n",
       "  '42',\n",
       "  'United States',\n",
       "  'Forward-Center',\n",
       "  '2002-03',\n",
       "  'Cincinnati'),\n",
       " ('John Long', '25', 'United States', 'Guard', '1996-97', 'Detroit'),\n",
       " ('Kyle Lowry', '3', 'United States', 'Guard', '2012-Present', 'Villanova'),\n",
       " ('Antonio Lang', '21', 'United States', 'Guard-Forward', '1999-2000', 'Duke'),\n",
       " ('Voshon Lenard', '2', 'United States', 'Guard', '2002-03', 'Minnesota'),\n",
       " ('Martin Lewis',\n",
       "  '32, 44',\n",
       "  'United States',\n",
       "  'Guard-Forward',\n",
       "  '1996-97',\n",
       "  'Butler CC (KS)'),\n",
       " ('Brad Lohaus', '33', 'United States', 'Forward-Center', '1996', 'Iowa'),\n",
       " ('Art Long',\n",
       "  '42',\n",
       "  'United States',\n",
       "  'Forward-Center',\n",
       "  '2002-03',\n",
       "  'Cincinnati'),\n",
       " ('John Long', '25', 'United States', 'Guard', '1996-97', 'Detroit'),\n",
       " ('Kyle Lowry', '3', 'United States', 'Guard', '2012-Present', 'Villanova')]"
      ]
     },
     "execution_count": 25,
     "metadata": {},
     "output_type": "execute_result"
    }
   ],
   "source": [
    "sql = \"SELECT * FROM table_1_10015132_11\"\n",
    "cursor.execute(sql)\n",
    "\n",
    "cursor.fetchall()"
   ]
  },
  {
   "cell_type": "code",
   "execution_count": null,
   "metadata": {},
   "outputs": [],
   "source": [
    "import os \n",
    "from zipfile import ZipFile\n",
    "\n",
    "with ZipFile(zip_file, \"r\") as zip_ref:\n",
    "    zip_ref.extractall(download_path)\n",
    "\n",
    "os.remove(zip_file)"
   ]
  },
  {
   "cell_type": "code",
   "execution_count": null,
   "metadata": {},
   "outputs": [],
   "source": []
  },
  {
   "cell_type": "code",
   "execution_count": null,
   "metadata": {},
   "outputs": [],
   "source": []
  },
  {
   "cell_type": "code",
   "execution_count": null,
   "metadata": {},
   "outputs": [],
   "source": []
  },
  {
   "cell_type": "code",
   "execution_count": null,
   "metadata": {},
   "outputs": [],
   "source": []
  },
  {
   "cell_type": "code",
   "execution_count": 5,
   "metadata": {},
   "outputs": [
    {
     "name": "stderr",
     "output_type": "stream",
     "text": [
      "  9%|▉         | 5341/56355 [00:21<03:41, 230.66it/s]2024-08-06 10:18:54,008 - [DATA-UTILS] - ERROR - Failed to create table table_1_169766_13. Error: near \"Returning\": syntax error\n",
      "2024-08-06 10:18:54,009 - [DATA-UTILS] - ERROR - Failed to create table table_1_169766_13. Error: near \"Returning\": syntax error\n",
      "2024-08-06 10:18:54,009 - [DATA-UTILS] - ERROR - Failed to create table table_1_169766_13. Error: near \"Returning\": syntax error\n",
      "2024-08-06 10:18:54,010 - [DATA-UTILS] - ERROR - Failed to create table table_1_169766_13. Error: near \"Returning\": syntax error\n",
      "2024-08-06 10:18:54,011 - [DATA-UTILS] - ERROR - Failed to create table table_1_169766_13. Error: near \"Returning\": syntax error\n",
      " 54%|█████▍    | 30696/56355 [02:50<03:39, 116.87it/s]2024-08-06 10:21:23,247 - [DATA-UTILS] - ERROR - Failed to create table table_2_169743_3. Error: near \"Returning\": syntax error\n",
      "2024-08-06 10:21:23,250 - [DATA-UTILS] - ERROR - Failed to create table table_2_169743_3. Error: near \"Returning\": syntax error\n",
      "2024-08-06 10:21:23,253 - [DATA-UTILS] - ERROR - Failed to create table table_2_169743_3. Error: near \"Returning\": syntax error\n",
      "2024-08-06 10:21:23,257 - [DATA-UTILS] - ERROR - Failed to create table table_2_169743_3. Error: near \"Returning\": syntax error\n",
      "2024-08-06 10:21:23,260 - [DATA-UTILS] - ERROR - Failed to create table table_2_169743_3. Error: near \"Returning\": syntax error\n",
      " 62%|██████▏   | 35115/56355 [03:29<03:04, 115.32it/s]2024-08-06 10:22:01,760 - [DATA-UTILS] - ERROR - Failed to create table table_2_169766_13. Error: near \"Returning\": syntax error\n",
      "2024-08-06 10:22:01,764 - [DATA-UTILS] - ERROR - Failed to create table table_2_169766_13. Error: near \"Returning\": syntax error\n",
      "2024-08-06 10:22:01,768 - [DATA-UTILS] - ERROR - Failed to create table table_2_169766_13. Error: near \"Returning\": syntax error\n",
      "100%|██████████| 56355/56355 [08:42<00:00, 107.81it/s]\n"
     ]
    }
   ],
   "source": [
    "from text2sql.dataset.utils import process_wikisql_modified_dataset\n",
    "\n",
    "train_dataset = process_wikisql_modified_dataset(\n",
    "    download_folder=\"./data\",\n",
    "    split=\"train\",\n",
    "    force=False\n",
    ")"
   ]
  },
  {
   "cell_type": "code",
   "execution_count": 1,
   "metadata": {},
   "outputs": [
    {
     "name": "stderr",
     "output_type": "stream",
     "text": [
      "/home/anindya/miniconda3/envs/deep/lib/python3.10/site-packages/tqdm/auto.py:21: TqdmWarning: IProgress not found. Please update jupyter and ipywidgets. See https://ipywidgets.readthedocs.io/en/stable/user_install.html\n",
      "  from .autonotebook import tqdm as notebook_tqdm\n",
      "2024-08-06 10:17:40,873 - [DATA-UTILS] - INFO - => Dataset for training [BirdBench trainset] already exists.\n"
     ]
    }
   ],
   "source": [
    "from text2sql.dataset.utils import download_and_process_bird_dataset\n",
    "\n",
    "download_and_process_bird_dataset(\n",
    "    split=\"train\",\n",
    "    download_folder=\"./data\",\n",
    "    force=False\n",
    ")"
   ]
  },
  {
   "cell_type": "code",
   "execution_count": 2,
   "metadata": {},
   "outputs": [
    {
     "name": "stderr",
     "output_type": "stream",
     "text": [
      "2024-08-06 10:17:40,880 - [DATA-UTILS] - INFO - => Dataset for evaluation [BirdBench devset] already exists.\n"
     ]
    }
   ],
   "source": [
    "from text2sql.dataset.utils import download_and_process_bird_dataset\n",
    "\n",
    "download_and_process_bird_dataset(\n",
    "    split=\"validation\",\n",
    "    download_folder=\"./data\",\n",
    "    force=False\n",
    ")"
   ]
  },
  {
   "cell_type": "code",
   "execution_count": null,
   "metadata": {},
   "outputs": [],
   "source": []
  },
  {
   "cell_type": "code",
   "execution_count": null,
   "metadata": {},
   "outputs": [],
   "source": []
  },
  {
   "cell_type": "code",
   "execution_count": null,
   "metadata": {},
   "outputs": [],
   "source": []
  },
  {
   "cell_type": "code",
   "execution_count": null,
   "metadata": {},
   "outputs": [],
   "source": []
  },
  {
   "cell_type": "code",
   "execution_count": null,
   "metadata": {},
   "outputs": [],
   "source": []
  },
  {
   "cell_type": "code",
   "execution_count": null,
   "metadata": {},
   "outputs": [],
   "source": []
  },
  {
   "cell_type": "code",
   "execution_count": null,
   "metadata": {},
   "outputs": [],
   "source": []
  },
  {
   "cell_type": "code",
   "execution_count": null,
   "metadata": {},
   "outputs": [],
   "source": []
  },
  {
   "cell_type": "code",
   "execution_count": 16,
   "metadata": {},
   "outputs": [],
   "source": [
    "from pathlib import Path\n",
    "\n",
    "download_path = Path(\"./data\") / \"bird\" / \"train\"\n",
    "zip_file = download_path / \"train.zip\"\n",
    "inner_zips = download_path / \"train\"\n",
    "\n",
    "inner_zip_file = download_path / \"train_databases.zip\"\n",
    "unzip_dir = download_path / \"train_databases\"\n",
    "macosx_dir = download_path / \"__MACOSX\"\n",
    "inner_macosx_dir = download_path / \"train_databases\" / \"__MACOSX\""
   ]
  },
  {
   "cell_type": "code",
   "execution_count": null,
   "metadata": {},
   "outputs": [],
   "source": [
    "inner_train_databases = unzip_dir / \"train_databases\""
   ]
  },
  {
   "cell_type": "code",
   "execution_count": 8,
   "metadata": {},
   "outputs": [],
   "source": [
    "import os \n",
    "from zipfile import ZipFile\n",
    "\n",
    "with ZipFile(zip_file, \"r\") as zip_ref:\n",
    "    zip_ref.extractall(download_path)\n",
    "\n",
    "os.remove(zip_file)"
   ]
  },
  {
   "cell_type": "code",
   "execution_count": 10,
   "metadata": {},
   "outputs": [],
   "source": [
    "import shutil\n",
    "\n",
    "if macosx_dir.exists():\n",
    "    shutil.rmtree(macosx_dir, ignore_errors=True)"
   ]
  },
  {
   "cell_type": "code",
   "execution_count": 12,
   "metadata": {},
   "outputs": [],
   "source": [
    "# Now move all contents from download_path / train to download_path\n",
    "\n",
    "for file in inner_zips.iterdir():\n",
    "    shutil.move(file, download_path)"
   ]
  },
  {
   "cell_type": "code",
   "execution_count": 13,
   "metadata": {},
   "outputs": [],
   "source": [
    "# Now remove download_path / train\n",
    "shutil.rmtree(inner_zips, ignore_errors=True)"
   ]
  },
  {
   "cell_type": "code",
   "execution_count": 15,
   "metadata": {},
   "outputs": [],
   "source": [
    "# Now extract download_path / train_databases.zip to download_path / train_databases\n",
    "with ZipFile(inner_zip_file, \"r\") as zip_ref:\n",
    "    zip_ref.extractall(unzip_dir)\n",
    "\n",
    "os.remove(inner_zip_file)"
   ]
  },
  {
   "cell_type": "code",
   "execution_count": 17,
   "metadata": {},
   "outputs": [],
   "source": [
    "# Now delete __MACOSX inside download_path / train_databases\n",
    "\n",
    "if inner_macosx_dir.exists():\n",
    "    shutil.rmtree(inner_macosx_dir, ignore_errors=True)"
   ]
  },
  {
   "cell_type": "code",
   "execution_count": 19,
   "metadata": {},
   "outputs": [
    {
     "data": {
      "text/plain": [
       "PosixPath('data/bird/train/tmp')"
      ]
     },
     "execution_count": 19,
     "metadata": {},
     "output_type": "execute_result"
    }
   ],
   "source": [
    "inner_train_databases = unzip_dir / \"train_databases\"\n",
    "\n",
    "# first rename download_path / train_databases to download_path / tmp\n",
    "# then move the folder inside download_path / tmp to download_path \n",
    "# and delete download_path / tmp\n",
    "\n",
    "tmp_dir = download_path / \"tmp\"\n",
    "inner_train_databases.rename(tmp_dir)"
   ]
  },
  {
   "cell_type": "code",
   "execution_count": 22,
   "metadata": {},
   "outputs": [],
   "source": [
    "if unzip_dir.exists():\n",
    "    shutil.rmtree(unzip_dir, ignore_errors=True)"
   ]
  },
  {
   "cell_type": "code",
   "execution_count": 23,
   "metadata": {},
   "outputs": [
    {
     "data": {
      "text/plain": [
       "PosixPath('data/bird/train/train_databases')"
      ]
     },
     "execution_count": 23,
     "metadata": {},
     "output_type": "execute_result"
    }
   ],
   "source": [
    "# Now rename tmp back to train_databases\n",
    "tmp_dir.rename(unzip_dir)"
   ]
  },
  {
   "cell_type": "code",
   "execution_count": null,
   "metadata": {},
   "outputs": [],
   "source": []
  }
 ],
 "metadata": {
  "kernelspec": {
   "display_name": "deep",
   "language": "python",
   "name": "python3"
  },
  "language_info": {
   "codemirror_mode": {
    "name": "ipython",
    "version": 3
   },
   "file_extension": ".py",
   "mimetype": "text/x-python",
   "name": "python",
   "nbconvert_exporter": "python",
   "pygments_lexer": "ipython3",
   "version": "3.10.14"
  }
 },
 "nbformat": 4,
 "nbformat_minor": 2
}
